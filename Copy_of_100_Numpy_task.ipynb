{
  "cells": [
    {
      "cell_type": "markdown",
      "metadata": {
        "id": "view-in-github",
        "colab_type": "text"
      },
      "source": [
        "<a href=\"https://colab.research.google.com/github/PriyaAnbalagan2027/Data-science-/blob/main/Copy_of_100_Numpy_task.ipynb\" target=\"_parent\"><img src=\"https://colab.research.google.com/assets/colab-badge.svg\" alt=\"Open In Colab\"/></a>"
      ]
    },
    {
      "cell_type": "markdown",
      "metadata": {
        "id": "f44a2f2b"
      },
      "source": [
        "# 100 numpy exercises\n"
      ],
      "id": "f44a2f2b"
    },
    {
      "cell_type": "markdown",
      "metadata": {
        "id": "7zSt7n6-MuGR"
      },
      "source": [],
      "id": "7zSt7n6-MuGR"
    },
    {
      "cell_type": "markdown",
      "metadata": {
        "id": "0fe3d529"
      },
      "source": [
        "File automatically generated. See the documentation to update questions/answers/hints programmatically."
      ],
      "id": "0fe3d529"
    },
    {
      "cell_type": "markdown",
      "metadata": {
        "id": "23296a93"
      },
      "source": [
        "Run the `initialize.py` module, then for each question you can query the\n",
        "answer or an hint with `hint(n)` or `answer(n)` for `n` question number."
      ],
      "id": "23296a93"
    },
    {
      "cell_type": "code",
      "execution_count": null,
      "metadata": {
        "id": "530390cf"
      },
      "outputs": [],
      "source": [
        "%run initialise.py"
      ],
      "id": "530390cf"
    },
    {
      "cell_type": "markdown",
      "metadata": {
        "id": "96443564"
      },
      "source": [
        "#### 1. Import the numpy package under the name `np` (★☆☆)"
      ],
      "id": "96443564"
    },
    {
      "cell_type": "code",
      "execution_count": null,
      "metadata": {
        "id": "ffe1047e"
      },
      "outputs": [],
      "source": [
        "import numpy as np"
      ],
      "id": "ffe1047e"
    },
    {
      "cell_type": "markdown",
      "metadata": {
        "id": "c807bf1d"
      },
      "source": [
        "#### 2. Print the numpy version and the configuration (★☆☆)"
      ],
      "id": "c807bf1d"
    },
    {
      "cell_type": "code",
      "execution_count": null,
      "metadata": {
        "colab": {
          "base_uri": "https://localhost:8080/"
        },
        "id": "f396b717",
        "outputId": "b3180f11-5837-4721-ffdd-30af7b98a607"
      },
      "outputs": [
        {
          "name": "stdout",
          "output_type": "stream",
          "text": [
            "1.23.5\n",
            "openblas64__info:\n",
            "    libraries = ['openblas64_', 'openblas64_']\n",
            "    library_dirs = ['/usr/local/lib']\n",
            "    language = c\n",
            "    define_macros = [('HAVE_CBLAS', None), ('BLAS_SYMBOL_SUFFIX', '64_'), ('HAVE_BLAS_ILP64', None)]\n",
            "    runtime_library_dirs = ['/usr/local/lib']\n",
            "blas_ilp64_opt_info:\n",
            "    libraries = ['openblas64_', 'openblas64_']\n",
            "    library_dirs = ['/usr/local/lib']\n",
            "    language = c\n",
            "    define_macros = [('HAVE_CBLAS', None), ('BLAS_SYMBOL_SUFFIX', '64_'), ('HAVE_BLAS_ILP64', None)]\n",
            "    runtime_library_dirs = ['/usr/local/lib']\n",
            "openblas64__lapack_info:\n",
            "    libraries = ['openblas64_', 'openblas64_']\n",
            "    library_dirs = ['/usr/local/lib']\n",
            "    language = c\n",
            "    define_macros = [('HAVE_CBLAS', None), ('BLAS_SYMBOL_SUFFIX', '64_'), ('HAVE_BLAS_ILP64', None), ('HAVE_LAPACKE', None)]\n",
            "    runtime_library_dirs = ['/usr/local/lib']\n",
            "lapack_ilp64_opt_info:\n",
            "    libraries = ['openblas64_', 'openblas64_']\n",
            "    library_dirs = ['/usr/local/lib']\n",
            "    language = c\n",
            "    define_macros = [('HAVE_CBLAS', None), ('BLAS_SYMBOL_SUFFIX', '64_'), ('HAVE_BLAS_ILP64', None), ('HAVE_LAPACKE', None)]\n",
            "    runtime_library_dirs = ['/usr/local/lib']\n",
            "Supported SIMD extensions in this NumPy install:\n",
            "    baseline = SSE,SSE2,SSE3\n",
            "    found = SSSE3,SSE41,POPCNT,SSE42,AVX,F16C,FMA3,AVX2\n",
            "    not found = AVX512F,AVX512CD,AVX512_KNL,AVX512_KNM,AVX512_SKX,AVX512_CLX,AVX512_CNL,AVX512_ICL\n"
          ]
        }
      ],
      "source": [
        "print(np.__version__)\n",
        "np.show_config()"
      ],
      "id": "f396b717"
    },
    {
      "cell_type": "markdown",
      "metadata": {
        "id": "572c1bdb"
      },
      "source": [
        "#### 3. Create a null vector of size 10 (★☆☆)"
      ],
      "id": "572c1bdb"
    },
    {
      "cell_type": "code",
      "execution_count": null,
      "metadata": {
        "colab": {
          "base_uri": "https://localhost:8080/"
        },
        "id": "31c9f6a5",
        "outputId": "30dfc341-b35a-43aa-fca0-391371259033"
      },
      "outputs": [
        {
          "name": "stdout",
          "output_type": "stream",
          "text": [
            "[0. 0. 0. 0. 0. 0. 0. 0. 0. 0.]\n"
          ]
        }
      ],
      "source": [
        "Z = np.zeros(10)\n",
        "print(Z)"
      ],
      "id": "31c9f6a5"
    },
    {
      "cell_type": "markdown",
      "metadata": {
        "id": "337e6e36"
      },
      "source": [
        "#### 4. How to find the memory size of any array (★☆☆)"
      ],
      "id": "337e6e36"
    },
    {
      "cell_type": "code",
      "execution_count": null,
      "metadata": {
        "colab": {
          "base_uri": "https://localhost:8080/"
        },
        "id": "31e8ec2e",
        "outputId": "7c2ab719-f450-4def-f94d-8d4a17231785"
      },
      "outputs": [
        {
          "name": "stdout",
          "output_type": "stream",
          "text": [
            "800 bytes\n"
          ]
        }
      ],
      "source": [
        "Z = np.zeros((10,10))\n",
        "print(\"%d bytes\" % (Z.size * Z.itemsize))"
      ],
      "id": "31e8ec2e"
    },
    {
      "cell_type": "markdown",
      "metadata": {
        "id": "166079c8"
      },
      "source": [
        "#### 5. How to get the documentation of the numpy add function from the command line? (★☆☆)"
      ],
      "id": "166079c8"
    },
    {
      "cell_type": "code",
      "execution_count": null,
      "metadata": {
        "colab": {
          "base_uri": "https://localhost:8080/",
          "height": 897
        },
        "id": "593cd80f",
        "outputId": "286ec645-d912-4691-9544-a2036d09c0cc"
      },
      "outputs": [
        {
          "ename": "Exception",
          "evalue": "ignored",
          "output_type": "error",
          "traceback": [
            "\u001b[0;31m---------------------------------------------------------------------------\u001b[0m",
            "\u001b[0;31mOSError\u001b[0m                                   Traceback (most recent call last)",
            "\u001b[0;32m/usr/local/lib/python3.10/dist-packages/IPython/core/magics/execution.py\u001b[0m in \u001b[0;36mrun\u001b[0;34m(self, parameter_s, runner, file_finder)\u001b[0m\n\u001b[1;32m    713\u001b[0m             \u001b[0mfpath\u001b[0m \u001b[0;34m=\u001b[0m \u001b[0marg_lst\u001b[0m\u001b[0;34m[\u001b[0m\u001b[0;36m0\u001b[0m\u001b[0;34m]\u001b[0m\u001b[0;34m\u001b[0m\u001b[0;34m\u001b[0m\u001b[0m\n\u001b[0;32m--> 714\u001b[0;31m             \u001b[0mfilename\u001b[0m \u001b[0;34m=\u001b[0m \u001b[0mfile_finder\u001b[0m\u001b[0;34m(\u001b[0m\u001b[0mfpath\u001b[0m\u001b[0;34m)\u001b[0m\u001b[0;34m\u001b[0m\u001b[0;34m\u001b[0m\u001b[0m\n\u001b[0m\u001b[1;32m    715\u001b[0m         \u001b[0;32mexcept\u001b[0m \u001b[0mIndexError\u001b[0m\u001b[0;34m:\u001b[0m\u001b[0;34m\u001b[0m\u001b[0;34m\u001b[0m\u001b[0m\n",
            "\u001b[0;32m/usr/local/lib/python3.10/dist-packages/IPython/utils/path.py\u001b[0m in \u001b[0;36mget_py_filename\u001b[0;34m(name, force_win32)\u001b[0m\n\u001b[1;32m    108\u001b[0m     \u001b[0;32melse\u001b[0m\u001b[0;34m:\u001b[0m\u001b[0;34m\u001b[0m\u001b[0;34m\u001b[0m\u001b[0m\n\u001b[0;32m--> 109\u001b[0;31m         \u001b[0;32mraise\u001b[0m \u001b[0mIOError\u001b[0m\u001b[0;34m(\u001b[0m\u001b[0;34m'File `%r` not found.'\u001b[0m \u001b[0;34m%\u001b[0m \u001b[0mname\u001b[0m\u001b[0;34m)\u001b[0m\u001b[0;34m\u001b[0m\u001b[0;34m\u001b[0m\u001b[0m\n\u001b[0m\u001b[1;32m    110\u001b[0m \u001b[0;34m\u001b[0m\u001b[0m\n",
            "\u001b[0;31mOSError\u001b[0m: File `'`python.py'` not found.",
            "\nDuring handling of the above exception, another exception occurred:\n",
            "\u001b[0;31mException\u001b[0m                                 Traceback (most recent call last)",
            "\u001b[0;32m<ipython-input-14-dc2fb15b21bc>\u001b[0m in \u001b[0;36m<cell line: 1>\u001b[0;34m()\u001b[0m\n\u001b[0;32m----> 1\u001b[0;31m \u001b[0mget_ipython\u001b[0m\u001b[0;34m(\u001b[0m\u001b[0;34m)\u001b[0m\u001b[0;34m.\u001b[0m\u001b[0mrun_line_magic\u001b[0m\u001b[0;34m(\u001b[0m\u001b[0;34m'run'\u001b[0m\u001b[0;34m,\u001b[0m \u001b[0;34m'`python -c \"import numpy; numpy.info(numpy.add)\"`'\u001b[0m\u001b[0;34m)\u001b[0m\u001b[0;34m\u001b[0m\u001b[0;34m\u001b[0m\u001b[0m\n\u001b[0m",
            "\u001b[0;32m/usr/local/lib/python3.10/dist-packages/IPython/core/interactiveshell.py\u001b[0m in \u001b[0;36mrun_line_magic\u001b[0;34m(self, magic_name, line, _stack_depth)\u001b[0m\n\u001b[1;32m   2416\u001b[0m                 \u001b[0mkwargs\u001b[0m\u001b[0;34m[\u001b[0m\u001b[0;34m'local_ns'\u001b[0m\u001b[0;34m]\u001b[0m \u001b[0;34m=\u001b[0m \u001b[0mself\u001b[0m\u001b[0;34m.\u001b[0m\u001b[0mget_local_scope\u001b[0m\u001b[0;34m(\u001b[0m\u001b[0mstack_depth\u001b[0m\u001b[0;34m)\u001b[0m\u001b[0;34m\u001b[0m\u001b[0;34m\u001b[0m\u001b[0m\n\u001b[1;32m   2417\u001b[0m             \u001b[0;32mwith\u001b[0m \u001b[0mself\u001b[0m\u001b[0;34m.\u001b[0m\u001b[0mbuiltin_trap\u001b[0m\u001b[0;34m:\u001b[0m\u001b[0;34m\u001b[0m\u001b[0;34m\u001b[0m\u001b[0m\n\u001b[0;32m-> 2418\u001b[0;31m                 \u001b[0mresult\u001b[0m \u001b[0;34m=\u001b[0m \u001b[0mfn\u001b[0m\u001b[0;34m(\u001b[0m\u001b[0;34m*\u001b[0m\u001b[0margs\u001b[0m\u001b[0;34m,\u001b[0m \u001b[0;34m**\u001b[0m\u001b[0mkwargs\u001b[0m\u001b[0;34m)\u001b[0m\u001b[0;34m\u001b[0m\u001b[0;34m\u001b[0m\u001b[0m\n\u001b[0m\u001b[1;32m   2419\u001b[0m             \u001b[0;32mreturn\u001b[0m \u001b[0mresult\u001b[0m\u001b[0;34m\u001b[0m\u001b[0;34m\u001b[0m\u001b[0m\n\u001b[1;32m   2420\u001b[0m \u001b[0;34m\u001b[0m\u001b[0m\n",
            "\u001b[0;32m<decorator-gen-52>\u001b[0m in \u001b[0;36mrun\u001b[0;34m(self, parameter_s, runner, file_finder)\u001b[0m\n",
            "\u001b[0;32m/usr/local/lib/python3.10/dist-packages/IPython/core/magic.py\u001b[0m in \u001b[0;36m<lambda>\u001b[0;34m(f, *a, **k)\u001b[0m\n\u001b[1;32m    185\u001b[0m     \u001b[0;31m# but it's overkill for just that one bit of state.\u001b[0m\u001b[0;34m\u001b[0m\u001b[0;34m\u001b[0m\u001b[0m\n\u001b[1;32m    186\u001b[0m     \u001b[0;32mdef\u001b[0m \u001b[0mmagic_deco\u001b[0m\u001b[0;34m(\u001b[0m\u001b[0marg\u001b[0m\u001b[0;34m)\u001b[0m\u001b[0;34m:\u001b[0m\u001b[0;34m\u001b[0m\u001b[0;34m\u001b[0m\u001b[0m\n\u001b[0;32m--> 187\u001b[0;31m         \u001b[0mcall\u001b[0m \u001b[0;34m=\u001b[0m \u001b[0;32mlambda\u001b[0m \u001b[0mf\u001b[0m\u001b[0;34m,\u001b[0m \u001b[0;34m*\u001b[0m\u001b[0ma\u001b[0m\u001b[0;34m,\u001b[0m \u001b[0;34m**\u001b[0m\u001b[0mk\u001b[0m\u001b[0;34m:\u001b[0m \u001b[0mf\u001b[0m\u001b[0;34m(\u001b[0m\u001b[0;34m*\u001b[0m\u001b[0ma\u001b[0m\u001b[0;34m,\u001b[0m \u001b[0;34m**\u001b[0m\u001b[0mk\u001b[0m\u001b[0;34m)\u001b[0m\u001b[0;34m\u001b[0m\u001b[0;34m\u001b[0m\u001b[0m\n\u001b[0m\u001b[1;32m    188\u001b[0m \u001b[0;34m\u001b[0m\u001b[0m\n\u001b[1;32m    189\u001b[0m         \u001b[0;32mif\u001b[0m \u001b[0mcallable\u001b[0m\u001b[0;34m(\u001b[0m\u001b[0marg\u001b[0m\u001b[0;34m)\u001b[0m\u001b[0;34m:\u001b[0m\u001b[0;34m\u001b[0m\u001b[0;34m\u001b[0m\u001b[0m\n",
            "\u001b[0;32m/usr/local/lib/python3.10/dist-packages/IPython/core/magics/execution.py\u001b[0m in \u001b[0;36mrun\u001b[0;34m(self, parameter_s, runner, file_finder)\u001b[0m\n\u001b[1;32m    723\u001b[0m             \u001b[0;32mif\u001b[0m \u001b[0mos\u001b[0m\u001b[0;34m.\u001b[0m\u001b[0mname\u001b[0m \u001b[0;34m==\u001b[0m \u001b[0;34m'nt'\u001b[0m \u001b[0;32mand\u001b[0m \u001b[0mre\u001b[0m\u001b[0;34m.\u001b[0m\u001b[0mmatch\u001b[0m\u001b[0;34m(\u001b[0m\u001b[0;34mr\"^'.*'$\"\u001b[0m\u001b[0;34m,\u001b[0m\u001b[0mfpath\u001b[0m\u001b[0;34m)\u001b[0m\u001b[0;34m:\u001b[0m\u001b[0;34m\u001b[0m\u001b[0;34m\u001b[0m\u001b[0m\n\u001b[1;32m    724\u001b[0m                 \u001b[0mwarn\u001b[0m\u001b[0;34m(\u001b[0m\u001b[0;34m'For Windows, use double quotes to wrap a filename: %run \"mypath\\\\myfile.py\"'\u001b[0m\u001b[0;34m)\u001b[0m\u001b[0;34m\u001b[0m\u001b[0;34m\u001b[0m\u001b[0m\n\u001b[0;32m--> 725\u001b[0;31m             \u001b[0;32mraise\u001b[0m \u001b[0mException\u001b[0m\u001b[0;34m(\u001b[0m\u001b[0mmsg\u001b[0m\u001b[0;34m)\u001b[0m\u001b[0;34m\u001b[0m\u001b[0;34m\u001b[0m\u001b[0m\n\u001b[0m\u001b[1;32m    726\u001b[0m         \u001b[0;32mexcept\u001b[0m \u001b[0mTypeError\u001b[0m\u001b[0;34m:\u001b[0m\u001b[0;34m\u001b[0m\u001b[0;34m\u001b[0m\u001b[0m\n\u001b[1;32m    727\u001b[0m             \u001b[0;32mif\u001b[0m \u001b[0mfpath\u001b[0m \u001b[0;32min\u001b[0m \u001b[0msys\u001b[0m\u001b[0;34m.\u001b[0m\u001b[0mmeta_path\u001b[0m\u001b[0;34m:\u001b[0m\u001b[0;34m\u001b[0m\u001b[0;34m\u001b[0m\u001b[0m\n",
            "\u001b[0;31mException\u001b[0m: File `'`python.py'` not found."
          ]
        }
      ],
      "source": [
        "%run `python -c \"import numpy; numpy.info(numpy.add)\"`"
      ],
      "id": "593cd80f"
    },
    {
      "cell_type": "markdown",
      "metadata": {
        "id": "3add7101"
      },
      "source": [
        "#### 6. Create a null vector of size 10 but the fifth value which is 1 (★☆☆)"
      ],
      "id": "3add7101"
    },
    {
      "cell_type": "code",
      "execution_count": null,
      "metadata": {
        "colab": {
          "base_uri": "https://localhost:8080/"
        },
        "id": "2edf3c42",
        "outputId": "5ded9a99-b157-4230-88bf-3ba8d29e978e"
      },
      "outputs": [
        {
          "name": "stdout",
          "output_type": "stream",
          "text": [
            "[0. 0. 0. 0. 1. 0. 0. 0. 0. 0.]\n"
          ]
        }
      ],
      "source": [
        "Z = np.zeros(10)\n",
        "Z[4] = 1\n",
        "print(Z)"
      ],
      "id": "2edf3c42"
    },
    {
      "cell_type": "markdown",
      "metadata": {
        "id": "cfc46304"
      },
      "source": [
        "#### 7. Create a vector with values ranging from 10 to 49 (★☆☆)"
      ],
      "id": "cfc46304"
    },
    {
      "cell_type": "code",
      "execution_count": null,
      "metadata": {
        "colab": {
          "base_uri": "https://localhost:8080/"
        },
        "id": "d8b86640",
        "outputId": "e570942d-9382-4c91-dd71-4fc0b54aeb62"
      },
      "outputs": [
        {
          "name": "stdout",
          "output_type": "stream",
          "text": [
            "[10 11 12 13 14 15 16 17 18 19 20 21 22 23 24 25 26 27 28 29 30 31 32 33\n",
            " 34 35 36 37 38 39 40 41 42 43 44 45 46 47 48 49]\n"
          ]
        }
      ],
      "source": [
        "Z = np.arange(10,50)\n",
        "print(Z)"
      ],
      "id": "d8b86640"
    },
    {
      "cell_type": "markdown",
      "metadata": {
        "id": "0cc200be"
      },
      "source": [
        "#### 8. Reverse a vector (first element becomes last) (★☆☆)"
      ],
      "id": "0cc200be"
    },
    {
      "cell_type": "code",
      "execution_count": null,
      "metadata": {
        "colab": {
          "base_uri": "https://localhost:8080/"
        },
        "id": "ec044bb5",
        "outputId": "f5d4349d-f854-42da-bd24-d90435c209d7"
      },
      "outputs": [
        {
          "name": "stdout",
          "output_type": "stream",
          "text": [
            "[49 48 47 46 45 44 43 42 41 40 39 38 37 36 35 34 33 32 31 30 29 28 27 26\n",
            " 25 24 23 22 21 20 19 18 17 16 15 14 13 12 11 10  9  8  7  6  5  4  3  2\n",
            "  1  0]\n"
          ]
        }
      ],
      "source": [
        "Z = np.arange(50)\n",
        "Z = Z[::-1]\n",
        "print(Z)"
      ],
      "id": "ec044bb5"
    },
    {
      "cell_type": "markdown",
      "metadata": {
        "id": "29d9ede4"
      },
      "source": [
        "#### 9. Create a 3x3 matrix with values ranging from 0 to 8 (★☆☆)"
      ],
      "id": "29d9ede4"
    },
    {
      "cell_type": "code",
      "execution_count": null,
      "metadata": {
        "id": "d9e39043"
      },
      "outputs": [],
      "source": [
        "Z = np.arange(9).reshape(3,3)\n",
        "print(Z)"
      ],
      "id": "d9e39043"
    },
    {
      "cell_type": "markdown",
      "metadata": {
        "id": "88905ceb"
      },
      "source": [
        "#### 10. Find indices of non-zero elements from [1,2,0,0,4,0] (★☆☆)"
      ],
      "id": "88905ceb"
    },
    {
      "cell_type": "code",
      "execution_count": null,
      "metadata": {
        "colab": {
          "base_uri": "https://localhost:8080/"
        },
        "id": "b2f3c90a",
        "outputId": "02bc535f-e310-4724-c300-d93ae836a1f0"
      },
      "outputs": [
        {
          "name": "stdout",
          "output_type": "stream",
          "text": [
            "(array([0, 1, 4]),)\n"
          ]
        }
      ],
      "source": [
        "nz = np.nonzero([1,2,0,0,4,0])\n",
        "print(nz)"
      ],
      "id": "b2f3c90a"
    },
    {
      "cell_type": "markdown",
      "metadata": {
        "id": "49603e91"
      },
      "source": [
        "#### 11. Create a 3x3 identity matrix (★☆☆)"
      ],
      "id": "49603e91"
    },
    {
      "cell_type": "code",
      "execution_count": null,
      "metadata": {
        "colab": {
          "base_uri": "https://localhost:8080/"
        },
        "id": "5b607b5c",
        "outputId": "029bb5ab-eed5-4054-be2f-b23dcbc7c6a7"
      },
      "outputs": [
        {
          "name": "stdout",
          "output_type": "stream",
          "text": [
            "[[1. 0. 0.]\n",
            " [0. 1. 0.]\n",
            " [0. 0. 1.]]\n"
          ]
        }
      ],
      "source": [
        "Z = np.eye(3)\n",
        "print(Z)"
      ],
      "id": "5b607b5c"
    },
    {
      "cell_type": "markdown",
      "metadata": {
        "id": "e15c249a"
      },
      "source": [
        "#### 12. Create a 3x3x3 array with random values (★☆☆)"
      ],
      "id": "e15c249a"
    },
    {
      "cell_type": "code",
      "execution_count": null,
      "metadata": {
        "colab": {
          "base_uri": "https://localhost:8080/"
        },
        "id": "ab21ed50",
        "outputId": "6b66fee8-5443-4cb8-a801-772cbda6ee27"
      },
      "outputs": [
        {
          "name": "stdout",
          "output_type": "stream",
          "text": [
            "[[[0.91956769 0.52534337 0.18017864]\n",
            "  [0.92871189 0.39361015 0.37890345]\n",
            "  [0.10760739 0.03339791 0.03000976]]\n",
            "\n",
            " [[0.40697163 0.16658196 0.58075902]\n",
            "  [0.22296901 0.48956373 0.0035243 ]\n",
            "  [0.7530177  0.19690935 0.09983214]]\n",
            "\n",
            " [[0.80417476 0.02512312 0.72913882]\n",
            "  [0.89586206 0.60342324 0.39839113]\n",
            "  [0.70525402 0.09452983 0.34445272]]]\n"
          ]
        }
      ],
      "source": [
        "Z = np.random.random((3,3,3))\n",
        "print(Z)"
      ],
      "id": "ab21ed50"
    },
    {
      "cell_type": "markdown",
      "metadata": {
        "id": "157a129c"
      },
      "source": [
        "#### 13. Create a 10x10 array with random values and find the minimum and maximum values (★☆☆)"
      ],
      "id": "157a129c"
    },
    {
      "cell_type": "code",
      "execution_count": null,
      "metadata": {
        "colab": {
          "base_uri": "https://localhost:8080/"
        },
        "id": "c0066de5",
        "outputId": "c472e19d-eb98-4851-e2de-6c6cd05946bb"
      },
      "outputs": [
        {
          "name": "stdout",
          "output_type": "stream",
          "text": [
            "0.022194461625381523 0.9623211994923668\n"
          ]
        }
      ],
      "source": [
        "Z = np.random.random((10,10))\n",
        "Zmin, Zmax = Z.min(), Z.max()\n",
        "print(Zmin, Zmax)"
      ],
      "id": "c0066de5"
    },
    {
      "cell_type": "markdown",
      "metadata": {
        "id": "d92d7b32"
      },
      "source": [
        "#### 14. Create a random vector of size 30 and find the mean value (★☆☆)"
      ],
      "id": "d92d7b32"
    },
    {
      "cell_type": "code",
      "execution_count": null,
      "metadata": {
        "colab": {
          "base_uri": "https://localhost:8080/"
        },
        "id": "9672d023",
        "outputId": "da5f646e-83cb-4955-e35d-42e973cece0d"
      },
      "outputs": [
        {
          "name": "stdout",
          "output_type": "stream",
          "text": [
            "0.47181951237958314\n"
          ]
        }
      ],
      "source": [
        "Z = np.random.random(30)\n",
        "m = Z.mean()\n",
        "print(m)"
      ],
      "id": "9672d023"
    },
    {
      "cell_type": "markdown",
      "metadata": {
        "id": "f361efc0"
      },
      "source": [
        "#### 15. Create a 2d array with 1 on the border and 0 inside (★☆☆)"
      ],
      "id": "f361efc0"
    },
    {
      "cell_type": "code",
      "execution_count": null,
      "metadata": {
        "colab": {
          "base_uri": "https://localhost:8080/"
        },
        "id": "a55b6666",
        "outputId": "095f2b6e-c490-4f3c-cb09-4d52f0688bb1"
      },
      "outputs": [
        {
          "name": "stdout",
          "output_type": "stream",
          "text": [
            "[[1. 1. 1. 1. 1. 1. 1. 1. 1. 1.]\n",
            " [1. 0. 0. 0. 0. 0. 0. 0. 0. 1.]\n",
            " [1. 0. 0. 0. 0. 0. 0. 0. 0. 1.]\n",
            " [1. 0. 0. 0. 0. 0. 0. 0. 0. 1.]\n",
            " [1. 0. 0. 0. 0. 0. 0. 0. 0. 1.]\n",
            " [1. 0. 0. 0. 0. 0. 0. 0. 0. 1.]\n",
            " [1. 0. 0. 0. 0. 0. 0. 0. 0. 1.]\n",
            " [1. 0. 0. 0. 0. 0. 0. 0. 0. 1.]\n",
            " [1. 0. 0. 0. 0. 0. 0. 0. 0. 1.]\n",
            " [1. 1. 1. 1. 1. 1. 1. 1. 1. 1.]]\n"
          ]
        }
      ],
      "source": [
        "Z = np.ones((10,10))\n",
        "Z[1:-1,1:-1] = 0\n",
        "print(Z)"
      ],
      "id": "a55b6666"
    },
    {
      "cell_type": "markdown",
      "metadata": {
        "id": "475808cb"
      },
      "source": [
        "#### 16. How to add a border (filled with 0's) around an existing array? (★☆☆)"
      ],
      "id": "475808cb"
    },
    {
      "cell_type": "code",
      "execution_count": null,
      "metadata": {
        "colab": {
          "base_uri": "https://localhost:8080/"
        },
        "id": "b2df3a8a",
        "outputId": "0a52cd78-1989-413e-b39e-2e3681947725"
      },
      "outputs": [
        {
          "name": "stdout",
          "output_type": "stream",
          "text": [
            "[[0. 0. 0. 0. 0. 0. 0.]\n",
            " [0. 1. 1. 1. 1. 1. 0.]\n",
            " [0. 1. 1. 1. 1. 1. 0.]\n",
            " [0. 1. 1. 1. 1. 1. 0.]\n",
            " [0. 1. 1. 1. 1. 1. 0.]\n",
            " [0. 1. 1. 1. 1. 1. 0.]\n",
            " [0. 0. 0. 0. 0. 0. 0.]]\n"
          ]
        }
      ],
      "source": [
        "Z = np.ones((5,5))\n",
        "Z = np.pad(Z, pad_width=1, mode='constant', constant_values=0)\n",
        "print(Z)"
      ],
      "id": "b2df3a8a"
    },
    {
      "cell_type": "markdown",
      "metadata": {
        "id": "1af07d85"
      },
      "source": [
        "#### 17. What is the result of the following expression? (★☆☆)\n",
        "```python\n",
        "0 * np.nan\n",
        "np.nan == np.nan\n",
        "np.inf > np.nan\n",
        "np.nan - np.nan\n",
        "np.nan in set([np.nan])\n",
        "0.3 == 3 * 0.1\n",
        "```"
      ],
      "id": "1af07d85"
    },
    {
      "cell_type": "code",
      "execution_count": null,
      "metadata": {
        "colab": {
          "base_uri": "https://localhost:8080/"
        },
        "id": "109cf327",
        "outputId": "47921d29-f703-4494-afd7-ae16657768b1"
      },
      "outputs": [
        {
          "name": "stdout",
          "output_type": "stream",
          "text": [
            "nan\n",
            "False\n",
            "False\n",
            "nan\n",
            "True\n",
            "False\n"
          ]
        }
      ],
      "source": [
        "print(0 * np.nan)\n",
        "print(np.nan == np.nan)\n",
        "print(np.inf > np.nan)\n",
        "print(np.nan - np.nan)\n",
        "print(np.nan in set([np.nan]))\n",
        "print(0.3 == 3 * 0.1)"
      ],
      "id": "109cf327"
    },
    {
      "cell_type": "markdown",
      "metadata": {
        "id": "6a235316"
      },
      "source": [
        "#### 18. Create a 5x5 matrix with values 1,2,3,4 just below the diagonal (★☆☆)"
      ],
      "id": "6a235316"
    },
    {
      "cell_type": "code",
      "execution_count": null,
      "metadata": {
        "colab": {
          "base_uri": "https://localhost:8080/"
        },
        "id": "f2e6cfa6",
        "outputId": "ca36b2a7-430b-438b-fb14-c4ec5abed8f6"
      },
      "outputs": [
        {
          "name": "stdout",
          "output_type": "stream",
          "text": [
            "[[0 0 0 0 0]\n",
            " [1 0 0 0 0]\n",
            " [0 2 0 0 0]\n",
            " [0 0 3 0 0]\n",
            " [0 0 0 4 0]]\n"
          ]
        }
      ],
      "source": [
        "Z = np.diag(1+np.arange(4),k=-1)\n",
        "print(Z)"
      ],
      "id": "f2e6cfa6"
    },
    {
      "cell_type": "markdown",
      "metadata": {
        "id": "25362e98"
      },
      "source": [
        "#### 19. Create a 8x8 matrix and fill it with a checkerboard pattern (★☆☆)"
      ],
      "id": "25362e98"
    },
    {
      "cell_type": "code",
      "execution_count": null,
      "metadata": {
        "colab": {
          "base_uri": "https://localhost:8080/"
        },
        "id": "cabdf298",
        "outputId": "a7e5afb7-6add-40c3-c608-be34201b2bda"
      },
      "outputs": [
        {
          "name": "stdout",
          "output_type": "stream",
          "text": [
            "[[0 1 0 1 0 1 0 1]\n",
            " [1 0 1 0 1 0 1 0]\n",
            " [0 1 0 1 0 1 0 1]\n",
            " [1 0 1 0 1 0 1 0]\n",
            " [0 1 0 1 0 1 0 1]\n",
            " [1 0 1 0 1 0 1 0]\n",
            " [0 1 0 1 0 1 0 1]\n",
            " [1 0 1 0 1 0 1 0]]\n"
          ]
        }
      ],
      "source": [
        "Z = np.zeros((8,8),dtype=int)\n",
        "Z[1::2,::2] = 1\n",
        "Z[::2,1::2] = 1\n",
        "print(Z)"
      ],
      "id": "cabdf298"
    },
    {
      "cell_type": "markdown",
      "metadata": {
        "id": "6431e977"
      },
      "source": [
        "#### 20. Consider a (6,7,8) shape array, what is the index (x,y,z) of the 100th element? (★☆☆)"
      ],
      "id": "6431e977"
    },
    {
      "cell_type": "code",
      "execution_count": null,
      "metadata": {
        "colab": {
          "base_uri": "https://localhost:8080/"
        },
        "id": "de8b0245",
        "outputId": "3b443c28-c780-42d9-e307-421331529ba6"
      },
      "outputs": [
        {
          "name": "stdout",
          "output_type": "stream",
          "text": [
            "(1, 5, 4)\n"
          ]
        }
      ],
      "source": [
        "print(np.unravel_index(100,(6,7,8)))"
      ],
      "id": "de8b0245"
    },
    {
      "cell_type": "markdown",
      "metadata": {
        "id": "31abe6fe"
      },
      "source": [
        "#### 21. Create a checkerboard 8x8 matrix using the tile function (★☆☆)"
      ],
      "id": "31abe6fe"
    },
    {
      "cell_type": "code",
      "execution_count": null,
      "metadata": {
        "colab": {
          "base_uri": "https://localhost:8080/"
        },
        "id": "6da26fd3",
        "outputId": "18f31762-bce9-4eb4-a25a-1d080cf9a347"
      },
      "outputs": [
        {
          "name": "stdout",
          "output_type": "stream",
          "text": [
            "[[0 1 0 1 0 1 0 1]\n",
            " [1 0 1 0 1 0 1 0]\n",
            " [0 1 0 1 0 1 0 1]\n",
            " [1 0 1 0 1 0 1 0]\n",
            " [0 1 0 1 0 1 0 1]\n",
            " [1 0 1 0 1 0 1 0]\n",
            " [0 1 0 1 0 1 0 1]\n",
            " [1 0 1 0 1 0 1 0]]\n"
          ]
        }
      ],
      "source": [
        "Z = np.tile( np.array([[0,1],[1,0]]), (4,4))\n",
        "print(Z)"
      ],
      "id": "6da26fd3"
    },
    {
      "cell_type": "markdown",
      "metadata": {
        "id": "fd88b3f4"
      },
      "source": [
        "#### 22. Normalize a 5x5 random matrix (★☆☆)"
      ],
      "id": "fd88b3f4"
    },
    {
      "cell_type": "code",
      "execution_count": null,
      "metadata": {
        "colab": {
          "base_uri": "https://localhost:8080/"
        },
        "id": "ee6ced60",
        "outputId": "11a58f15-8b19-4ae2-d684-eab5ece0003d"
      },
      "outputs": [
        {
          "name": "stdout",
          "output_type": "stream",
          "text": [
            "[[-1.0534176   1.05906238  1.02831956  0.27272287 -1.38704396]\n",
            " [-0.59293821  0.95353829 -1.46791683 -1.64912121  0.86960577]\n",
            " [ 1.29413627 -1.42313347  1.23604551  0.73573968  0.08807181]\n",
            " [-0.03958786 -1.25459363 -0.34773498  0.94808411  1.10779982]\n",
            " [-0.35860625  0.12104643  0.488533    0.83515928 -1.4637708 ]]\n"
          ]
        }
      ],
      "source": [
        "Z = np.random.random((5,5))\n",
        "Z = (Z - np.mean (Z)) / (np.std (Z))\n",
        "print(Z)"
      ],
      "id": "ee6ced60"
    },
    {
      "cell_type": "markdown",
      "metadata": {
        "id": "464d8590"
      },
      "source": [
        "#### 23. Create a custom dtype that describes a color as four unsigned bytes (RGBA) (★☆☆)"
      ],
      "id": "464d8590"
    },
    {
      "cell_type": "code",
      "execution_count": null,
      "metadata": {
        "colab": {
          "base_uri": "https://localhost:8080/"
        },
        "id": "e2f9cfc6",
        "outputId": "88ec7d57-3158-4faa-a0f2-3e75b4378c78"
      },
      "outputs": [
        {
          "name": "stderr",
          "output_type": "stream",
          "text": [
            "<ipython-input-31-b9f1a6f5df9c>:1: FutureWarning: Passing (type, 1) or '1type' as a synonym of type is deprecated; in a future version of numpy, it will be understood as (type, (1,)) / '(1,)type'.\n",
            "  color = np.dtype([(\"r\", np.ubyte, 1),\n"
          ]
        }
      ],
      "source": [
        "color = np.dtype([(\"r\", np.ubyte, 1),\n",
        "                  (\"g\", np.ubyte, 1),\n",
        "                  (\"b\", np.ubyte, 1),\n",
        "                  (\"a\", np.ubyte, 1)])"
      ],
      "id": "e2f9cfc6"
    },
    {
      "cell_type": "markdown",
      "metadata": {
        "id": "06c63bb3"
      },
      "source": [
        "#### 24. Multiply a 5x3 matrix by a 3x2 matrix (real matrix product) (★☆☆)"
      ],
      "id": "06c63bb3"
    },
    {
      "cell_type": "code",
      "execution_count": null,
      "metadata": {
        "colab": {
          "base_uri": "https://localhost:8080/"
        },
        "id": "9fc0d553",
        "outputId": "3408d772-65dd-454e-fab5-c580db40b743"
      },
      "outputs": [
        {
          "name": "stdout",
          "output_type": "stream",
          "text": [
            "[[3. 3.]\n",
            " [3. 3.]\n",
            " [3. 3.]\n",
            " [3. 3.]\n",
            " [3. 3.]]\n"
          ]
        }
      ],
      "source": [
        "Z = np.dot(np.ones((5,3)), np.ones((3,2)))\n",
        "print(Z)\n",
        "\n",
        "# Alternative solution, in Python 3.5 and above\n",
        "Z = np.ones((5,3)) @ np.ones((3,2))"
      ],
      "id": "9fc0d553"
    },
    {
      "cell_type": "markdown",
      "metadata": {
        "id": "76fa6285"
      },
      "source": [
        "#### 25. Given a 1D array, negate all elements which are between 3 and 8, in place. (★☆☆)"
      ],
      "id": "76fa6285"
    },
    {
      "cell_type": "code",
      "execution_count": null,
      "metadata": {
        "colab": {
          "base_uri": "https://localhost:8080/"
        },
        "id": "0e25eca7",
        "outputId": "470d4121-02af-4965-aea7-08cf462016d2"
      },
      "outputs": [
        {
          "name": "stdout",
          "output_type": "stream",
          "text": [
            "[ 0  1  2  3 -4 -5 -6 -7 -8  9 10]\n"
          ]
        }
      ],
      "source": [
        "Z = np.arange(11)\n",
        "Z[(3 < Z) & (Z <= 8)] *= -1\n",
        "print(Z)"
      ],
      "id": "0e25eca7"
    },
    {
      "cell_type": "markdown",
      "metadata": {
        "id": "930ed8bb"
      },
      "source": [
        "#### 26. What is the output of the following script? (★☆☆)\n",
        "```python\n",
        "# Author: Jake VanderPlas\n",
        "\n",
        "print(sum(range(5),-1))\n",
        "from numpy import *\n",
        "print(sum(range(5),-1))\n",
        "```"
      ],
      "id": "930ed8bb"
    },
    {
      "cell_type": "code",
      "execution_count": null,
      "metadata": {
        "colab": {
          "base_uri": "https://localhost:8080/"
        },
        "id": "f02eedba",
        "outputId": "dcb55501-04fa-4edd-d2ef-ba2ed6cdf5fa"
      },
      "outputs": [
        {
          "name": "stdout",
          "output_type": "stream",
          "text": [
            "9\n",
            "10\n"
          ]
        }
      ],
      "source": [
        "print(sum(range(5),-1))\n",
        "from numpy import *\n",
        "print(sum(range(5),-1))"
      ],
      "id": "f02eedba"
    },
    {
      "cell_type": "markdown",
      "metadata": {
        "id": "177120e7"
      },
      "source": [
        "#### 27. Consider an integer vector Z, which of these expressions are legal? (★☆☆)\n",
        "```python\n",
        "Z**Z\n",
        "2 << Z >> 2\n",
        "Z <- Z\n",
        "1j*Z\n",
        "Z/1/1\n",
        "Z<Z>Z\n",
        "```"
      ],
      "id": "177120e7"
    },
    {
      "cell_type": "code",
      "execution_count": null,
      "metadata": {
        "colab": {
          "base_uri": "https://localhost:8080/",
          "height": 332
        },
        "id": "86d6cbef",
        "outputId": "10e8fe48-c1b3-4554-d66b-6d4d9802263f"
      },
      "outputs": [
        {
          "ename": "ValueError",
          "evalue": "ignored",
          "output_type": "error",
          "traceback": [
            "\u001b[0;31m---------------------------------------------------------------------------\u001b[0m",
            "\u001b[0;31mValueError\u001b[0m                                Traceback (most recent call last)",
            "\u001b[0;32m<ipython-input-35-4e3654d03fce>\u001b[0m in \u001b[0;36m<cell line: 1>\u001b[0;34m()\u001b[0m\n\u001b[0;32m----> 1\u001b[0;31m \u001b[0mZ\u001b[0m\u001b[0;34m**\u001b[0m\u001b[0mZ\u001b[0m\u001b[0;34m\u001b[0m\u001b[0;34m\u001b[0m\u001b[0m\n\u001b[0m\u001b[1;32m      2\u001b[0m \u001b[0;36m2\u001b[0m \u001b[0;34m<<\u001b[0m \u001b[0mZ\u001b[0m \u001b[0;34m>>\u001b[0m \u001b[0;36m2\u001b[0m\u001b[0;34m\u001b[0m\u001b[0;34m\u001b[0m\u001b[0m\n\u001b[1;32m      3\u001b[0m \u001b[0mZ\u001b[0m \u001b[0;34m<\u001b[0m\u001b[0;34m-\u001b[0m \u001b[0mZ\u001b[0m\u001b[0;34m\u001b[0m\u001b[0;34m\u001b[0m\u001b[0m\n\u001b[1;32m      4\u001b[0m \u001b[0;36m1j\u001b[0m\u001b[0;34m*\u001b[0m\u001b[0mZ\u001b[0m\u001b[0;34m\u001b[0m\u001b[0;34m\u001b[0m\u001b[0m\n\u001b[1;32m      5\u001b[0m \u001b[0mZ\u001b[0m\u001b[0;34m/\u001b[0m\u001b[0;36m1\u001b[0m\u001b[0;34m/\u001b[0m\u001b[0;36m1\u001b[0m\u001b[0;34m\u001b[0m\u001b[0;34m\u001b[0m\u001b[0m\n",
            "\u001b[0;31mValueError\u001b[0m: Integers to negative integer powers are not allowed."
          ]
        }
      ],
      "source": [
        "Z**Z\n",
        "2 << Z >> 2\n",
        "Z <- Z\n",
        "1j*Z\n",
        "Z/1/1\n",
        "Z<Z>Z"
      ],
      "id": "86d6cbef"
    },
    {
      "cell_type": "markdown",
      "metadata": {
        "id": "a6eaf0e8"
      },
      "source": [
        "#### 28. What are the result of the following expressions? (★☆☆)\n",
        "```python\n",
        "np.array(0) / np.array(0)\n",
        "np.array(0) // np.array(0)\n",
        "np.array([np.nan]).astype(int).astype(float)\n",
        "```"
      ],
      "id": "a6eaf0e8"
    },
    {
      "cell_type": "code",
      "execution_count": null,
      "metadata": {
        "colab": {
          "base_uri": "https://localhost:8080/"
        },
        "id": "93684068",
        "outputId": "29d06fe3-941c-4b28-8ccf-ac5bbf5ad7e4"
      },
      "outputs": [
        {
          "name": "stdout",
          "output_type": "stream",
          "text": [
            "nan\n",
            "0\n",
            "[-9.22337204e+18]\n"
          ]
        },
        {
          "name": "stderr",
          "output_type": "stream",
          "text": [
            "<ipython-input-36-2a10de0ee61b>:1: RuntimeWarning: invalid value encountered in divide\n",
            "  print(np.array(0) / np.array(0))\n",
            "<ipython-input-36-2a10de0ee61b>:2: RuntimeWarning: divide by zero encountered in floor_divide\n",
            "  print(np.array(0) // np.array(0))\n"
          ]
        }
      ],
      "source": [
        "print(np.array(0) / np.array(0))\n",
        "print(np.array(0) // np.array(0))\n",
        "print(np.array([np.nan]).astype(int).astype(float))"
      ],
      "id": "93684068"
    },
    {
      "cell_type": "markdown",
      "metadata": {
        "id": "524b65f8"
      },
      "source": [
        "#### 29. How to round away from zero a float array ? (★☆☆)"
      ],
      "id": "524b65f8"
    },
    {
      "cell_type": "code",
      "execution_count": null,
      "metadata": {
        "colab": {
          "base_uri": "https://localhost:8080/"
        },
        "id": "61fbb78e",
        "outputId": "c3dc2a44-6469-4fb3-aa24-5b049d7f0d90"
      },
      "outputs": [
        {
          "name": "stdout",
          "output_type": "stream",
          "text": [
            "[-2. 10.  7.  2. -1.  8. -2.  7.  4. -6.]\n"
          ]
        }
      ],
      "source": [
        "Z = np.random.uniform(-10,+10,10)\n",
        "print (np.copysign(np.ceil(np.abs(Z)), Z))"
      ],
      "id": "61fbb78e"
    },
    {
      "cell_type": "markdown",
      "metadata": {
        "id": "8dc40752"
      },
      "source": [
        "#### 30. How to find common values between two arrays? (★☆☆)"
      ],
      "id": "8dc40752"
    },
    {
      "cell_type": "code",
      "execution_count": null,
      "metadata": {
        "colab": {
          "base_uri": "https://localhost:8080/"
        },
        "id": "54399cbe",
        "outputId": "6eec693c-42c6-4c0e-aadc-b1a344059444"
      },
      "outputs": [
        {
          "name": "stdout",
          "output_type": "stream",
          "text": [
            "[0 3 6]\n"
          ]
        }
      ],
      "source": [
        "Z1 = np.random.randint(0,10,10)\n",
        "Z2 = np.random.randint(0,10,10)\n",
        "print(np.intersect1d(Z1,Z2))"
      ],
      "id": "54399cbe"
    },
    {
      "cell_type": "markdown",
      "metadata": {
        "id": "b7f38e21"
      },
      "source": [
        "#### 31. How to ignore all numpy warnings (not recommended)? (★☆☆)"
      ],
      "id": "b7f38e21"
    },
    {
      "cell_type": "code",
      "execution_count": null,
      "metadata": {
        "colab": {
          "base_uri": "https://localhost:8080/",
          "height": 176
        },
        "id": "2ca3289c",
        "outputId": "2bd80dbc-96e3-463e-e8a2-0bad6b2b8ac6"
      },
      "outputs": [
        {
          "ename": "SyntaxError",
          "evalue": "ignored",
          "output_type": "error",
          "traceback": [
            "\u001b[0;36m  File \u001b[0;32m\"<ipython-input-39-0437b6d2f8fa>\"\u001b[0;36m, line \u001b[0;32m8\u001b[0m\n\u001b[0;31m    An equivalent way, with a context manager:\u001b[0m\n\u001b[0m       ^\u001b[0m\n\u001b[0;31mSyntaxError\u001b[0m\u001b[0;31m:\u001b[0m invalid syntax\n"
          ]
        }
      ],
      "source": [
        "# Suicide mode on\n",
        "defaults = np.seterr(all=\"ignore\")\n",
        "Z = np.ones(1) / 0\n",
        "\n",
        "# Back to sanity\n",
        "_ = np.seterr(**defaults)\n",
        "\n",
        "An equivalent way, with a context manager:\n",
        "\n",
        "with np.errstate(divide='ignore'):\n",
        "    Z = np.ones(1) / 0"
      ],
      "id": "2ca3289c"
    },
    {
      "cell_type": "markdown",
      "metadata": {
        "id": "2d850aab"
      },
      "source": [
        "#### 32. Is the following expressions true? (★☆☆)\n",
        "```python\n",
        "np.sqrt(-1) == np.emath.sqrt(-1)\n",
        "```"
      ],
      "id": "2d850aab"
    },
    {
      "cell_type": "code",
      "execution_count": null,
      "metadata": {
        "colab": {
          "base_uri": "https://localhost:8080/",
          "height": 317
        },
        "id": "5c83ffce",
        "outputId": "e92f0172-b365-404f-c106-0167a6a093a4"
      },
      "outputs": [
        {
          "name": "stderr",
          "output_type": "stream",
          "text": [
            "<ipython-input-41-d4e22b0944f8>:1: RuntimeWarning: invalid value encountered in sqrt\n",
            "  np.sqrt(-1) == n.emath.sqrt(-1)\n"
          ]
        },
        {
          "ename": "NameError",
          "evalue": "ignored",
          "output_type": "error",
          "traceback": [
            "\u001b[0;31m---------------------------------------------------------------------------\u001b[0m",
            "\u001b[0;31mNameError\u001b[0m                                 Traceback (most recent call last)",
            "\u001b[0;32m<ipython-input-41-d4e22b0944f8>\u001b[0m in \u001b[0;36m<cell line: 1>\u001b[0;34m()\u001b[0m\n\u001b[0;32m----> 1\u001b[0;31m \u001b[0mnp\u001b[0m\u001b[0;34m.\u001b[0m\u001b[0msqrt\u001b[0m\u001b[0;34m(\u001b[0m\u001b[0;34m-\u001b[0m\u001b[0;36m1\u001b[0m\u001b[0;34m)\u001b[0m \u001b[0;34m==\u001b[0m \u001b[0mn\u001b[0m\u001b[0;34m.\u001b[0m\u001b[0memath\u001b[0m\u001b[0;34m.\u001b[0m\u001b[0msqrt\u001b[0m\u001b[0;34m(\u001b[0m\u001b[0;34m-\u001b[0m\u001b[0;36m1\u001b[0m\u001b[0;34m)\u001b[0m\u001b[0;34m\u001b[0m\u001b[0;34m\u001b[0m\u001b[0m\n\u001b[0m",
            "\u001b[0;31mNameError\u001b[0m: name 'n' is not defined"
          ]
        }
      ],
      "source": [
        "\n",
        "np.sqrt(-1) == n.emath.sqrt(-1)"
      ],
      "id": "5c83ffce"
    },
    {
      "cell_type": "markdown",
      "metadata": {
        "id": "5c4a556f"
      },
      "source": [
        "#### 33. How to get the dates of yesterday, today and tomorrow? (★☆☆)"
      ],
      "id": "5c4a556f"
    },
    {
      "cell_type": "code",
      "execution_count": null,
      "metadata": {
        "id": "c3b683a0"
      },
      "outputs": [],
      "source": [
        "yesterday = np.datetime64('today', 'D') - np.timedelta64(1, 'D')\n",
        "today     = np.datetime64('today', 'D')\n",
        "tomorrow  = np.datetime64('today', 'D') + np.timedelta64(1, 'D')"
      ],
      "id": "c3b683a0"
    },
    {
      "cell_type": "markdown",
      "metadata": {
        "id": "453cdd64"
      },
      "source": [
        "#### 34. How to get all the dates corresponding to the month of July 2016? (★★☆)"
      ],
      "id": "453cdd64"
    },
    {
      "cell_type": "code",
      "execution_count": null,
      "metadata": {
        "colab": {
          "base_uri": "https://localhost:8080/"
        },
        "id": "4ba4d37c",
        "outputId": "25c52414-755e-46cb-bce6-dcb9cda709c4"
      },
      "outputs": [
        {
          "name": "stdout",
          "output_type": "stream",
          "text": [
            "['2016-07-01' '2016-07-02' '2016-07-03' '2016-07-04' '2016-07-05'\n",
            " '2016-07-06' '2016-07-07' '2016-07-08' '2016-07-09' '2016-07-10'\n",
            " '2016-07-11' '2016-07-12' '2016-07-13' '2016-07-14' '2016-07-15'\n",
            " '2016-07-16' '2016-07-17' '2016-07-18' '2016-07-19' '2016-07-20'\n",
            " '2016-07-21' '2016-07-22' '2016-07-23' '2016-07-24' '2016-07-25'\n",
            " '2016-07-26' '2016-07-27' '2016-07-28' '2016-07-29' '2016-07-30'\n",
            " '2016-07-31']\n"
          ]
        }
      ],
      "source": [
        "Z = np.arange('2016-07', '2016-08', dtype='datetime64[D]')\n",
        "print(Z)"
      ],
      "id": "4ba4d37c"
    },
    {
      "cell_type": "markdown",
      "metadata": {
        "id": "52667b6e"
      },
      "source": [
        "#### 35. How to compute ((A+B)*(-A/2)) in place (without copy)? (★★☆)"
      ],
      "id": "52667b6e"
    },
    {
      "cell_type": "code",
      "execution_count": null,
      "metadata": {
        "colab": {
          "base_uri": "https://localhost:8080/"
        },
        "id": "e6e7c030",
        "outputId": "d77d75e9-b2c7-4c8d-daa7-80c5574b238e"
      },
      "outputs": [
        {
          "data": {
            "text/plain": [
              "array([-1.5, -1.5, -1.5])"
            ]
          },
          "execution_count": 44,
          "metadata": {},
          "output_type": "execute_result"
        }
      ],
      "source": [
        "A = np.ones(3)*1\n",
        "B = np.ones(3)*2\n",
        "C = np.ones(3)*3\n",
        "np.add(A,B,out=B)\n",
        "np.divide(A,2,out=A)\n",
        "np.negative(A,out=A)\n",
        "np.multiply(A,B,out=A)"
      ],
      "id": "e6e7c030"
    },
    {
      "cell_type": "markdown",
      "metadata": {
        "id": "9a8f3738"
      },
      "source": [
        "#### 36. Extract the integer part of a random array of positive numbers using 4 different methods (★★☆)"
      ],
      "id": "9a8f3738"
    },
    {
      "cell_type": "code",
      "execution_count": null,
      "metadata": {
        "colab": {
          "base_uri": "https://localhost:8080/"
        },
        "id": "368a801a",
        "outputId": "f27cfd1f-b126-4d36-b375-ccdee7708563"
      },
      "outputs": [
        {
          "name": "stdout",
          "output_type": "stream",
          "text": [
            "[1. 0. 8. 1. 4. 8. 8. 3. 9. 1.]\n",
            "[1. 0. 8. 1. 4. 8. 8. 3. 9. 1.]\n",
            "[1. 0. 8. 1. 4. 8. 8. 3. 9. 1.]\n",
            "[1 0 8 1 4 8 8 3 9 1]\n",
            "[1. 0. 8. 1. 4. 8. 8. 3. 9. 1.]\n"
          ]
        }
      ],
      "source": [
        "Z = np.random.uniform(0,10,10)\n",
        "\n",
        "print (Z - Z%1)\n",
        "print (np.floor(Z))\n",
        "print (np.ceil(Z)-1)\n",
        "print (Z.astype(int))\n",
        "print (np.trunc(Z))"
      ],
      "id": "368a801a"
    },
    {
      "cell_type": "markdown",
      "metadata": {
        "id": "cab1eed1"
      },
      "source": [
        "#### 37. Create a 5x5 matrix with row values ranging from 0 to 4 (★★☆)"
      ],
      "id": "cab1eed1"
    },
    {
      "cell_type": "code",
      "execution_count": null,
      "metadata": {
        "colab": {
          "base_uri": "https://localhost:8080/"
        },
        "id": "f1b579ba",
        "outputId": "215eb639-48f7-4891-f65c-f6029bcce265"
      },
      "outputs": [
        {
          "name": "stdout",
          "output_type": "stream",
          "text": [
            "[[0. 1. 2. 3. 4.]\n",
            " [0. 1. 2. 3. 4.]\n",
            " [0. 1. 2. 3. 4.]\n",
            " [0. 1. 2. 3. 4.]\n",
            " [0. 1. 2. 3. 4.]]\n"
          ]
        }
      ],
      "source": [
        "Z = np.zeros((5,5))\n",
        "Z += np.arange(5)\n",
        "print(Z)"
      ],
      "id": "f1b579ba"
    },
    {
      "cell_type": "markdown",
      "metadata": {
        "id": "cd0ce6b1"
      },
      "source": [
        "#### 38. Consider a generator function that generates 10 integers and use it to build an array (★☆☆)"
      ],
      "id": "cd0ce6b1"
    },
    {
      "cell_type": "code",
      "execution_count": null,
      "metadata": {
        "colab": {
          "base_uri": "https://localhost:8080/"
        },
        "id": "aab193a6",
        "outputId": "86ec589b-1656-4018-cc9e-b3ec69aa63be"
      },
      "outputs": [
        {
          "name": "stdout",
          "output_type": "stream",
          "text": [
            "[0. 1. 2. 3. 4. 5. 6. 7. 8. 9.]\n"
          ]
        }
      ],
      "source": [
        "def generate():\n",
        "    for x in range(10):\n",
        "        yield x\n",
        "Z = np.fromiter(generate(),dtype=float,count=-1)\n",
        "print(Z)"
      ],
      "id": "aab193a6"
    },
    {
      "cell_type": "markdown",
      "metadata": {
        "id": "c4c942d1"
      },
      "source": [
        "#### 39. Create a vector of size 10 with values ranging from 0 to 1, both excluded (★★☆)"
      ],
      "id": "c4c942d1"
    },
    {
      "cell_type": "code",
      "execution_count": null,
      "metadata": {
        "colab": {
          "base_uri": "https://localhost:8080/"
        },
        "id": "e42eaa4b",
        "outputId": "39087ba1-b8a0-47be-b834-cfc782027662"
      },
      "outputs": [
        {
          "name": "stdout",
          "output_type": "stream",
          "text": [
            "[0.09090909 0.18181818 0.27272727 0.36363636 0.45454545 0.54545455\n",
            " 0.63636364 0.72727273 0.81818182 0.90909091]\n"
          ]
        }
      ],
      "source": [
        "Z = np.linspace(0,1,11,endpoint=False)[1:]\n",
        "print(Z)"
      ],
      "id": "e42eaa4b"
    },
    {
      "cell_type": "markdown",
      "metadata": {
        "id": "9b3cb8d2"
      },
      "source": [
        "#### 40. Create a random vector of size 10 and sort it (★★☆)"
      ],
      "id": "9b3cb8d2"
    },
    {
      "cell_type": "code",
      "execution_count": null,
      "metadata": {
        "colab": {
          "base_uri": "https://localhost:8080/"
        },
        "id": "37d2b341",
        "outputId": "824ebf57-3f4f-4362-a34c-cee97452ca8b"
      },
      "outputs": [
        {
          "name": "stdout",
          "output_type": "stream",
          "text": [
            "[0.05435543 0.05585086 0.12657638 0.16713918 0.35709133 0.37826475\n",
            " 0.39374699 0.61891461 0.76882562 0.80605591]\n"
          ]
        }
      ],
      "source": [
        "Z = np.random.random(10)\n",
        "Z.sort()\n",
        "print(Z)"
      ],
      "id": "37d2b341"
    },
    {
      "cell_type": "markdown",
      "metadata": {
        "id": "2facfddc"
      },
      "source": [
        "#### 41. How to sum a small array faster than np.sum? (★★☆)"
      ],
      "id": "2facfddc"
    },
    {
      "cell_type": "code",
      "execution_count": null,
      "metadata": {
        "colab": {
          "base_uri": "https://localhost:8080/"
        },
        "id": "4bb8864f",
        "outputId": "a1931216-5f28-4ee4-c86b-a8129f89587d"
      },
      "outputs": [
        {
          "data": {
            "text/plain": [
              "45"
            ]
          },
          "execution_count": 50,
          "metadata": {},
          "output_type": "execute_result"
        }
      ],
      "source": [
        "Z = np.arange(10)\n",
        "np.add.reduce(Z)"
      ],
      "id": "4bb8864f"
    },
    {
      "cell_type": "markdown",
      "metadata": {
        "id": "539cd2a5"
      },
      "source": [
        "#### 42. Consider two random array A and B, check if they are equal (★★☆)"
      ],
      "id": "539cd2a5"
    },
    {
      "cell_type": "code",
      "execution_count": null,
      "metadata": {
        "colab": {
          "base_uri": "https://localhost:8080/"
        },
        "id": "5246d7bf",
        "outputId": "7cdf4e51-1f96-49d8-e420-803e4aaa8daa"
      },
      "outputs": [
        {
          "name": "stdout",
          "output_type": "stream",
          "text": [
            "False\n",
            "False\n"
          ]
        }
      ],
      "source": [
        "A = np.random.randint(0,2,5)\n",
        "B = np.random.randint(0,2,5)\n",
        "\n",
        "# Assuming identical shape of the arrays and a tolerance for the comparison of values\n",
        "equal = np.allclose(A,B)\n",
        "print(equal)\n",
        "\n",
        "# Checking both the shape and the element values, no tolerance (values have to be exactly equal)\n",
        "equal = np.array_equal(A,B)\n",
        "print(equal)"
      ],
      "id": "5246d7bf"
    },
    {
      "cell_type": "markdown",
      "metadata": {
        "id": "448f8274"
      },
      "source": [
        "#### 43. Make an array immutable (read-only) (★★☆)"
      ],
      "id": "448f8274"
    },
    {
      "cell_type": "code",
      "execution_count": null,
      "metadata": {
        "colab": {
          "base_uri": "https://localhost:8080/",
          "height": 297
        },
        "id": "7cf2b3dd",
        "outputId": "794c783c-8cb6-4e2a-bf6d-c7dacc6fb1e0"
      },
      "outputs": [
        {
          "ename": "ValueError",
          "evalue": "ignored",
          "output_type": "error",
          "traceback": [
            "\u001b[0;31m---------------------------------------------------------------------------\u001b[0m",
            "\u001b[0;31mValueError\u001b[0m                                Traceback (most recent call last)",
            "\u001b[0;32m<ipython-input-52-dcc5e7f145b5>\u001b[0m in \u001b[0;36m<cell line: 3>\u001b[0;34m()\u001b[0m\n\u001b[1;32m      1\u001b[0m \u001b[0mZ\u001b[0m \u001b[0;34m=\u001b[0m \u001b[0mnp\u001b[0m\u001b[0;34m.\u001b[0m\u001b[0mzeros\u001b[0m\u001b[0;34m(\u001b[0m\u001b[0;36m10\u001b[0m\u001b[0;34m)\u001b[0m\u001b[0;34m\u001b[0m\u001b[0;34m\u001b[0m\u001b[0m\n\u001b[1;32m      2\u001b[0m \u001b[0mZ\u001b[0m\u001b[0;34m.\u001b[0m\u001b[0mflags\u001b[0m\u001b[0;34m.\u001b[0m\u001b[0mwriteable\u001b[0m \u001b[0;34m=\u001b[0m \u001b[0;32mFalse\u001b[0m\u001b[0;34m\u001b[0m\u001b[0;34m\u001b[0m\u001b[0m\n\u001b[0;32m----> 3\u001b[0;31m \u001b[0mZ\u001b[0m\u001b[0;34m[\u001b[0m\u001b[0;36m0\u001b[0m\u001b[0;34m]\u001b[0m \u001b[0;34m=\u001b[0m \u001b[0;36m1\u001b[0m\u001b[0;34m\u001b[0m\u001b[0;34m\u001b[0m\u001b[0m\n\u001b[0m",
            "\u001b[0;31mValueError\u001b[0m: assignment destination is read-only"
          ]
        }
      ],
      "source": [
        "Z = np.zeros(10)\n",
        "Z.flags.writeable = False\n",
        "Z[0] = 1"
      ],
      "id": "7cf2b3dd"
    },
    {
      "cell_type": "markdown",
      "metadata": {
        "id": "d7b7aaf3"
      },
      "source": [
        "#### 44. Consider a random 10x2 matrix representing cartesian coordinates, convert them to polar coordinates (★★☆)"
      ],
      "id": "d7b7aaf3"
    },
    {
      "cell_type": "code",
      "execution_count": null,
      "metadata": {
        "colab": {
          "base_uri": "https://localhost:8080/"
        },
        "id": "e2337585",
        "outputId": "edd62c72-20c1-4196-e6d7-9ff8ba21d224"
      },
      "outputs": [
        {
          "name": "stdout",
          "output_type": "stream",
          "text": [
            "[0.30999295 0.60579288 1.23023751 0.60772198 0.58552555 1.04623942\n",
            " 0.74627283 0.51447581 0.29205591 0.41501701]\n",
            "[1.41575549 1.48172088 0.71435988 0.94514353 1.47447892 0.4044301\n",
            " 0.58436038 0.86209649 0.45407209 0.56422888]\n"
          ]
        }
      ],
      "source": [
        "Z = np.random.random((10,2))\n",
        "X,Y = Z[:,0], Z[:,1]\n",
        "R = np.sqrt(X**2+Y**2)\n",
        "T = np.arctan2(Y,X)\n",
        "print(R)\n",
        "print(T)"
      ],
      "id": "e2337585"
    },
    {
      "cell_type": "markdown",
      "metadata": {
        "id": "a556027a"
      },
      "source": [
        "#### 45. Create random vector of size 10 and replace the maximum value by 0 (★★☆)"
      ],
      "id": "a556027a"
    },
    {
      "cell_type": "code",
      "execution_count": null,
      "metadata": {
        "colab": {
          "base_uri": "https://localhost:8080/"
        },
        "id": "9e07cb87",
        "outputId": "5a485a8b-5733-4f30-fabd-83b8a595abf1"
      },
      "outputs": [
        {
          "name": "stdout",
          "output_type": "stream",
          "text": [
            "[0.52577383 0.11196182 0.56926605 0.63606831 0.51056913 0.\n",
            " 0.47112093 0.4805053  0.16779417 0.47538686]\n"
          ]
        }
      ],
      "source": [
        "Z = np.random.random(10)\n",
        "Z[Z.argmax()] = 0\n",
        "print(Z)"
      ],
      "id": "9e07cb87"
    },
    {
      "cell_type": "markdown",
      "metadata": {
        "id": "004f3da1"
      },
      "source": [
        "#### 46. Create a structured array with `x` and `y` coordinates covering the [0,1]x[0,1] area (★★☆)"
      ],
      "id": "004f3da1"
    },
    {
      "cell_type": "code",
      "execution_count": null,
      "metadata": {
        "colab": {
          "base_uri": "https://localhost:8080/"
        },
        "id": "b3824741",
        "outputId": "7cb0c427-a76d-4a30-8d09-4a71361ddf1c"
      },
      "outputs": [
        {
          "name": "stdout",
          "output_type": "stream",
          "text": [
            "[[(0.  , 0.  ) (0.25, 0.  ) (0.5 , 0.  ) (0.75, 0.  ) (1.  , 0.  )]\n",
            " [(0.  , 0.25) (0.25, 0.25) (0.5 , 0.25) (0.75, 0.25) (1.  , 0.25)]\n",
            " [(0.  , 0.5 ) (0.25, 0.5 ) (0.5 , 0.5 ) (0.75, 0.5 ) (1.  , 0.5 )]\n",
            " [(0.  , 0.75) (0.25, 0.75) (0.5 , 0.75) (0.75, 0.75) (1.  , 0.75)]\n",
            " [(0.  , 1.  ) (0.25, 1.  ) (0.5 , 1.  ) (0.75, 1.  ) (1.  , 1.  )]]\n"
          ]
        }
      ],
      "source": [
        "Z = np.zeros((5,5), [('x',float),('y',float)])\n",
        "Z['x'], Z['y'] = np.meshgrid(np.linspace(0,1,5),\n",
        "                             np.linspace(0,1,5))\n",
        "print(Z)"
      ],
      "id": "b3824741"
    },
    {
      "cell_type": "markdown",
      "metadata": {
        "id": "1c0adc0d"
      },
      "source": [
        "#### 47. Given two arrays, X and Y, construct the Cauchy matrix C (Cij =1/(xi - yj)) (★★☆)"
      ],
      "id": "1c0adc0d"
    },
    {
      "cell_type": "code",
      "execution_count": null,
      "metadata": {
        "colab": {
          "base_uri": "https://localhost:8080/"
        },
        "id": "01b3bbb7",
        "outputId": "8303466b-dcb1-4c6d-f8b0-5b236cf2596a"
      },
      "outputs": [
        {
          "name": "stdout",
          "output_type": "stream",
          "text": [
            "3638.163637117973\n"
          ]
        }
      ],
      "source": [
        "X = np.arange(8)\n",
        "Y = X + 0.5\n",
        "C = 1.0 / np.subtract.outer(X, Y)\n",
        "print(np.linalg.det(C))"
      ],
      "id": "01b3bbb7"
    },
    {
      "cell_type": "markdown",
      "metadata": {
        "id": "c8a2f65a"
      },
      "source": [
        "#### 48. Print the minimum and maximum representable value for each numpy scalar type (★★☆)"
      ],
      "id": "c8a2f65a"
    },
    {
      "cell_type": "code",
      "execution_count": null,
      "metadata": {
        "colab": {
          "base_uri": "https://localhost:8080/"
        },
        "id": "35d844d6",
        "outputId": "91fdd667-3306-40d9-c1a5-53d05f49f8e2"
      },
      "outputs": [
        {
          "name": "stdout",
          "output_type": "stream",
          "text": [
            "-128\n",
            "127\n",
            "-2147483648\n",
            "2147483647\n",
            "-9223372036854775808\n",
            "9223372036854775807\n",
            "-3.4028235e+38\n",
            "3.4028235e+38\n",
            "1.1920929e-07\n",
            "-1.7976931348623157e+308\n",
            "1.7976931348623157e+308\n",
            "2.220446049250313e-16\n"
          ]
        }
      ],
      "source": [
        "for dtype in [np.int8, np.int32, np.int64]:\n",
        "   print(np.iinfo(dtype).min)\n",
        "   print(np.iinfo(dtype).max)\n",
        "for dtype in [np.float32, np.float64]:\n",
        "   print(np.finfo(dtype).min)\n",
        "   print(np.finfo(dtype).max)\n",
        "   print(np.finfo(dtype).eps)"
      ],
      "id": "35d844d6"
    },
    {
      "cell_type": "markdown",
      "metadata": {
        "id": "11727a69"
      },
      "source": [
        "#### 49. How to print all the values of an array? (★★☆)"
      ],
      "id": "11727a69"
    },
    {
      "cell_type": "code",
      "execution_count": null,
      "metadata": {
        "colab": {
          "base_uri": "https://localhost:8080/",
          "height": 706
        },
        "id": "47e98473",
        "outputId": "d77ee607-f73a-4829-8e58-3745b08b80c9"
      },
      "outputs": [
        {
          "ename": "ValueError",
          "evalue": "ignored",
          "output_type": "error",
          "traceback": [
            "\u001b[0;31m---------------------------------------------------------------------------\u001b[0m",
            "\u001b[0;31mValueError\u001b[0m                                Traceback (most recent call last)",
            "\u001b[0;32m<ipython-input-59-8e6bd600a6bc>\u001b[0m in \u001b[0;36m<cell line: 1>\u001b[0;34m()\u001b[0m\n\u001b[0;32m----> 1\u001b[0;31m \u001b[0mnp\u001b[0m\u001b[0;34m.\u001b[0m\u001b[0mset_printoptions\u001b[0m\u001b[0;34m(\u001b[0m\u001b[0mthreshold\u001b[0m\u001b[0;34m=\u001b[0m\u001b[0mnp\u001b[0m\u001b[0;34m.\u001b[0m\u001b[0mnan\u001b[0m\u001b[0;34m)\u001b[0m\u001b[0;34m\u001b[0m\u001b[0;34m\u001b[0m\u001b[0m\n\u001b[0m\u001b[1;32m      2\u001b[0m \u001b[0mZ\u001b[0m \u001b[0;34m=\u001b[0m \u001b[0mnp\u001b[0m\u001b[0;34m.\u001b[0m\u001b[0mzeros\u001b[0m\u001b[0;34m(\u001b[0m\u001b[0;34m(\u001b[0m\u001b[0;36m16\u001b[0m\u001b[0;34m,\u001b[0m\u001b[0;36m16\u001b[0m\u001b[0;34m)\u001b[0m\u001b[0;34m)\u001b[0m\u001b[0;34m\u001b[0m\u001b[0;34m\u001b[0m\u001b[0m\n\u001b[1;32m      3\u001b[0m \u001b[0mprint\u001b[0m\u001b[0;34m(\u001b[0m\u001b[0mZ\u001b[0m\u001b[0;34m)\u001b[0m\u001b[0;34m\u001b[0m\u001b[0;34m\u001b[0m\u001b[0m\n",
            "\u001b[0;32m/usr/local/lib/python3.10/dist-packages/numpy/core/arrayprint.py\u001b[0m in \u001b[0;36mset_printoptions\u001b[0;34m(precision, threshold, edgeitems, linewidth, suppress, nanstr, infstr, formatter, sign, floatmode, legacy)\u001b[0m\n\u001b[1;32m    275\u001b[0m \u001b[0;34m\u001b[0m\u001b[0m\n\u001b[1;32m    276\u001b[0m     \"\"\"\n\u001b[0;32m--> 277\u001b[0;31m     opt = _make_options_dict(precision, threshold, edgeitems, linewidth,\n\u001b[0m\u001b[1;32m    278\u001b[0m                              \u001b[0msuppress\u001b[0m\u001b[0;34m,\u001b[0m \u001b[0mnanstr\u001b[0m\u001b[0;34m,\u001b[0m \u001b[0minfstr\u001b[0m\u001b[0;34m,\u001b[0m \u001b[0msign\u001b[0m\u001b[0;34m,\u001b[0m \u001b[0mformatter\u001b[0m\u001b[0;34m,\u001b[0m\u001b[0;34m\u001b[0m\u001b[0;34m\u001b[0m\u001b[0m\n\u001b[1;32m    279\u001b[0m                              floatmode, legacy)\n",
            "\u001b[0;32m/usr/local/lib/python3.10/dist-packages/numpy/core/arrayprint.py\u001b[0m in \u001b[0;36m_make_options_dict\u001b[0;34m(precision, threshold, edgeitems, linewidth, suppress, nanstr, infstr, sign, formatter, floatmode, legacy)\u001b[0m\n\u001b[1;32m    101\u001b[0m             \u001b[0;32mraise\u001b[0m \u001b[0mTypeError\u001b[0m\u001b[0;34m(\u001b[0m\u001b[0;34m\"threshold must be numeric\"\u001b[0m\u001b[0;34m)\u001b[0m\u001b[0;34m\u001b[0m\u001b[0;34m\u001b[0m\u001b[0m\n\u001b[1;32m    102\u001b[0m         \u001b[0;32mif\u001b[0m \u001b[0mnp\u001b[0m\u001b[0;34m.\u001b[0m\u001b[0misnan\u001b[0m\u001b[0;34m(\u001b[0m\u001b[0mthreshold\u001b[0m\u001b[0;34m)\u001b[0m\u001b[0;34m:\u001b[0m\u001b[0;34m\u001b[0m\u001b[0;34m\u001b[0m\u001b[0m\n\u001b[0;32m--> 103\u001b[0;31m             raise ValueError(\"threshold must be non-NAN, try \"\n\u001b[0m\u001b[1;32m    104\u001b[0m                              \"sys.maxsize for untruncated representation\")\n\u001b[1;32m    105\u001b[0m \u001b[0;34m\u001b[0m\u001b[0m\n",
            "\u001b[0;31mValueError\u001b[0m: threshold must be non-NAN, try sys.maxsize for untruncated representation"
          ]
        }
      ],
      "source": [
        "\n",
        "np.set_printoptions(threshold=np.nan)\n",
        "Z = np.zeros((16,16))\n",
        "print(Z)"
      ],
      "id": "47e98473"
    },
    {
      "cell_type": "markdown",
      "metadata": {
        "id": "e0e7d741"
      },
      "source": [
        "#### 50. How to find the closest value (to a given scalar) in a vector? (★★☆)"
      ],
      "id": "e0e7d741"
    },
    {
      "cell_type": "code",
      "execution_count": null,
      "metadata": {
        "colab": {
          "base_uri": "https://localhost:8080/"
        },
        "id": "62cabf6f",
        "outputId": "5ba0d41d-9051-44cd-82a4-9cb6b90577d2"
      },
      "outputs": [
        {
          "name": "stdout",
          "output_type": "stream",
          "text": [
            "80\n"
          ]
        }
      ],
      "source": [
        "Z = np.arange(100)\n",
        "v = np.random.uniform(0,100)\n",
        "index = (np.abs(Z-v)).argmin()\n",
        "print(Z[index])"
      ],
      "id": "62cabf6f"
    },
    {
      "cell_type": "markdown",
      "metadata": {
        "id": "c5611b9e"
      },
      "source": [
        "#### 51. Create a structured array representing a position (x,y) and a color (r,g,b) (★★☆)"
      ],
      "id": "c5611b9e"
    },
    {
      "cell_type": "code",
      "execution_count": null,
      "metadata": {
        "colab": {
          "base_uri": "https://localhost:8080/"
        },
        "id": "f622939d",
        "outputId": "61e56b9f-67f2-41c8-f9ef-aef25f8deab3"
      },
      "outputs": [
        {
          "name": "stdout",
          "output_type": "stream",
          "text": [
            "[((0., 0.), (0., 0., 0.)) ((0., 0.), (0., 0., 0.))\n",
            " ((0., 0.), (0., 0., 0.)) ((0., 0.), (0., 0., 0.))\n",
            " ((0., 0.), (0., 0., 0.)) ((0., 0.), (0., 0., 0.))\n",
            " ((0., 0.), (0., 0., 0.)) ((0., 0.), (0., 0., 0.))\n",
            " ((0., 0.), (0., 0., 0.)) ((0., 0.), (0., 0., 0.))]\n"
          ]
        },
        {
          "name": "stderr",
          "output_type": "stream",
          "text": [
            "<ipython-input-61-6f1aa4d7a2ff>:1: FutureWarning: Passing (type, 1) or '1type' as a synonym of type is deprecated; in a future version of numpy, it will be understood as (type, (1,)) / '(1,)type'.\n",
            "  Z = np.zeros(10, [ ('position', [ ('x', float, 1),\n"
          ]
        }
      ],
      "source": [
        "Z = np.zeros(10, [ ('position', [ ('x', float, 1),\n",
        "                                  ('y', float, 1)]),\n",
        "                   ('color',    [ ('r', float, 1),\n",
        "                                  ('g', float, 1),\n",
        "                                  ('b', float, 1)])])\n",
        "print(Z)"
      ],
      "id": "f622939d"
    },
    {
      "cell_type": "markdown",
      "metadata": {
        "id": "d22b8574"
      },
      "source": [
        "#### 52. Consider a random vector with shape (100,2) representing coordinates, find point by point distances (★★☆)"
      ],
      "id": "d22b8574"
    },
    {
      "cell_type": "code",
      "execution_count": null,
      "metadata": {
        "colab": {
          "base_uri": "https://localhost:8080/"
        },
        "id": "d5c9cdf8",
        "outputId": "ef7cbf2d-2aa7-4803-a871-a76573cba6d2"
      },
      "outputs": [
        {
          "name": "stdout",
          "output_type": "stream",
          "text": [
            "[[0.         0.54793429 0.41109266 0.6813737  0.58703202 0.55269142\n",
            "  0.19386427 0.9439513  0.82018356 0.82877987]\n",
            " [0.54793429 0.         0.9144531  0.18898362 0.79330041 0.88749613\n",
            "  0.66148141 0.56263118 0.57003426 0.90687024]\n",
            " [0.41109266 0.9144531  0.         1.00397172 0.49319533 0.33448962\n",
            "  0.25297662 1.16377535 0.98321495 0.75357966]\n",
            " [0.6813737  0.18898362 1.00397172 0.         0.78482181 0.91333387\n",
            "  0.75639312 0.37969056 0.42646864 0.84229385]\n",
            " [0.58703202 0.79330041 0.49319533 0.78482181 0.         0.18982007\n",
            "  0.42878919 0.78842031 0.57744613 0.26570102]\n",
            " [0.55269142 0.88749613 0.33448962 0.91333387 0.18982007 0.\n",
            "  0.36381068 0.96451265 0.75845944 0.42770392]\n",
            " [0.19386427 0.66148141 0.25297662 0.75639312 0.42878919 0.36381068\n",
            "  0.         0.94943081 0.7895198  0.687601  ]\n",
            " [0.9439513  0.56263118 1.16377535 0.37969056 0.78842031 0.96451265\n",
            "  0.94943081 0.         0.21670749 0.71874615]\n",
            " [0.82018356 0.57003426 0.98321495 0.42646864 0.57744613 0.75845944\n",
            "  0.7895198  0.21670749 0.         0.50531029]\n",
            " [0.82877987 0.90687024 0.75357966 0.84229385 0.26570102 0.42770392\n",
            "  0.687601   0.71874615 0.50531029 0.        ]]\n",
            "[[0.         0.55916122 0.95671014 0.42467508 0.5429368  0.24504144\n",
            "  0.29450856 0.57621963 0.35879838 0.34134886]\n",
            " [0.55916122 0.         0.45620732 0.221843   0.54047639 0.36640624\n",
            "  0.42012848 0.15185053 0.29175784 0.24292472]\n",
            " [0.95671014 0.45620732 0.         0.67775255 0.65374061 0.81012984\n",
            "  0.87405183 0.38168015 0.74731463 0.61632628]\n",
            " [0.42467508 0.221843   0.67775255 0.         0.62582898 0.186127\n",
            "  0.20814453 0.34222097 0.07947508 0.24368247]\n",
            " [0.5429368  0.54047639 0.65374061 0.62582898 0.         0.58875704\n",
            "  0.68580179 0.41529027 0.63009897 0.3837218 ]\n",
            " [0.24504144 0.36640624 0.81012984 0.186127   0.58875704 0.\n",
            "  0.09707478 0.43782688 0.11429214 0.23569289]\n",
            " [0.29450856 0.42012848 0.87405183 0.20814453 0.68580179 0.09707478\n",
            "  0.         0.51285979 0.13002352 0.3278417 ]\n",
            " [0.57621963 0.15185053 0.38168015 0.34222097 0.41529027 0.43782688\n",
            "  0.51285979 0.         0.39586465 0.23503453]\n",
            " [0.35879838 0.29175784 0.74731463 0.07947508 0.63009897 0.11429214\n",
            "  0.13002352 0.39586465 0.         0.24876918]\n",
            " [0.34134886 0.24292472 0.61632628 0.24368247 0.3837218  0.23569289\n",
            "  0.3278417  0.23503453 0.24876918 0.        ]]\n"
          ]
        }
      ],
      "source": [
        "Z = np.random.random((10,2))\n",
        "X,Y = np.atleast_2d(Z[:,0], Z[:,1])\n",
        "D = np.sqrt( (X-X.T)**2 + (Y-Y.T)**2)\n",
        "print(D)\n",
        "\n",
        "# Much faster with scipy\n",
        "import scipy\n",
        "# Thanks Gavin Heverly-Coulson (#issue 1)\n",
        "import scipy.spatial\n",
        "\n",
        "Z = np.random.random((10,2))\n",
        "D = scipy.spatial.distance.cdist(Z,Z)\n",
        "print(D)"
      ],
      "id": "d5c9cdf8"
    },
    {
      "cell_type": "markdown",
      "metadata": {
        "id": "f5c164f2"
      },
      "source": [
        "#### 53. How to convert a float (32 bits) array into an integer (32 bits) in place?"
      ],
      "id": "f5c164f2"
    },
    {
      "cell_type": "code",
      "execution_count": null,
      "metadata": {
        "colab": {
          "base_uri": "https://localhost:8080/"
        },
        "id": "ea262de8",
        "outputId": "3a59d3d0-4c69-4b40-a777-32ea6a4a6543"
      },
      "outputs": [
        {
          "name": "stdout",
          "output_type": "stream",
          "text": [
            "[0 1 2 3 4 5 6 7 8 9]\n"
          ]
        }
      ],
      "source": [
        "Z = np.arange(10, dtype=np.float32)\n",
        "Z = Z.astype(np.int32, copy=False)\n",
        "print(Z)"
      ],
      "id": "ea262de8"
    },
    {
      "cell_type": "markdown",
      "metadata": {
        "id": "a8b7e6f5"
      },
      "source": [
        "#### 54. How to read the following file? (★★☆)\n",
        "```\n",
        "1, 2, 3, 4, 5\n",
        "6,  ,  , 7, 8\n",
        " ,  , 9,10,11\n",
        "```"
      ],
      "id": "a8b7e6f5"
    },
    {
      "cell_type": "code",
      "execution_count": null,
      "metadata": {
        "colab": {
          "base_uri": "https://localhost:8080/"
        },
        "id": "bde0538a",
        "outputId": "a5a17bf3-6e81-4f65-d5a4-22993be57075"
      },
      "outputs": [
        {
          "name": "stdout",
          "output_type": "stream",
          "text": [
            "[[ 1  2  3  4  5]\n",
            " [ 6 -1 -1  7  8]\n",
            " [-1 -1  9 10 11]]\n"
          ]
        },
        {
          "name": "stderr",
          "output_type": "stream",
          "text": [
            "<ipython-input-64-8b2485b5e9f4>:7: DeprecationWarning: `np.int` is a deprecated alias for the builtin `int`. To silence this warning, use `int` by itself. Doing this will not modify any behavior and is safe. When replacing `np.int`, you may wish to use e.g. `np.int64` or `np.int32` to specify the precision. If you wish to review your current use, check the release note link for additional information.\n",
            "Deprecated in NumPy 1.20; for more details and guidance: https://numpy.org/devdocs/release/1.20.0-notes.html#deprecations\n",
            "  Z = np.genfromtxt(s, delimiter=\",\", dtype=np.int)\n"
          ]
        }
      ],
      "source": [
        "from io import StringIO\n",
        "\n",
        "# Fake file\n",
        "s = StringIO(\"\"\"1, 2, 3, 4, 5\\n\n",
        "                6,  ,  , 7, 8\\n\n",
        "                 ,  , 9,10,11\\n\"\"\")\n",
        "Z = np.genfromtxt(s, delimiter=\",\", dtype=np.int)\n",
        "print(Z)"
      ],
      "id": "bde0538a"
    },
    {
      "cell_type": "markdown",
      "metadata": {
        "id": "c6b32834"
      },
      "source": [
        "#### 55. What is the equivalent of enumerate for numpy arrays? (★★☆)"
      ],
      "id": "c6b32834"
    },
    {
      "cell_type": "code",
      "execution_count": null,
      "metadata": {
        "colab": {
          "base_uri": "https://localhost:8080/"
        },
        "id": "ab02472a",
        "outputId": "956011b5-f392-465f-a20c-95704e828fdd"
      },
      "outputs": [
        {
          "name": "stdout",
          "output_type": "stream",
          "text": [
            "(0, 0) 0\n",
            "(0, 1) 1\n",
            "(0, 2) 2\n",
            "(1, 0) 3\n",
            "(1, 1) 4\n",
            "(1, 2) 5\n",
            "(2, 0) 6\n",
            "(2, 1) 7\n",
            "(2, 2) 8\n",
            "(0, 0) 0\n",
            "(0, 1) 1\n",
            "(0, 2) 2\n",
            "(1, 0) 3\n",
            "(1, 1) 4\n",
            "(1, 2) 5\n",
            "(2, 0) 6\n",
            "(2, 1) 7\n",
            "(2, 2) 8\n"
          ]
        }
      ],
      "source": [
        "Z = np.arange(9).reshape(3,3)\n",
        "for index, value in np.ndenumerate(Z):\n",
        "    print(index, value)\n",
        "for index in np.ndindex(Z.shape):\n",
        "    print(index, Z[index])"
      ],
      "id": "ab02472a"
    },
    {
      "cell_type": "markdown",
      "metadata": {
        "id": "a2121a05"
      },
      "source": [
        "#### 56. Generate a generic 2D Gaussian-like array (★★☆)"
      ],
      "id": "a2121a05"
    },
    {
      "cell_type": "code",
      "execution_count": null,
      "metadata": {
        "colab": {
          "base_uri": "https://localhost:8080/"
        },
        "id": "18507102",
        "outputId": "8565809e-61a1-44f5-fbcd-9255c83cc0a7"
      },
      "outputs": [
        {
          "name": "stdout",
          "output_type": "stream",
          "text": [
            "[[0.36787944 0.44822088 0.51979489 0.57375342 0.60279818 0.60279818\n",
            "  0.57375342 0.51979489 0.44822088 0.36787944]\n",
            " [0.44822088 0.54610814 0.63331324 0.69905581 0.73444367 0.73444367\n",
            "  0.69905581 0.63331324 0.54610814 0.44822088]\n",
            " [0.51979489 0.63331324 0.73444367 0.81068432 0.85172308 0.85172308\n",
            "  0.81068432 0.73444367 0.63331324 0.51979489]\n",
            " [0.57375342 0.69905581 0.81068432 0.89483932 0.9401382  0.9401382\n",
            "  0.89483932 0.81068432 0.69905581 0.57375342]\n",
            " [0.60279818 0.73444367 0.85172308 0.9401382  0.98773022 0.98773022\n",
            "  0.9401382  0.85172308 0.73444367 0.60279818]\n",
            " [0.60279818 0.73444367 0.85172308 0.9401382  0.98773022 0.98773022\n",
            "  0.9401382  0.85172308 0.73444367 0.60279818]\n",
            " [0.57375342 0.69905581 0.81068432 0.89483932 0.9401382  0.9401382\n",
            "  0.89483932 0.81068432 0.69905581 0.57375342]\n",
            " [0.51979489 0.63331324 0.73444367 0.81068432 0.85172308 0.85172308\n",
            "  0.81068432 0.73444367 0.63331324 0.51979489]\n",
            " [0.44822088 0.54610814 0.63331324 0.69905581 0.73444367 0.73444367\n",
            "  0.69905581 0.63331324 0.54610814 0.44822088]\n",
            " [0.36787944 0.44822088 0.51979489 0.57375342 0.60279818 0.60279818\n",
            "  0.57375342 0.51979489 0.44822088 0.36787944]]\n"
          ]
        }
      ],
      "source": [
        "X, Y = np.meshgrid(np.linspace(-1,1,10), np.linspace(-1,1,10))\n",
        "D = np.sqrt(X*X+Y*Y)\n",
        "sigma, mu = 1.0, 0.0\n",
        "G = np.exp(-( (D-mu)**2 / ( 2.0 * sigma**2 ) ) )\n",
        "print(G)"
      ],
      "id": "18507102"
    },
    {
      "cell_type": "markdown",
      "metadata": {
        "id": "97055efa"
      },
      "source": [
        "#### 57. How to randomly place p elements in a 2D array? (★★☆)"
      ],
      "id": "97055efa"
    },
    {
      "cell_type": "code",
      "execution_count": null,
      "metadata": {
        "colab": {
          "base_uri": "https://localhost:8080/"
        },
        "id": "292e842f",
        "outputId": "4dd6bb72-75e9-4283-f10d-2adf1ddc0f1e"
      },
      "outputs": [
        {
          "name": "stdout",
          "output_type": "stream",
          "text": [
            "[[1. 0. 0. 0. 0. 0. 0. 0. 0. 0.]\n",
            " [0. 0. 0. 0. 0. 0. 1. 0. 0. 0.]\n",
            " [0. 0. 0. 0. 0. 0. 0. 0. 0. 0.]\n",
            " [0. 0. 1. 0. 0. 0. 0. 0. 0. 0.]\n",
            " [0. 0. 0. 0. 0. 0. 0. 0. 0. 0.]\n",
            " [0. 0. 0. 0. 0. 0. 0. 0. 0. 0.]\n",
            " [0. 0. 0. 0. 0. 0. 0. 0. 0. 0.]\n",
            " [0. 0. 0. 0. 0. 0. 0. 0. 0. 0.]\n",
            " [0. 0. 0. 0. 0. 0. 0. 0. 0. 0.]\n",
            " [0. 0. 0. 0. 0. 0. 0. 0. 0. 0.]]\n"
          ]
        }
      ],
      "source": [
        "n = 10\n",
        "p = 3\n",
        "Z = np.zeros((n,n))\n",
        "np.put(Z, np.random.choice(range(n*n), p, replace=False),1)\n",
        "print(Z)"
      ],
      "id": "292e842f"
    },
    {
      "cell_type": "markdown",
      "metadata": {
        "id": "bfd2513c"
      },
      "source": [
        "#### 58. Subtract the mean of each row of a matrix (★★☆)"
      ],
      "id": "bfd2513c"
    },
    {
      "cell_type": "code",
      "execution_count": null,
      "metadata": {
        "colab": {
          "base_uri": "https://localhost:8080/"
        },
        "id": "f306ab72",
        "outputId": "15cd8b59-3376-47cf-af40-7f2ab0d2f301"
      },
      "outputs": [
        {
          "name": "stdout",
          "output_type": "stream",
          "text": [
            "[[ 0.23254722 -0.3388808  -0.29158232  0.1185639   0.46052629  0.21224266\n",
            "  -0.45152779 -0.04537596  0.42125261 -0.31776582]\n",
            " [-0.21867363 -0.26050377  0.35041551 -0.29885725  0.37370303 -0.29428171\n",
            "   0.05380413 -0.01006563  0.19040621  0.11405312]\n",
            " [-0.24292713 -0.3489781   0.04489753  0.11358392  0.10113035 -0.21841531\n",
            "  -0.02552956  0.48541722  0.44739096 -0.35656988]\n",
            " [-0.21239072  0.36348834 -0.37093586 -0.37483762 -0.29255403 -0.07254674\n",
            "   0.30788797  0.46795277 -0.29752671  0.48146259]\n",
            " [-0.37549017  0.30460299 -0.29070748  0.32240253  0.16835148 -0.56043474\n",
            "  -0.1531352   0.24413079  0.43074624 -0.09046644]]\n"
          ]
        }
      ],
      "source": [
        "# Author: Warren Weckesser\n",
        "\n",
        "X = np.random.rand(5, 10)\n",
        "\n",
        "# Recent versions of numpy\n",
        "Y = X - X.mean(axis=1, keepdims=True)\n",
        "\n",
        "# Older versions of numpy\n",
        "Y = X - X.mean(axis=1).reshape(-1, 1)\n",
        "\n",
        "print(Y)"
      ],
      "id": "f306ab72"
    },
    {
      "cell_type": "markdown",
      "metadata": {
        "id": "da9f2f9b"
      },
      "source": [
        "#### 59. How to sort an array by the nth column? (★★☆)"
      ],
      "id": "da9f2f9b"
    },
    {
      "cell_type": "code",
      "execution_count": null,
      "metadata": {
        "colab": {
          "base_uri": "https://localhost:8080/"
        },
        "id": "68cde57f",
        "outputId": "2a284926-9643-4829-9fad-e7b09f1e68c8"
      },
      "outputs": [
        {
          "name": "stdout",
          "output_type": "stream",
          "text": [
            "[[8 5 2]\n",
            " [4 4 3]\n",
            " [3 2 5]]\n",
            "[[3 2 5]\n",
            " [4 4 3]\n",
            " [8 5 2]]\n"
          ]
        }
      ],
      "source": [
        "# Author: Steve Tjoa\n",
        "\n",
        "Z = np.random.randint(0,10,(3,3))\n",
        "print(Z)\n",
        "print(Z[Z[:,1].argsort()])"
      ],
      "id": "68cde57f"
    },
    {
      "cell_type": "markdown",
      "metadata": {
        "id": "5b7be45c"
      },
      "source": [
        "#### 60. How to tell if a given 2D array has null columns? (★★☆)"
      ],
      "id": "5b7be45c"
    },
    {
      "cell_type": "code",
      "execution_count": null,
      "metadata": {
        "colab": {
          "base_uri": "https://localhost:8080/"
        },
        "id": "7dbe2c27",
        "outputId": "173e72d9-8425-449e-f9fc-517773e48336"
      },
      "outputs": [
        {
          "name": "stdout",
          "output_type": "stream",
          "text": [
            "True\n"
          ]
        }
      ],
      "source": [
        "# Author: Warren Weckesser\n",
        "\n",
        "Z = np.random.randint(0,3,(3,10))\n",
        "print((~Z.any(axis=0)).any())"
      ],
      "id": "7dbe2c27"
    },
    {
      "cell_type": "markdown",
      "metadata": {
        "id": "7c18c02e"
      },
      "source": [
        "#### 61. Find the nearest value from a given value in an array (★★☆)"
      ],
      "id": "7c18c02e"
    },
    {
      "cell_type": "code",
      "execution_count": null,
      "metadata": {
        "colab": {
          "base_uri": "https://localhost:8080/"
        },
        "id": "b78ae9c4",
        "outputId": "b188d8e9-4cc5-48ab-f57a-e4bf191c9061"
      },
      "outputs": [
        {
          "name": "stdout",
          "output_type": "stream",
          "text": [
            "0.6116361683542179\n"
          ]
        }
      ],
      "source": [
        "Z = np.random.uniform(0,1,10)\n",
        "z = 0.5\n",
        "m = Z.flat[np.abs(Z - z).argmin()]\n",
        "print(m)"
      ],
      "id": "b78ae9c4"
    },
    {
      "cell_type": "markdown",
      "metadata": {
        "id": "8174ba2c"
      },
      "source": [
        "#### 62. Considering two arrays with shape (1,3) and (3,1), how to compute their sum using an iterator? (★★☆)"
      ],
      "id": "8174ba2c"
    },
    {
      "cell_type": "code",
      "execution_count": null,
      "metadata": {
        "colab": {
          "base_uri": "https://localhost:8080/"
        },
        "id": "8a18fe57",
        "outputId": "febf9681-671a-4a08-c453-e3a476e67926"
      },
      "outputs": [
        {
          "name": "stdout",
          "output_type": "stream",
          "text": [
            "[[0 1 2]\n",
            " [1 2 3]\n",
            " [2 3 4]]\n"
          ]
        }
      ],
      "source": [
        "A = np.arange(3).reshape(3,1)\n",
        "B = np.arange(3).reshape(1,3)\n",
        "it = np.nditer([A,B,None])\n",
        "for x,y,z in it: z[...] = x + y\n",
        "print(it.operands[2])"
      ],
      "id": "8a18fe57"
    },
    {
      "cell_type": "markdown",
      "metadata": {
        "id": "9189bd7c"
      },
      "source": [
        "#### 63. Create an array class that has a name attribute (★★☆)"
      ],
      "id": "9189bd7c"
    },
    {
      "cell_type": "code",
      "execution_count": null,
      "metadata": {
        "colab": {
          "base_uri": "https://localhost:8080/"
        },
        "id": "1c01ed42",
        "outputId": "c1fcacd2-95a2-4bdf-d970-e4e02142fee2"
      },
      "outputs": [
        {
          "name": "stdout",
          "output_type": "stream",
          "text": [
            "range_10\n"
          ]
        }
      ],
      "source": [
        "class NamedArray(np.ndarray):\n",
        "    def __new__(cls, array, name=\"no name\"):\n",
        "        obj = np.asarray(array).view(cls)\n",
        "        obj.name = name\n",
        "        return obj\n",
        "    def __array_finalize__(self, obj):\n",
        "        if obj is None: return\n",
        "        self.info = getattr(obj, 'name', \"no name\")\n",
        "\n",
        "Z = NamedArray(np.arange(10), \"range_10\")\n",
        "print (Z.name)"
      ],
      "id": "1c01ed42"
    },
    {
      "cell_type": "markdown",
      "metadata": {
        "id": "f30162d2"
      },
      "source": [
        "#### 64. Consider a given vector, how to add 1 to each element indexed by a second vector (be careful with repeated indices)? (★★★)"
      ],
      "id": "f30162d2"
    },
    {
      "cell_type": "code",
      "execution_count": null,
      "metadata": {
        "colab": {
          "base_uri": "https://localhost:8080/"
        },
        "id": "093ba36f",
        "outputId": "d9b97c28-120e-4e98-d1eb-a0802d0a9ce1"
      },
      "outputs": [
        {
          "name": "stdout",
          "output_type": "stream",
          "text": [
            "[3. 2. 1. 4. 4. 4. 1. 3. 3. 5.]\n",
            "[5. 3. 1. 7. 7. 7. 1. 5. 5. 9.]\n"
          ]
        }
      ],
      "source": [
        "# Author: Brett Olsen\n",
        "\n",
        "Z = np.ones(10)\n",
        "I = np.random.randint(0,len(Z),20)\n",
        "Z += np.bincount(I, minlength=len(Z))\n",
        "print(Z)\n",
        "\n",
        "# Another solution\n",
        "# Author: Bartosz Telenczuk\n",
        "np.add.at(Z, I, 1)\n",
        "print(Z)"
      ],
      "id": "093ba36f"
    },
    {
      "cell_type": "markdown",
      "metadata": {
        "id": "f5b1c584"
      },
      "source": [
        "#### 65. How to accumulate elements of a vector (X) to an array (F) based on an index list (I)? (★★★)"
      ],
      "id": "f5b1c584"
    },
    {
      "cell_type": "code",
      "execution_count": null,
      "metadata": {
        "colab": {
          "base_uri": "https://localhost:8080/"
        },
        "id": "c9d92a75",
        "outputId": "2ff6217e-f6e2-48b0-e262-99ceaf0d66bc"
      },
      "outputs": [
        {
          "name": "stdout",
          "output_type": "stream",
          "text": [
            "[0. 7. 0. 6. 5. 0. 0. 0. 0. 3.]\n"
          ]
        }
      ],
      "source": [
        "# Author: Alan G Isaac\n",
        "\n",
        "X = [1,2,3,4,5,6]\n",
        "I = [1,3,9,3,4,1]\n",
        "F = np.bincount(I,X)\n",
        "print(F)"
      ],
      "id": "c9d92a75"
    },
    {
      "cell_type": "markdown",
      "metadata": {
        "id": "994c452d"
      },
      "source": [
        "#### 66. Considering a (w,h,3) image of (dtype=ubyte), compute the number of unique colors (★★☆)"
      ],
      "id": "994c452d"
    },
    {
      "cell_type": "code",
      "execution_count": null,
      "metadata": {
        "colab": {
          "base_uri": "https://localhost:8080/"
        },
        "id": "269cdaea",
        "outputId": "e054cc5a-d419-49d2-c6d3-105b31e88251"
      },
      "outputs": [
        {
          "name": "stdout",
          "output_type": "stream",
          "text": [
            "8\n"
          ]
        }
      ],
      "source": [
        "# Author: Nadav Horesh\n",
        "\n",
        "w,h = 16,16\n",
        "I = np.random.randint(0,2,(h,w,3)).astype(np.ubyte)\n",
        "#Note that we should compute 256*256 first.\n",
        "#Otherwise numpy will only promote F.dtype to 'uint16' and overfolw will occur\n",
        "F = I[...,0]*(256*256) + I[...,1]*256 +I[...,2]\n",
        "n = len(np.unique(F))\n",
        "print(n)"
      ],
      "id": "269cdaea"
    },
    {
      "cell_type": "markdown",
      "metadata": {
        "id": "4bddeb31"
      },
      "source": [
        "#### 67. Considering a four dimensions array, how to get sum over the last two axis at once? (★★★)"
      ],
      "id": "4bddeb31"
    },
    {
      "cell_type": "code",
      "execution_count": null,
      "metadata": {
        "colab": {
          "base_uri": "https://localhost:8080/"
        },
        "id": "32af15f5",
        "outputId": "c18464ef-05ba-4641-c668-4b528f76e678"
      },
      "outputs": [
        {
          "name": "stdout",
          "output_type": "stream",
          "text": [
            "[[49 41 56 61]\n",
            " [41 50 58 41]\n",
            " [41 58 61 69]]\n",
            "[[49 41 56 61]\n",
            " [41 50 58 41]\n",
            " [41 58 61 69]]\n"
          ]
        }
      ],
      "source": [
        "A = np.random.randint(0,10,(3,4,3,4))\n",
        "# solution by passing a tuple of axes (introduced in numpy 1.7.0)\n",
        "sum = A.sum(axis=(-2,-1))\n",
        "print(sum)\n",
        "# solution by flattening the last two dimensions into one\n",
        "# (useful for functions that don't accept tuples for axis argument)\n",
        "sum = A.reshape(A.shape[:-2] + (-1,)).sum(axis=-1)\n",
        "print(sum)"
      ],
      "id": "32af15f5"
    },
    {
      "cell_type": "markdown",
      "metadata": {
        "id": "c4cf083c"
      },
      "source": [
        "#### 68. Considering a one-dimensional vector D, how to compute means of subsets of D using a vector S of same size describing subset  indices? (★★★)"
      ],
      "id": "c4cf083c"
    },
    {
      "cell_type": "code",
      "execution_count": null,
      "metadata": {
        "colab": {
          "base_uri": "https://localhost:8080/"
        },
        "id": "9600a2dd",
        "outputId": "e7e65b0c-85bf-4470-a9e3-9df43d2c9f41"
      },
      "outputs": [
        {
          "name": "stdout",
          "output_type": "stream",
          "text": [
            "[0.33184565 0.5040861  0.5757983  0.47025033 0.50182616 0.41430441\n",
            " 0.25871246 0.47797767 0.53291045 0.7701678 ]\n",
            "0    0.331846\n",
            "1    0.504086\n",
            "2    0.575798\n",
            "3    0.470250\n",
            "4    0.501826\n",
            "5    0.414304\n",
            "6    0.258712\n",
            "7    0.477978\n",
            "8    0.532910\n",
            "9    0.770168\n",
            "dtype: float64\n"
          ]
        }
      ],
      "source": [
        "# Author: Jaime Fernández del Río\n",
        "\n",
        "D = np.random.uniform(0,1,100)\n",
        "S = np.random.randint(0,10,100)\n",
        "D_sums = np.bincount(S, weights=D)\n",
        "D_counts = np.bincount(S)\n",
        "D_means = D_sums / D_counts\n",
        "print(D_means)\n",
        "\n",
        "# Pandas solution as a reference due to more intuitive code\n",
        "import pandas as pd\n",
        "print(pd.Series(D).groupby(S).mean())"
      ],
      "id": "9600a2dd"
    },
    {
      "cell_type": "markdown",
      "metadata": {
        "id": "a5e316db"
      },
      "source": [
        "#### 69. How to get the diagonal of a dot product? (★★★)"
      ],
      "id": "a5e316db"
    },
    {
      "cell_type": "code",
      "execution_count": null,
      "metadata": {
        "colab": {
          "base_uri": "https://localhost:8080/"
        },
        "id": "94735dbd",
        "outputId": "96d772bf-f673-4c58-8e40-9d4ccab00843"
      },
      "outputs": [
        {
          "data": {
            "text/plain": [
              "array([1.38587472, 0.79017641, 1.71525802, 1.12240757, 1.95852254])"
            ]
          },
          "execution_count": 79,
          "metadata": {},
          "output_type": "execute_result"
        }
      ],
      "source": [
        "# Author: Mathieu Blondel\n",
        "\n",
        "A = np.random.uniform(0,1,(5,5))\n",
        "B = np.random.uniform(0,1,(5,5))\n",
        "\n",
        "# Slow version\n",
        "np.diag(np.dot(A, B))\n",
        "\n",
        "# Fast version\n",
        "np.sum(A * B.T, axis=1)\n",
        "\n",
        "# Faster version\n",
        "np.einsum(\"ij,ji->i\", A, B)"
      ],
      "id": "94735dbd"
    },
    {
      "cell_type": "markdown",
      "metadata": {
        "id": "de727a7b"
      },
      "source": [
        "#### 70. Consider the vector [1, 2, 3, 4, 5], how to build a new vector with 3 consecutive zeros interleaved between each value? (★★★)"
      ],
      "id": "de727a7b"
    },
    {
      "cell_type": "code",
      "execution_count": null,
      "metadata": {
        "colab": {
          "base_uri": "https://localhost:8080/"
        },
        "id": "982be812",
        "outputId": "cc77d1cd-5b80-4087-9d90-b1639f2d5083"
      },
      "outputs": [
        {
          "name": "stdout",
          "output_type": "stream",
          "text": [
            "[1. 0. 0. 0. 2. 0. 0. 0. 3. 0. 0. 0. 4. 0. 0. 0. 5.]\n"
          ]
        }
      ],
      "source": [
        "# Author: Warren Weckesser\n",
        "\n",
        "Z = np.array([1,2,3,4,5])\n",
        "nz = 3\n",
        "Z0 = np.zeros(len(Z) + (len(Z)-1)*(nz))\n",
        "Z0[::nz+1] = Z\n",
        "print(Z0)"
      ],
      "id": "982be812"
    },
    {
      "cell_type": "markdown",
      "metadata": {
        "id": "a9a73d6b"
      },
      "source": [
        "#### 71. Consider an array of dimension (5,5,3), how to mulitply it by an array with dimensions (5,5)? (★★★)"
      ],
      "id": "a9a73d6b"
    },
    {
      "cell_type": "code",
      "execution_count": null,
      "metadata": {
        "colab": {
          "base_uri": "https://localhost:8080/"
        },
        "id": "282a90cc",
        "outputId": "6acdf914-8dfa-4007-bdbc-af9c7d181d26"
      },
      "outputs": [
        {
          "name": "stdout",
          "output_type": "stream",
          "text": [
            "[[[2. 2. 2.]\n",
            "  [2. 2. 2.]\n",
            "  [2. 2. 2.]\n",
            "  [2. 2. 2.]\n",
            "  [2. 2. 2.]]\n",
            "\n",
            " [[2. 2. 2.]\n",
            "  [2. 2. 2.]\n",
            "  [2. 2. 2.]\n",
            "  [2. 2. 2.]\n",
            "  [2. 2. 2.]]\n",
            "\n",
            " [[2. 2. 2.]\n",
            "  [2. 2. 2.]\n",
            "  [2. 2. 2.]\n",
            "  [2. 2. 2.]\n",
            "  [2. 2. 2.]]\n",
            "\n",
            " [[2. 2. 2.]\n",
            "  [2. 2. 2.]\n",
            "  [2. 2. 2.]\n",
            "  [2. 2. 2.]\n",
            "  [2. 2. 2.]]\n",
            "\n",
            " [[2. 2. 2.]\n",
            "  [2. 2. 2.]\n",
            "  [2. 2. 2.]\n",
            "  [2. 2. 2.]\n",
            "  [2. 2. 2.]]]\n"
          ]
        }
      ],
      "source": [
        "A = np.ones((5,5,3))\n",
        "B = 2*np.ones((5,5))\n",
        "print(A * B[:,:,None])"
      ],
      "id": "282a90cc"
    },
    {
      "cell_type": "markdown",
      "metadata": {
        "id": "a951c78f"
      },
      "source": [
        "#### 72. How to swap two rows of an array? (★★★)"
      ],
      "id": "a951c78f"
    },
    {
      "cell_type": "code",
      "execution_count": null,
      "metadata": {
        "colab": {
          "base_uri": "https://localhost:8080/"
        },
        "id": "e29b3fde",
        "outputId": "2211698c-8432-48e9-fb71-5bb14f85fb8a"
      },
      "outputs": [
        {
          "name": "stdout",
          "output_type": "stream",
          "text": [
            "[[ 5  6  7  8  9]\n",
            " [ 0  1  2  3  4]\n",
            " [10 11 12 13 14]\n",
            " [15 16 17 18 19]\n",
            " [20 21 22 23 24]]\n"
          ]
        }
      ],
      "source": [
        "# Author: Eelco Hoogendoorn\n",
        "\n",
        "A = np.arange(25).reshape(5,5)\n",
        "A[[0,1]] = A[[1,0]]\n",
        "print(A)"
      ],
      "id": "e29b3fde"
    },
    {
      "cell_type": "markdown",
      "metadata": {
        "id": "43b639e8"
      },
      "source": [
        "#### 73. Consider a set of 10 triplets describing 10 triangles (with shared vertices), find the set of unique line segments composing all the  triangles (★★★)"
      ],
      "id": "43b639e8"
    },
    {
      "cell_type": "code",
      "execution_count": null,
      "metadata": {
        "colab": {
          "base_uri": "https://localhost:8080/"
        },
        "id": "147e1034",
        "outputId": "06d05a44-fdf1-4c48-b4a0-c4793bf1a72d"
      },
      "outputs": [
        {
          "name": "stdout",
          "output_type": "stream",
          "text": [
            "[( 0, 13) ( 0, 64) ( 1,  2) ( 1,  7) ( 2,  7) (13, 18) (13, 48) (13, 64)\n",
            " (15, 65) (15, 71) (18, 48) (19, 58) (19, 83) (19, 91) (19, 95) (23, 25)\n",
            " (23, 71) (25, 71) (34, 60) (34, 72) (49, 52) (49, 96) (52, 96) (58, 95)\n",
            " (60, 72) (60, 79) (60, 89) (65, 71) (79, 89) (83, 91)]\n"
          ]
        }
      ],
      "source": [
        "# Author: Nicolas P. Rougier\n",
        "\n",
        "faces = np.random.randint(0,100,(10,3))\n",
        "F = np.roll(faces.repeat(2,axis=1),-1,axis=1)\n",
        "F = F.reshape(len(F)*3,2)\n",
        "F = np.sort(F,axis=1)\n",
        "G = F.view( dtype=[('p0',F.dtype),('p1',F.dtype)] )\n",
        "G = np.unique(G)\n",
        "print(G)"
      ],
      "id": "147e1034"
    },
    {
      "cell_type": "markdown",
      "metadata": {
        "id": "d41de585"
      },
      "source": [
        "#### 74. Given a sorted array C that corresponds to a bincount, how to produce an array A such that np.bincount(A) == C? (★★★)"
      ],
      "id": "d41de585"
    },
    {
      "cell_type": "code",
      "execution_count": null,
      "metadata": {
        "colab": {
          "base_uri": "https://localhost:8080/"
        },
        "id": "5f5d6e36",
        "outputId": "fab2ad45-e124-4454-ab2c-01840a00fa39"
      },
      "outputs": [
        {
          "name": "stdout",
          "output_type": "stream",
          "text": [
            "[1 1 2 3 4 4 6]\n"
          ]
        }
      ],
      "source": [
        "# Author: Jaime Fernández del Río\n",
        "\n",
        "C = np.bincount([1,1,2,3,4,4,6])\n",
        "A = np.repeat(np.arange(len(C)), C)\n",
        "print(A)"
      ],
      "id": "5f5d6e36"
    },
    {
      "cell_type": "markdown",
      "metadata": {
        "id": "b50adf7c"
      },
      "source": [
        "#### 75. How to compute averages using a sliding window over an array? (★★★)"
      ],
      "id": "b50adf7c"
    },
    {
      "cell_type": "code",
      "execution_count": null,
      "metadata": {
        "colab": {
          "base_uri": "https://localhost:8080/"
        },
        "id": "e631a9d2",
        "outputId": "c4a7c4ed-25e7-4afc-ad37-8ce37418106c"
      },
      "outputs": [
        {
          "name": "stdout",
          "output_type": "stream",
          "text": [
            "[ 1.  2.  3.  4.  5.  6.  7.  8.  9. 10. 11. 12. 13. 14. 15. 16. 17. 18.]\n"
          ]
        }
      ],
      "source": [
        "# Author: Jaime Fernández del Río\n",
        "\n",
        "def moving_average(a, n=3) :\n",
        "    ret = np.cumsum(a, dtype=float)\n",
        "    ret[n:] = ret[n:] - ret[:-n]\n",
        "    return ret[n - 1:] / n\n",
        "Z = np.arange(20)\n",
        "print(moving_average(Z, n=3))"
      ],
      "id": "e631a9d2"
    },
    {
      "cell_type": "markdown",
      "metadata": {
        "id": "1ab4c50d"
      },
      "source": [
        "#### 76. Consider a one-dimensional array Z, build a two-dimensional array whose first row is (Z[0],Z[1],Z[2]) and each subsequent row is  shifted by 1 (last row should be (Z[-3],Z[-2],Z[-1]) (★★★)"
      ],
      "id": "1ab4c50d"
    },
    {
      "cell_type": "code",
      "execution_count": null,
      "metadata": {
        "colab": {
          "base_uri": "https://localhost:8080/"
        },
        "id": "3ccfe2c0",
        "outputId": "1c54b726-1f5c-4449-88ea-f6c70a5fc6b9"
      },
      "outputs": [
        {
          "name": "stdout",
          "output_type": "stream",
          "text": [
            "[[0 1 2]\n",
            " [1 2 3]\n",
            " [2 3 4]\n",
            " [3 4 5]\n",
            " [4 5 6]\n",
            " [5 6 7]\n",
            " [6 7 8]\n",
            " [7 8 9]]\n"
          ]
        }
      ],
      "source": [
        "# Author: Joe Kington / Erik Rigtorp\n",
        "from numpy.lib import stride_tricks\n",
        "\n",
        "def rolling(a, window):\n",
        "    shape = (a.size - window + 1, window)\n",
        "    strides = (a.itemsize, a.itemsize)\n",
        "    return stride_tricks.as_strided(a, shape=shape, strides=strides)\n",
        "Z = rolling(np.arange(10), 3)\n",
        "print(Z)"
      ],
      "id": "3ccfe2c0"
    },
    {
      "cell_type": "markdown",
      "metadata": {
        "id": "5b4fe59d"
      },
      "source": [
        "#### 77. How to negate a boolean, or to change the sign of a float inplace? (★★★)"
      ],
      "id": "5b4fe59d"
    },
    {
      "cell_type": "code",
      "execution_count": null,
      "metadata": {
        "colab": {
          "base_uri": "https://localhost:8080/"
        },
        "id": "3c2373ff",
        "outputId": "622df70b-5e3e-447f-9783-cb71a3c1b3ea"
      },
      "outputs": [
        {
          "data": {
            "text/plain": [
              "array([ 0.33892067, -0.16130396, -0.90000914,  0.37178129, -0.44576439,\n",
              "        0.85570261, -0.84030982, -0.19752525,  0.4432905 , -0.50295793,\n",
              "        0.06857809, -0.61724361, -0.91014113, -0.80450242, -0.00402499,\n",
              "       -0.20548953, -0.35274028, -0.7747301 ,  0.29929105,  0.4008137 ,\n",
              "        0.56382489,  0.87011779,  0.36191117,  0.27784592, -0.11286457,\n",
              "        0.97072307, -0.64755894, -0.3957809 ,  0.34122565, -0.7508974 ,\n",
              "        0.0749653 , -0.88320168,  0.67027033,  0.07338272, -0.63579581,\n",
              "        0.61521308, -0.17599865,  0.12652283,  0.30257985, -0.6290826 ,\n",
              "        0.76444529, -0.64815642, -0.36263572,  0.16654573, -0.43958318,\n",
              "        0.44016459, -0.10999492,  0.57348241,  0.18983015, -0.42226106,\n",
              "        0.02411465,  0.79026451, -0.04246209,  0.17519285,  0.5280221 ,\n",
              "       -0.98612411,  0.27725554, -0.12689873, -0.86085495, -0.32822141,\n",
              "       -0.74687749, -0.07892157, -0.41242399, -0.66440923, -0.09366904,\n",
              "       -0.8762112 , -0.73616828,  0.00551707, -0.75310618, -0.68110087,\n",
              "       -0.15603718,  0.86918262,  0.68854547, -0.44512609, -0.19651161,\n",
              "       -0.17728025,  0.89649992,  0.00374036, -0.4719138 , -0.73510856,\n",
              "       -0.53709771, -0.71756771,  0.44099162, -0.738387  ,  0.53644143,\n",
              "        0.21410311,  0.73221231,  0.64689001, -0.2909488 , -0.75082756,\n",
              "        0.16694703,  0.66052857, -0.88248487, -0.16651107, -0.61381128,\n",
              "        0.58975018, -0.58906339,  0.8800811 , -0.97743971,  0.67010969])"
            ]
          },
          "execution_count": 87,
          "metadata": {},
          "output_type": "execute_result"
        }
      ],
      "source": [
        "# Author: Nathaniel J. Smith\n",
        "\n",
        "Z = np.random.randint(0,2,100)\n",
        "np.logical_not(Z, out=Z)\n",
        "\n",
        "Z = np.random.uniform(-1.0,1.0,100)\n",
        "np.negative(Z, out=Z)"
      ],
      "id": "3c2373ff"
    },
    {
      "cell_type": "markdown",
      "metadata": {
        "id": "119ab5af"
      },
      "source": [
        "#### 78. Consider 2 sets of points P0,P1 describing lines (2d) and a point p, how to compute distance from p to each line i (P0[i],P1[i])? (★★★)"
      ],
      "id": "119ab5af"
    },
    {
      "cell_type": "code",
      "execution_count": null,
      "metadata": {
        "colab": {
          "base_uri": "https://localhost:8080/"
        },
        "id": "1d8d06dc",
        "outputId": "884fdd68-a1ad-440d-d9fc-f48716eb83ea"
      },
      "outputs": [
        {
          "name": "stdout",
          "output_type": "stream",
          "text": [
            "[ 9.66608357  7.59586493  9.70475967  8.56122171  3.57777492  9.53212123\n",
            "  0.29863931  7.66345181 16.22818408 15.82881084]\n"
          ]
        }
      ],
      "source": [
        "def distance(P0, P1, p):\n",
        "    T = P1 - P0\n",
        "    L = (T**2).sum(axis=1)\n",
        "    U = -((P0[:,0]-p[...,0])*T[:,0] + (P0[:,1]-p[...,1])*T[:,1]) / L\n",
        "    U = U.reshape(len(U),1)\n",
        "    D = P0 + U*T - p\n",
        "    return np.sqrt((D**2).sum(axis=1))\n",
        "\n",
        "P0 = np.random.uniform(-10,10,(10,2))\n",
        "P1 = np.random.uniform(-10,10,(10,2))\n",
        "p  = np.random.uniform(-10,10,( 1,2))\n",
        "print(distance(P0, P1, p))"
      ],
      "id": "1d8d06dc"
    },
    {
      "cell_type": "markdown",
      "metadata": {
        "id": "e5e7f323"
      },
      "source": [
        "#### 79. Consider 2 sets of points P0,P1 describing lines (2d) and a set of points P, how to compute distance from each point j (P[j]) to each line i (P0[i],P1[i])? (★★★)"
      ],
      "id": "e5e7f323"
    },
    {
      "cell_type": "code",
      "execution_count": null,
      "metadata": {
        "colab": {
          "base_uri": "https://localhost:8080/"
        },
        "id": "d0ce77e2",
        "outputId": "d47e7b91-0481-4e29-c2f8-fc9252ac2ee7"
      },
      "outputs": [
        {
          "name": "stdout",
          "output_type": "stream",
          "text": [
            "[[10.53989195  2.43053437  3.95683712  3.71546281  7.58276629  4.75092684\n",
            "   5.31628373  2.46244166  0.68700016  7.00175919]\n",
            " [ 6.04898843  2.30592063  2.60123126  4.99543251  0.94397911  2.0807027\n",
            "   2.10883407  1.67411247  0.66530066  0.38951927]\n",
            " [ 0.85528882 13.69396409  2.40255669  6.56201912  3.97140408  7.43926224\n",
            "  13.10655282  9.20910024 10.89101997  3.87958087]\n",
            " [ 8.48579264  8.99073884  6.83233174  3.42813398 12.10875173  0.43529923\n",
            "  12.95178723  0.1013145   7.86041322 11.78093886]\n",
            " [ 6.472107    8.71973803  3.70074652  2.60293476  8.88611518  0.66141289\n",
            "  11.21766818  1.93427466  7.00073643  8.56236931]\n",
            " [ 3.97617324  1.7412806   6.07841488  6.17854543  2.69977932  1.08537539\n",
            "   0.0691864   3.53189494  1.8866191   3.26045958]\n",
            " [ 5.54121387 11.20809063  4.57358571  5.27424087 10.3833486   2.39057321\n",
            "  14.01130204  3.04693946  9.68094804 10.15669234]\n",
            " [ 3.75675191  0.64228077  8.50968034  9.01802646  5.74125299  2.06664843\n",
            "   3.49632942  3.4926583   4.75223325  6.38724287]\n",
            " [ 9.76608219  3.02510436  3.37379632  3.21645847  7.14291007  4.0027619\n",
            "   5.61104215  1.6871521   1.1793972   6.58891842]\n",
            " [ 3.39547749 12.50440397  2.64396321  6.24634408  8.76090657  4.30041091\n",
            "  14.34389443  5.16100603 10.6313798   8.59632558]]\n"
          ]
        }
      ],
      "source": [
        "# Author: Italmassov Kuanysh\n",
        "\n",
        "# based on distance function from previous question\n",
        "P0 = np.random.uniform(-10, 10, (10,2))\n",
        "P1 = np.random.uniform(-10,10,(10,2))\n",
        "p = np.random.uniform(-10, 10, (10,2))\n",
        "print(np.array([distance(P0,P1,p_i) for p_i in p]))"
      ],
      "id": "d0ce77e2"
    },
    {
      "cell_type": "markdown",
      "metadata": {
        "id": "9b9d03eb"
      },
      "source": [
        "#### 80. Consider an arbitrary array, write a function that extract a subpart with a fixed shape and centered on a given element (pad with a `fill` value when necessary) (★★★)"
      ],
      "id": "9b9d03eb"
    },
    {
      "cell_type": "code",
      "execution_count": null,
      "metadata": {
        "colab": {
          "base_uri": "https://localhost:8080/",
          "height": 402
        },
        "id": "ec2b7ae3",
        "outputId": "19b4082b-339e-478b-d571-d48121ed916e"
      },
      "outputs": [
        {
          "ename": "IndexError",
          "evalue": "ignored",
          "output_type": "error",
          "traceback": [
            "\u001b[0;31m---------------------------------------------------------------------------\u001b[0m",
            "\u001b[0;31mIndexError\u001b[0m                                Traceback (most recent call last)",
            "\u001b[0;32m<ipython-input-90-69265b202653>\u001b[0m in \u001b[0;36m<cell line: 25>\u001b[0;34m()\u001b[0m\n\u001b[1;32m     23\u001b[0m \u001b[0mr\u001b[0m \u001b[0;34m=\u001b[0m \u001b[0;34m[\u001b[0m\u001b[0mslice\u001b[0m\u001b[0;34m(\u001b[0m\u001b[0mstart\u001b[0m\u001b[0;34m,\u001b[0m\u001b[0mstop\u001b[0m\u001b[0;34m)\u001b[0m \u001b[0;32mfor\u001b[0m \u001b[0mstart\u001b[0m\u001b[0;34m,\u001b[0m\u001b[0mstop\u001b[0m \u001b[0;32min\u001b[0m \u001b[0mzip\u001b[0m\u001b[0;34m(\u001b[0m\u001b[0mR_start\u001b[0m\u001b[0;34m,\u001b[0m\u001b[0mR_stop\u001b[0m\u001b[0;34m)\u001b[0m\u001b[0;34m]\u001b[0m\u001b[0;34m\u001b[0m\u001b[0;34m\u001b[0m\u001b[0m\n\u001b[1;32m     24\u001b[0m \u001b[0mz\u001b[0m \u001b[0;34m=\u001b[0m \u001b[0;34m[\u001b[0m\u001b[0mslice\u001b[0m\u001b[0;34m(\u001b[0m\u001b[0mstart\u001b[0m\u001b[0;34m,\u001b[0m\u001b[0mstop\u001b[0m\u001b[0;34m)\u001b[0m \u001b[0;32mfor\u001b[0m \u001b[0mstart\u001b[0m\u001b[0;34m,\u001b[0m\u001b[0mstop\u001b[0m \u001b[0;32min\u001b[0m \u001b[0mzip\u001b[0m\u001b[0;34m(\u001b[0m\u001b[0mZ_start\u001b[0m\u001b[0;34m,\u001b[0m\u001b[0mZ_stop\u001b[0m\u001b[0;34m)\u001b[0m\u001b[0;34m]\u001b[0m\u001b[0;34m\u001b[0m\u001b[0;34m\u001b[0m\u001b[0m\n\u001b[0;32m---> 25\u001b[0;31m \u001b[0mR\u001b[0m\u001b[0;34m[\u001b[0m\u001b[0mr\u001b[0m\u001b[0;34m]\u001b[0m \u001b[0;34m=\u001b[0m \u001b[0mZ\u001b[0m\u001b[0;34m[\u001b[0m\u001b[0mz\u001b[0m\u001b[0;34m]\u001b[0m\u001b[0;34m\u001b[0m\u001b[0;34m\u001b[0m\u001b[0m\n\u001b[0m\u001b[1;32m     26\u001b[0m \u001b[0mprint\u001b[0m\u001b[0;34m(\u001b[0m\u001b[0mZ\u001b[0m\u001b[0;34m)\u001b[0m\u001b[0;34m\u001b[0m\u001b[0;34m\u001b[0m\u001b[0m\n\u001b[1;32m     27\u001b[0m \u001b[0mprint\u001b[0m\u001b[0;34m(\u001b[0m\u001b[0mR\u001b[0m\u001b[0;34m)\u001b[0m\u001b[0;34m\u001b[0m\u001b[0;34m\u001b[0m\u001b[0m\n",
            "\u001b[0;31mIndexError\u001b[0m: only integers, slices (`:`), ellipsis (`...`), numpy.newaxis (`None`) and integer or boolean arrays are valid indices"
          ]
        }
      ],
      "source": [
        "# Author: Nicolas Rougier\n",
        "\n",
        "Z = np.random.randint(0,10,(10,10))\n",
        "shape = (5,5)\n",
        "fill  = 0\n",
        "position = (1,1)\n",
        "\n",
        "R = np.ones(shape, dtype=Z.dtype)*fill\n",
        "P  = np.array(list(position)).astype(int)\n",
        "Rs = np.array(list(R.shape)).astype(int)\n",
        "Zs = np.array(list(Z.shape)).astype(int)\n",
        "\n",
        "R_start = np.zeros((len(shape),)).astype(int)\n",
        "R_stop  = np.array(list(shape)).astype(int)\n",
        "Z_start = (P-Rs//2)\n",
        "Z_stop  = (P+Rs//2)+Rs%2\n",
        "\n",
        "R_start = (R_start - np.minimum(Z_start,0)).tolist()\n",
        "Z_start = (np.maximum(Z_start,0)).tolist()\n",
        "R_stop = np.maximum(R_start, (R_stop - np.maximum(Z_stop-Zs,0))).tolist()\n",
        "Z_stop = (np.minimum(Z_stop,Zs)).tolist()\n",
        "\n",
        "r = [slice(start,stop) for start,stop in zip(R_start,R_stop)]\n",
        "z = [slice(start,stop) for start,stop in zip(Z_start,Z_stop)]\n",
        "R[r] = Z[z]\n",
        "print(Z)\n",
        "print(R)"
      ],
      "id": "ec2b7ae3"
    },
    {
      "cell_type": "markdown",
      "metadata": {
        "id": "27794913"
      },
      "source": [
        "#### 81. Consider an array Z = [1,2,3,4,5,6,7,8,9,10,11,12,13,14], how to generate an array R = [[1,2,3,4], [2,3,4,5], [3,4,5,6], ..., [11,12,13,14]]? (★★★)"
      ],
      "id": "27794913"
    },
    {
      "cell_type": "code",
      "execution_count": null,
      "metadata": {
        "colab": {
          "base_uri": "https://localhost:8080/"
        },
        "id": "f3e7878b",
        "outputId": "5115a191-d9ed-4ae4-928c-18d110c3fb8b"
      },
      "outputs": [
        {
          "name": "stdout",
          "output_type": "stream",
          "text": [
            "[[ 1  2  3  4]\n",
            " [ 2  3  4  5]\n",
            " [ 3  4  5  6]\n",
            " [ 4  5  6  7]\n",
            " [ 5  6  7  8]\n",
            " [ 6  7  8  9]\n",
            " [ 7  8  9 10]\n",
            " [ 8  9 10 11]\n",
            " [ 9 10 11 12]\n",
            " [10 11 12 13]\n",
            " [11 12 13 14]]\n"
          ]
        }
      ],
      "source": [
        "# Author: Stefan van der Walt\n",
        "\n",
        "Z = np.arange(1,15,dtype=np.uint32)\n",
        "R = stride_tricks.as_strided(Z,(11,4),(4,4))\n",
        "print(R)"
      ],
      "id": "f3e7878b"
    },
    {
      "cell_type": "markdown",
      "metadata": {
        "id": "fae786f5"
      },
      "source": [
        "#### 82. Compute a matrix rank (★★★)"
      ],
      "id": "fae786f5"
    },
    {
      "cell_type": "code",
      "execution_count": null,
      "metadata": {
        "colab": {
          "base_uri": "https://localhost:8080/"
        },
        "id": "64b9615b",
        "outputId": "469fe710-7315-4d17-e60a-2998dd959b33"
      },
      "outputs": [
        {
          "name": "stdout",
          "output_type": "stream",
          "text": [
            "10\n"
          ]
        }
      ],
      "source": [
        "# Author: Stefan van der Walt\n",
        "\n",
        "Z = np.random.uniform(0,1,(10,10))\n",
        "U, S, V = np.linalg.svd(Z) # Singular Value Decomposition\n",
        "rank = np.sum(S > 1e-10)\n",
        "print(rank)"
      ],
      "id": "64b9615b"
    },
    {
      "cell_type": "markdown",
      "metadata": {
        "id": "c85aa0b9"
      },
      "source": [
        "#### 83. How to find the most frequent value in an array?"
      ],
      "id": "c85aa0b9"
    },
    {
      "cell_type": "code",
      "execution_count": null,
      "metadata": {
        "colab": {
          "base_uri": "https://localhost:8080/"
        },
        "id": "056be85b",
        "outputId": "961dffdf-eb67-45e3-db6f-89b62e3e6053"
      },
      "outputs": [
        {
          "name": "stdout",
          "output_type": "stream",
          "text": [
            "1\n"
          ]
        }
      ],
      "source": [
        "Z = np.random.randint(0,10,50)\n",
        "print(np.bincount(Z).argmax())"
      ],
      "id": "056be85b"
    },
    {
      "cell_type": "markdown",
      "metadata": {
        "id": "0ff2344d"
      },
      "source": [
        "#### 84. Extract all the contiguous 3x3 blocks from a random 10x10 matrix (★★★)"
      ],
      "id": "0ff2344d"
    },
    {
      "cell_type": "code",
      "execution_count": null,
      "metadata": {
        "colab": {
          "base_uri": "https://localhost:8080/"
        },
        "id": "d58b1318",
        "outputId": "6de9f049-545e-4adc-b99d-2e538a11cb99"
      },
      "outputs": [
        {
          "name": "stdout",
          "output_type": "stream",
          "text": [
            "[[[[4 4 3]\n",
            "   [3 1 1]\n",
            "   [0 2 0]]\n",
            "\n",
            "  [[4 3 2]\n",
            "   [1 1 0]\n",
            "   [2 0 3]]\n",
            "\n",
            "  [[3 2 0]\n",
            "   [1 0 1]\n",
            "   [0 3 3]]\n",
            "\n",
            "  [[2 0 2]\n",
            "   [0 1 1]\n",
            "   [3 3 1]]\n",
            "\n",
            "  [[0 2 4]\n",
            "   [1 1 3]\n",
            "   [3 1 4]]\n",
            "\n",
            "  [[2 4 1]\n",
            "   [1 3 4]\n",
            "   [1 4 4]]\n",
            "\n",
            "  [[4 1 3]\n",
            "   [3 4 1]\n",
            "   [4 4 1]]\n",
            "\n",
            "  [[1 3 4]\n",
            "   [4 1 0]\n",
            "   [4 1 0]]]\n",
            "\n",
            "\n",
            " [[[3 1 1]\n",
            "   [0 2 0]\n",
            "   [1 4 0]]\n",
            "\n",
            "  [[1 1 0]\n",
            "   [2 0 3]\n",
            "   [4 0 4]]\n",
            "\n",
            "  [[1 0 1]\n",
            "   [0 3 3]\n",
            "   [0 4 0]]\n",
            "\n",
            "  [[0 1 1]\n",
            "   [3 3 1]\n",
            "   [4 0 4]]\n",
            "\n",
            "  [[1 1 3]\n",
            "   [3 1 4]\n",
            "   [0 4 0]]\n",
            "\n",
            "  [[1 3 4]\n",
            "   [1 4 4]\n",
            "   [4 0 3]]\n",
            "\n",
            "  [[3 4 1]\n",
            "   [4 4 1]\n",
            "   [0 3 0]]\n",
            "\n",
            "  [[4 1 0]\n",
            "   [4 1 0]\n",
            "   [3 0 0]]]\n",
            "\n",
            "\n",
            " [[[0 2 0]\n",
            "   [1 4 0]\n",
            "   [0 4 4]]\n",
            "\n",
            "  [[2 0 3]\n",
            "   [4 0 4]\n",
            "   [4 4 0]]\n",
            "\n",
            "  [[0 3 3]\n",
            "   [0 4 0]\n",
            "   [4 0 3]]\n",
            "\n",
            "  [[3 3 1]\n",
            "   [4 0 4]\n",
            "   [0 3 2]]\n",
            "\n",
            "  [[3 1 4]\n",
            "   [0 4 0]\n",
            "   [3 2 1]]\n",
            "\n",
            "  [[1 4 4]\n",
            "   [4 0 3]\n",
            "   [2 1 1]]\n",
            "\n",
            "  [[4 4 1]\n",
            "   [0 3 0]\n",
            "   [1 1 2]]\n",
            "\n",
            "  [[4 1 0]\n",
            "   [3 0 0]\n",
            "   [1 2 2]]]\n",
            "\n",
            "\n",
            " [[[1 4 0]\n",
            "   [0 4 4]\n",
            "   [0 2 4]]\n",
            "\n",
            "  [[4 0 4]\n",
            "   [4 4 0]\n",
            "   [2 4 4]]\n",
            "\n",
            "  [[0 4 0]\n",
            "   [4 0 3]\n",
            "   [4 4 4]]\n",
            "\n",
            "  [[4 0 4]\n",
            "   [0 3 2]\n",
            "   [4 4 1]]\n",
            "\n",
            "  [[0 4 0]\n",
            "   [3 2 1]\n",
            "   [4 1 0]]\n",
            "\n",
            "  [[4 0 3]\n",
            "   [2 1 1]\n",
            "   [1 0 4]]\n",
            "\n",
            "  [[0 3 0]\n",
            "   [1 1 2]\n",
            "   [0 4 1]]\n",
            "\n",
            "  [[3 0 0]\n",
            "   [1 2 2]\n",
            "   [4 1 2]]]\n",
            "\n",
            "\n",
            " [[[0 4 4]\n",
            "   [0 2 4]\n",
            "   [1 1 3]]\n",
            "\n",
            "  [[4 4 0]\n",
            "   [2 4 4]\n",
            "   [1 3 4]]\n",
            "\n",
            "  [[4 0 3]\n",
            "   [4 4 4]\n",
            "   [3 4 2]]\n",
            "\n",
            "  [[0 3 2]\n",
            "   [4 4 1]\n",
            "   [4 2 2]]\n",
            "\n",
            "  [[3 2 1]\n",
            "   [4 1 0]\n",
            "   [2 2 2]]\n",
            "\n",
            "  [[2 1 1]\n",
            "   [1 0 4]\n",
            "   [2 2 0]]\n",
            "\n",
            "  [[1 1 2]\n",
            "   [0 4 1]\n",
            "   [2 0 0]]\n",
            "\n",
            "  [[1 2 2]\n",
            "   [4 1 2]\n",
            "   [0 0 2]]]\n",
            "\n",
            "\n",
            " [[[0 2 4]\n",
            "   [1 1 3]\n",
            "   [1 1 0]]\n",
            "\n",
            "  [[2 4 4]\n",
            "   [1 3 4]\n",
            "   [1 0 0]]\n",
            "\n",
            "  [[4 4 4]\n",
            "   [3 4 2]\n",
            "   [0 0 3]]\n",
            "\n",
            "  [[4 4 1]\n",
            "   [4 2 2]\n",
            "   [0 3 0]]\n",
            "\n",
            "  [[4 1 0]\n",
            "   [2 2 2]\n",
            "   [3 0 2]]\n",
            "\n",
            "  [[1 0 4]\n",
            "   [2 2 0]\n",
            "   [0 2 1]]\n",
            "\n",
            "  [[0 4 1]\n",
            "   [2 0 0]\n",
            "   [2 1 2]]\n",
            "\n",
            "  [[4 1 2]\n",
            "   [0 0 2]\n",
            "   [1 2 1]]]\n",
            "\n",
            "\n",
            " [[[1 1 3]\n",
            "   [1 1 0]\n",
            "   [1 4 1]]\n",
            "\n",
            "  [[1 3 4]\n",
            "   [1 0 0]\n",
            "   [4 1 4]]\n",
            "\n",
            "  [[3 4 2]\n",
            "   [0 0 3]\n",
            "   [1 4 3]]\n",
            "\n",
            "  [[4 2 2]\n",
            "   [0 3 0]\n",
            "   [4 3 0]]\n",
            "\n",
            "  [[2 2 2]\n",
            "   [3 0 2]\n",
            "   [3 0 3]]\n",
            "\n",
            "  [[2 2 0]\n",
            "   [0 2 1]\n",
            "   [0 3 4]]\n",
            "\n",
            "  [[2 0 0]\n",
            "   [2 1 2]\n",
            "   [3 4 2]]\n",
            "\n",
            "  [[0 0 2]\n",
            "   [1 2 1]\n",
            "   [4 2 4]]]\n",
            "\n",
            "\n",
            " [[[1 1 0]\n",
            "   [1 4 1]\n",
            "   [3 0 4]]\n",
            "\n",
            "  [[1 0 0]\n",
            "   [4 1 4]\n",
            "   [0 4 0]]\n",
            "\n",
            "  [[0 0 3]\n",
            "   [1 4 3]\n",
            "   [4 0 3]]\n",
            "\n",
            "  [[0 3 0]\n",
            "   [4 3 0]\n",
            "   [0 3 3]]\n",
            "\n",
            "  [[3 0 2]\n",
            "   [3 0 3]\n",
            "   [3 3 2]]\n",
            "\n",
            "  [[0 2 1]\n",
            "   [0 3 4]\n",
            "   [3 2 1]]\n",
            "\n",
            "  [[2 1 2]\n",
            "   [3 4 2]\n",
            "   [2 1 3]]\n",
            "\n",
            "  [[1 2 1]\n",
            "   [4 2 4]\n",
            "   [1 3 1]]]]\n"
          ]
        }
      ],
      "source": [
        "# Author: Chris Barker\n",
        "\n",
        "Z = np.random.randint(0,5,(10,10))\n",
        "n = 3\n",
        "i = 1 + (Z.shape[0]-3)\n",
        "j = 1 + (Z.shape[1]-3)\n",
        "C = stride_tricks.as_strided(Z, shape=(i, j, n, n), strides=Z.strides + Z.strides)\n",
        "print(C)"
      ],
      "id": "d58b1318"
    },
    {
      "cell_type": "markdown",
      "metadata": {
        "id": "1a18b263"
      },
      "source": [
        "#### 85. Create a 2D array subclass such that Z[i,j] == Z[j,i] (★★★)"
      ],
      "id": "1a18b263"
    },
    {
      "cell_type": "code",
      "execution_count": null,
      "metadata": {
        "colab": {
          "base_uri": "https://localhost:8080/"
        },
        "id": "87f17adc",
        "outputId": "f77a252b-8812-49df-976b-f454df7b1a4b"
      },
      "outputs": [
        {
          "name": "stdout",
          "output_type": "stream",
          "text": [
            "[[ 3  4  4 10 18]\n",
            " [ 4  4  8 13  8]\n",
            " [ 4  8  9 42  8]\n",
            " [10 13 42  6  6]\n",
            " [18  8  8  6  9]]\n"
          ]
        }
      ],
      "source": [
        "# Author: Eric O. Lebigot\n",
        "# Note: only works for 2d array and value setting using indices\n",
        "\n",
        "class Symetric(np.ndarray):\n",
        "    def __setitem__(self, index, value):\n",
        "        i,j = index\n",
        "        super(Symetric, self).__setitem__((i,j), value)\n",
        "        super(Symetric, self).__setitem__((j,i), value)\n",
        "\n",
        "def symetric(Z):\n",
        "    return np.asarray(Z + Z.T - np.diag(Z.diagonal())).view(Symetric)\n",
        "\n",
        "S = symetric(np.random.randint(0,10,(5,5)))\n",
        "S[2,3] = 42\n",
        "print(S)"
      ],
      "id": "87f17adc"
    },
    {
      "cell_type": "markdown",
      "metadata": {
        "id": "f85f2cad"
      },
      "source": [
        "#### 86. Consider a set of p matrices wich shape (n,n) and a set of p vectors with shape (n,1). How to compute the sum of of the p matrix products at once? (result has shape (n,1)) (★★★)"
      ],
      "id": "f85f2cad"
    },
    {
      "cell_type": "code",
      "execution_count": null,
      "metadata": {
        "colab": {
          "base_uri": "https://localhost:8080/"
        },
        "id": "8d230557",
        "outputId": "93385ce5-b4e3-4a40-c869-e1004df5b43f"
      },
      "outputs": [
        {
          "name": "stdout",
          "output_type": "stream",
          "text": [
            "[[200.]\n",
            " [200.]\n",
            " [200.]\n",
            " [200.]\n",
            " [200.]\n",
            " [200.]\n",
            " [200.]\n",
            " [200.]\n",
            " [200.]\n",
            " [200.]\n",
            " [200.]\n",
            " [200.]\n",
            " [200.]\n",
            " [200.]\n",
            " [200.]\n",
            " [200.]\n",
            " [200.]\n",
            " [200.]\n",
            " [200.]\n",
            " [200.]]\n"
          ]
        }
      ],
      "source": [
        "p, n = 10, 20\n",
        "M = np.ones((p,n,n))\n",
        "V = np.ones((p,n,1))\n",
        "S = np.tensordot(M, V, axes=[[0, 2], [0, 1]])\n",
        "print(S)"
      ],
      "id": "8d230557"
    },
    {
      "cell_type": "markdown",
      "metadata": {
        "id": "5afb72c8"
      },
      "source": [
        "#### 87. Consider a 16x16 array, how to get the block-sum (block size is 4x4)? (★★★)"
      ],
      "id": "5afb72c8"
    },
    {
      "cell_type": "code",
      "execution_count": null,
      "metadata": {
        "colab": {
          "base_uri": "https://localhost:8080/"
        },
        "id": "e86f47a9",
        "outputId": "88ef17ae-f7c4-4d48-871d-85baea079414"
      },
      "outputs": [
        {
          "name": "stdout",
          "output_type": "stream",
          "text": [
            "[[16. 16. 16. 16.]\n",
            " [16. 16. 16. 16.]\n",
            " [16. 16. 16. 16.]\n",
            " [16. 16. 16. 16.]]\n"
          ]
        }
      ],
      "source": [
        "Z = np.ones((16,16))\n",
        "k = 4\n",
        "S = np.add.reduceat(np.add.reduceat(Z, np.arange(0, Z.shape[0], k), axis=0),\n",
        "                                       np.arange(0, Z.shape[1], k), axis=1)\n",
        "print(S)"
      ],
      "id": "e86f47a9"
    },
    {
      "cell_type": "markdown",
      "metadata": {
        "id": "6094d37c"
      },
      "source": [
        "#### 88. How to implement the Game of Life using numpy arrays? (★★★)"
      ],
      "id": "6094d37c"
    },
    {
      "cell_type": "code",
      "execution_count": null,
      "metadata": {
        "colab": {
          "base_uri": "https://localhost:8080/"
        },
        "id": "a93e715f",
        "outputId": "3a384aeb-e075-4acc-c064-c3fe35fe5a8b"
      },
      "outputs": [
        {
          "output_type": "stream",
          "name": "stdout",
          "text": [
            "[[0 0 0 ... 0 0 0]\n",
            " [0 0 0 ... 0 0 0]\n",
            " [0 0 0 ... 0 0 0]\n",
            " ...\n",
            " [0 0 1 ... 0 0 0]\n",
            " [0 0 1 ... 0 0 0]\n",
            " [0 0 0 ... 0 0 0]]\n"
          ]
        }
      ],
      "source": [
        "def iterate(Z):\n",
        "    # Count neighbours\n",
        "    N = (Z[0:-2,0:-2] + Z[0:-2,1:-1] + Z[0:-2,2:] +\n",
        "         Z[1:-1,0:-2]                + Z[1:-1,2:] +\n",
        "         Z[2:  ,0:-2] + Z[2:  ,1:-1] + Z[2:  ,2:])\n",
        "\n",
        "    # Apply rules\n",
        "    birth = (N==3) & (Z[1:-1,1:-1]==0)\n",
        "    survive = ((N==2) | (N==3)) & (Z[1:-1,1:-1]==1)\n",
        "    Z[...] = 0\n",
        "    Z[1:-1,1:-1][birth | survive] = 1\n",
        "    return Z\n",
        "\n",
        "Z = np.random.randint(0,2,(50,50))\n",
        "for i in range(100): Z = iterate(Z)\n",
        "print(Z)"
      ],
      "id": "a93e715f"
    },
    {
      "cell_type": "markdown",
      "metadata": {
        "id": "a173cf96"
      },
      "source": [
        "#### 89. How to get the n largest values of an array (★★★)"
      ],
      "id": "a173cf96"
    },
    {
      "cell_type": "code",
      "execution_count": null,
      "metadata": {
        "id": "b7c2ff35",
        "colab": {
          "base_uri": "https://localhost:8080/"
        },
        "outputId": "7d77fc13-ef82-4d62-c734-16e0cad0d483"
      },
      "outputs": [
        {
          "output_type": "stream",
          "name": "stdout",
          "text": [
            "[9995 9996 9997 9998 9999]\n",
            "[9997 9998 9999 9996 9995]\n"
          ]
        }
      ],
      "source": [
        "Z = np.arange(10000)\n",
        "np.random.shuffle(Z)\n",
        "n = 5\n",
        "\n",
        "# Slow\n",
        "print (Z[np.argsort(Z)[-n:]])\n",
        "\n",
        "# Fast\n",
        "print (Z[np.argpartition(-Z,n)[:n]])"
      ],
      "id": "b7c2ff35"
    },
    {
      "cell_type": "markdown",
      "metadata": {
        "id": "15db2d01"
      },
      "source": [
        "#### 90. Given an arbitrary number of vectors, build the cartesian product (every combinations of every item) (★★★)"
      ],
      "id": "15db2d01"
    },
    {
      "cell_type": "code",
      "execution_count": null,
      "metadata": {
        "id": "a9a4633d",
        "colab": {
          "base_uri": "https://localhost:8080/"
        },
        "outputId": "185814a2-3ee4-4998-eede-ac6b8d4b3b4a"
      },
      "outputs": [
        {
          "output_type": "stream",
          "name": "stdout",
          "text": [
            "[[1 4 6]\n",
            " [1 4 7]\n",
            " [1 5 6]\n",
            " [1 5 7]\n",
            " [2 4 6]\n",
            " [2 4 7]\n",
            " [2 5 6]\n",
            " [2 5 7]\n",
            " [3 4 6]\n",
            " [3 4 7]\n",
            " [3 5 6]\n",
            " [3 5 7]]\n"
          ]
        }
      ],
      "source": [
        "def cartesian(arrays):\n",
        "    arrays = [np.asarray(a) for a in arrays]\n",
        "    shape = (len(x) for x in arrays)\n",
        "\n",
        "    ix = np.indices(shape, dtype=int)\n",
        "    ix = ix.reshape(len(arrays), -1).T\n",
        "\n",
        "    for n, arr in enumerate(arrays):\n",
        "        ix[:, n] = arrays[n][ix[:, n]]\n",
        "\n",
        "    return ix\n",
        "\n",
        "print (cartesian(([1, 2, 3], [4, 5], [6, 7])))"
      ],
      "id": "a9a4633d"
    },
    {
      "cell_type": "markdown",
      "metadata": {
        "id": "5d94d1ef"
      },
      "source": [
        "#### 91. How to create a record array from a regular array? (★★★)"
      ],
      "id": "5d94d1ef"
    },
    {
      "cell_type": "code",
      "execution_count": null,
      "metadata": {
        "id": "b1dae380",
        "colab": {
          "base_uri": "https://localhost:8080/"
        },
        "outputId": "347e4f51-1bb5-4852-a1fb-3be12b977350"
      },
      "outputs": [
        {
          "output_type": "stream",
          "name": "stdout",
          "text": [
            "[(b'Hello', 2.5, 3) (b'World', 3.6, 2)]\n"
          ]
        }
      ],
      "source": [
        "Z = np.array([(\"Hello\", 2.5, 3),\n",
        "              (\"World\", 3.6, 2)])\n",
        "R = np.core.records.fromarrays(Z.T,\n",
        "                               names='col1, col2, col3',\n",
        "                               formats = 'S8, f8, i8')\n",
        "print(R)"
      ],
      "id": "b1dae380"
    },
    {
      "cell_type": "markdown",
      "metadata": {
        "id": "114ccc36"
      },
      "source": [
        "#### 92. Consider a large vector Z, compute Z to the power of 3 using 3 different methods (★★★)"
      ],
      "id": "114ccc36"
    },
    {
      "cell_type": "code",
      "execution_count": null,
      "metadata": {
        "id": "877c65d6",
        "colab": {
          "base_uri": "https://localhost:8080/",
          "height": 613
        },
        "outputId": "ab4c276b-65da-4028-846c-577d7051c2c9"
      },
      "outputs": [
        {
          "output_type": "error",
          "ename": "TypeError",
          "evalue": "ignored",
          "traceback": [
            "\u001b[0;31m---------------------------------------------------------------------------\u001b[0m",
            "\u001b[0;31mTypeError\u001b[0m                                 Traceback (most recent call last)",
            "\u001b[0;32m<ipython-input-107-a370807230cb>\u001b[0m in \u001b[0;36m<cell line: 1>\u001b[0;34m()\u001b[0m\n\u001b[0;32m----> 1\u001b[0;31m \u001b[0mx\u001b[0m \u001b[0;34m=\u001b[0m \u001b[0mnp\u001b[0m\u001b[0;34m.\u001b[0m\u001b[0mrandom\u001b[0m\u001b[0;34m.\u001b[0m\u001b[0mrand\u001b[0m\u001b[0;34m(\u001b[0m\u001b[0;36m5e7\u001b[0m\u001b[0;34m)\u001b[0m\u001b[0;34m\u001b[0m\u001b[0;34m\u001b[0m\u001b[0m\n\u001b[0m\u001b[1;32m      2\u001b[0m \u001b[0;34m\u001b[0m\u001b[0m\n\u001b[1;32m      3\u001b[0m \u001b[0mget_ipython\u001b[0m\u001b[0;34m(\u001b[0m\u001b[0;34m)\u001b[0m\u001b[0;34m.\u001b[0m\u001b[0mrun_line_magic\u001b[0m\u001b[0;34m(\u001b[0m\u001b[0;34m'timeit'\u001b[0m\u001b[0;34m,\u001b[0m \u001b[0;34m'np.power(x,3)'\u001b[0m\u001b[0;34m)\u001b[0m\u001b[0;34m\u001b[0m\u001b[0;34m\u001b[0m\u001b[0m\n\u001b[1;32m      4\u001b[0m \u001b[0mget_ipython\u001b[0m\u001b[0;34m(\u001b[0m\u001b[0;34m)\u001b[0m\u001b[0;34m.\u001b[0m\u001b[0mrun_line_magic\u001b[0m\u001b[0;34m(\u001b[0m\u001b[0;34m'timeit'\u001b[0m\u001b[0;34m,\u001b[0m \u001b[0;34m'x*x*x'\u001b[0m\u001b[0;34m)\u001b[0m\u001b[0;34m\u001b[0m\u001b[0;34m\u001b[0m\u001b[0m\n\u001b[1;32m      5\u001b[0m \u001b[0mget_ipython\u001b[0m\u001b[0;34m(\u001b[0m\u001b[0;34m)\u001b[0m\u001b[0;34m.\u001b[0m\u001b[0mrun_line_magic\u001b[0m\u001b[0;34m(\u001b[0m\u001b[0;34m'timeit'\u001b[0m\u001b[0;34m,\u001b[0m \u001b[0;34m\"np.einsum('i,i,i->i',x,x,x)\"\u001b[0m\u001b[0;34m)\u001b[0m\u001b[0;34m\u001b[0m\u001b[0;34m\u001b[0m\u001b[0m\n",
            "\u001b[0;32mmtrand.pyx\u001b[0m in \u001b[0;36mnumpy.random.mtrand.RandomState.rand\u001b[0;34m()\u001b[0m\n",
            "\u001b[0;32mmtrand.pyx\u001b[0m in \u001b[0;36mnumpy.random.mtrand.RandomState.random_sample\u001b[0;34m()\u001b[0m\n",
            "\u001b[0;32m_common.pyx\u001b[0m in \u001b[0;36mnumpy.random._common.double_fill\u001b[0;34m()\u001b[0m\n",
            "\u001b[0;31mTypeError\u001b[0m: 'float' object cannot be interpreted as an integer"
          ]
        }
      ],
      "source": [
        "x = np.random.rand(5e7)\n",
        "\n",
        "%timeit np.power(x,3)\n",
        "%timeit x*x*x\n",
        "%timeit np.einsum('i,i,i->i',x,x,x)"
      ],
      "id": "877c65d6"
    },
    {
      "cell_type": "markdown",
      "metadata": {
        "id": "d614fee4"
      },
      "source": [
        "#### 93. Consider two arrays A and B of shape (8,3) and (2,2). How to find rows of A that contain elements of each row of B regardless of the order of the elements in B? (★★★)"
      ],
      "id": "d614fee4"
    },
    {
      "cell_type": "code",
      "execution_count": null,
      "metadata": {
        "id": "e6807a84",
        "colab": {
          "base_uri": "https://localhost:8080/"
        },
        "outputId": "51816378-70b0-4282-8211-fff5ab49d8f4"
      },
      "outputs": [
        {
          "output_type": "stream",
          "name": "stdout",
          "text": [
            "[0]\n"
          ]
        }
      ],
      "source": [
        "A = np.random.randint(0,5,(8,3))\n",
        "B = np.random.randint(0,5,(2,2))\n",
        "\n",
        "C = (A[..., np.newaxis, np.newaxis] == B)\n",
        "rows = np.where(C.any((3,1)).all(1))[0]\n",
        "print(rows)"
      ],
      "id": "e6807a84"
    },
    {
      "cell_type": "markdown",
      "metadata": {
        "id": "b0eedca6"
      },
      "source": [
        "#### 94. Considering a 10x3 matrix, extract rows with unequal values (e.g. [2,2,3]) (★★★)"
      ],
      "id": "b0eedca6"
    },
    {
      "cell_type": "code",
      "execution_count": null,
      "metadata": {
        "id": "fc136ce2",
        "colab": {
          "base_uri": "https://localhost:8080/"
        },
        "outputId": "10fd3ff5-df6c-4e2c-a2f6-96642870086f"
      },
      "outputs": [
        {
          "output_type": "stream",
          "name": "stdout",
          "text": [
            "[[0 0 1]\n",
            " [2 0 3]\n",
            " [2 0 3]\n",
            " [0 4 1]\n",
            " [2 2 4]\n",
            " [4 1 0]\n",
            " [2 3 1]\n",
            " [0 1 0]\n",
            " [0 1 2]\n",
            " [4 0 1]]\n",
            "[[0 0 1]\n",
            " [2 0 3]\n",
            " [2 0 3]\n",
            " [0 4 1]\n",
            " [2 2 4]\n",
            " [4 1 0]\n",
            " [2 3 1]\n",
            " [0 1 0]\n",
            " [0 1 2]\n",
            " [4 0 1]]\n",
            "[[0 0 1]\n",
            " [2 0 3]\n",
            " [2 0 3]\n",
            " [0 4 1]\n",
            " [2 2 4]\n",
            " [4 1 0]\n",
            " [2 3 1]\n",
            " [0 1 0]\n",
            " [0 1 2]\n",
            " [4 0 1]]\n"
          ]
        }
      ],
      "source": [
        "# Author: Robert Kern\n",
        "\n",
        "Z = np.random.randint(0,5,(10,3))\n",
        "print(Z)\n",
        "# solution for arrays of all dtypes (including string arrays and record arrays)\n",
        "E = np.all(Z[:,1:] == Z[:,:-1], axis=1)\n",
        "U = Z[~E]\n",
        "print(U)\n",
        "# soluiton for numerical arrays only, will work for any number of columns in Z\n",
        "U = Z[Z.max(axis=1) != Z.min(axis=1),:]\n",
        "print(U)"
      ],
      "id": "fc136ce2"
    },
    {
      "cell_type": "markdown",
      "metadata": {
        "id": "a65ec1cf"
      },
      "source": [
        "#### 95. Convert a vector of ints into a matrix binary representation (★★★)"
      ],
      "id": "a65ec1cf"
    },
    {
      "cell_type": "code",
      "execution_count": null,
      "metadata": {
        "id": "323cdf4c",
        "colab": {
          "base_uri": "https://localhost:8080/"
        },
        "outputId": "6e6d9857-d230-42fa-dc2e-2f11e8d74ea8"
      },
      "outputs": [
        {
          "output_type": "stream",
          "name": "stdout",
          "text": [
            "[[0 0 0 0 0 0 0 0]\n",
            " [0 0 0 0 0 0 0 1]\n",
            " [0 0 0 0 0 0 1 0]\n",
            " [0 0 0 0 0 0 1 1]\n",
            " [0 0 0 0 1 1 1 1]\n",
            " [0 0 0 1 0 0 0 0]\n",
            " [0 0 1 0 0 0 0 0]\n",
            " [0 1 0 0 0 0 0 0]\n",
            " [1 0 0 0 0 0 0 0]]\n",
            "[[0 0 0 0 0 0 0 0]\n",
            " [0 0 0 0 0 0 0 1]\n",
            " [0 0 0 0 0 0 1 0]\n",
            " [0 0 0 0 0 0 1 1]\n",
            " [0 0 0 0 1 1 1 1]\n",
            " [0 0 0 1 0 0 0 0]\n",
            " [0 0 1 0 0 0 0 0]\n",
            " [0 1 0 0 0 0 0 0]\n",
            " [1 0 0 0 0 0 0 0]]\n"
          ]
        }
      ],
      "source": [
        "# Author: Warren Weckesser\n",
        "\n",
        "I = np.array([0, 1, 2, 3, 15, 16, 32, 64, 128])\n",
        "B = ((I.reshape(-1,1) & (2**np.arange(8))) != 0).astype(int)\n",
        "print(B[:,::-1])\n",
        "\n",
        "# Author: Daniel T. McDonald\n",
        "\n",
        "I = np.array([0, 1, 2, 3, 15, 16, 32, 64, 128], dtype=np.uint8)\n",
        "print(np.unpackbits(I[:, np.newaxis], axis=1))"
      ],
      "id": "323cdf4c"
    },
    {
      "cell_type": "markdown",
      "metadata": {
        "id": "75b9397f"
      },
      "source": [
        "#### 96. Given a two dimensional array, how to extract unique rows? (★★★)"
      ],
      "id": "75b9397f"
    },
    {
      "cell_type": "code",
      "execution_count": null,
      "metadata": {
        "id": "9bb56a47",
        "colab": {
          "base_uri": "https://localhost:8080/"
        },
        "outputId": "97c4150a-1b70-4ddd-de6f-13468147acc0"
      },
      "outputs": [
        {
          "output_type": "stream",
          "name": "stdout",
          "text": [
            "[[0 0 0]\n",
            " [0 0 1]\n",
            " [0 1 1]\n",
            " [1 1 0]]\n",
            "[[0 0 0]\n",
            " [0 0 1]\n",
            " [0 1 1]\n",
            " [1 1 0]]\n"
          ]
        }
      ],
      "source": [
        "# Author: Jaime Fernández del Río\n",
        "\n",
        "Z = np.random.randint(0,2,(6,3))\n",
        "T = np.ascontiguousarray(Z).view(np.dtype((np.void, Z.dtype.itemsize * Z.shape[1])))\n",
        "_, idx = np.unique(T, return_index=True)\n",
        "uZ = Z[idx]\n",
        "print(uZ)\n",
        "\n",
        "# Author: Andreas Kouzelis\n",
        "# NumPy >= 1.13\n",
        "uZ = np.unique(Z, axis=0)\n",
        "print(uZ)"
      ],
      "id": "9bb56a47"
    },
    {
      "cell_type": "markdown",
      "metadata": {
        "id": "82aaf21b"
      },
      "source": [
        "#### 97. Considering 2 vectors A & B, write the einsum equivalent of inner, outer, sum, and mul function (★★★)"
      ],
      "id": "82aaf21b"
    },
    {
      "cell_type": "code",
      "execution_count": null,
      "metadata": {
        "id": "cedcefd9",
        "colab": {
          "base_uri": "https://localhost:8080/"
        },
        "outputId": "15912d51-9156-45b1-86f5-40ac024014f0"
      },
      "outputs": [
        {
          "output_type": "execute_result",
          "data": {
            "text/plain": [
              "array([[0.0723255 , 0.24827089, 0.53615271, 0.53823881, 0.53592871,\n",
              "        0.55273359, 0.09866364, 0.36573726, 0.27541061, 0.29979137],\n",
              "       [0.01746657, 0.05995728, 0.12948058, 0.12998437, 0.12942649,\n",
              "        0.13348486, 0.02382721, 0.08832535, 0.06651151, 0.07239945],\n",
              "       [0.02146212, 0.07367276, 0.1590998 , 0.15971884, 0.15903333,\n",
              "        0.16402007, 0.02927779, 0.10853013, 0.08172629, 0.08896112],\n",
              "       [0.00719962, 0.02471406, 0.05337118, 0.05357884, 0.05334888,\n",
              "        0.05502172, 0.00982145, 0.03640722, 0.02741568, 0.02984265],\n",
              "       [0.04923412, 0.16900537, 0.36497508, 0.36639515, 0.3648226 ,\n",
              "        0.37626218, 0.06716327, 0.24896822, 0.18748019, 0.20407689],\n",
              "       [0.10164892, 0.34892903, 0.75352873, 0.75646061, 0.75321391,\n",
              "        0.77683211, 0.1386655 , 0.51402059, 0.3870722 , 0.42133781],\n",
              "       [0.10792383, 0.37046882, 0.80004492, 0.80315778, 0.79971066,\n",
              "        0.82478684, 0.14722548, 0.54575166, 0.41096661, 0.44734747],\n",
              "       [0.03971981, 0.13634571, 0.294445  , 0.29559065, 0.29432198,\n",
              "        0.30355091, 0.05418422, 0.20085604, 0.15125034, 0.16463979],\n",
              "       [0.07138759, 0.24505132, 0.5291999 , 0.53125894, 0.5289788 ,\n",
              "        0.54556576, 0.09738417, 0.36099439, 0.2718391 , 0.29590368],\n",
              "       [0.05538286, 0.19011207, 0.410556  , 0.41215342, 0.41038447,\n",
              "        0.42325272, 0.07555114, 0.2800613 , 0.21089417, 0.2295636 ]])"
            ]
          },
          "metadata": {},
          "execution_count": 112
        }
      ],
      "source": [
        "A = np.random.uniform(0,1,10)\n",
        "B = np.random.uniform(0,1,10)\n",
        "\n",
        "np.einsum('i->', A)       # np.sum(A)\n",
        "np.einsum('i,i->i', A, B) # A * B\n",
        "np.einsum('i,i', A, B)    # np.inner(A, B)\n",
        "np.einsum('i,j->ij', A, B)    # np.outer(A, B)"
      ],
      "id": "cedcefd9"
    },
    {
      "cell_type": "markdown",
      "metadata": {
        "id": "7741e17f"
      },
      "source": [
        "#### 98. Considering a path described by two vectors (X,Y), how to sample it using equidistant samples (★★★)?"
      ],
      "id": "7741e17f"
    },
    {
      "cell_type": "code",
      "execution_count": null,
      "metadata": {
        "id": "0b2432fe"
      },
      "outputs": [],
      "source": [
        "phi = np.arange(0, 10*np.pi, 0.1)\n",
        "a = 1\n",
        "x = a*phi*np.cos(phi)\n",
        "y = a*phi*np.sin(phi)\n",
        "\n",
        "dr = (np.diff(x)**2 + np.diff(y)**2)**.5 # segment lengths\n",
        "r = np.zeros_like(x)\n",
        "r[1:] = np.cumsum(dr)                # integrate path\n",
        "r_int = np.linspace(0, r.max(), 200) # regular spaced path\n",
        "x_int = np.interp(r_int, r, x)       # integrate path\n",
        "y_int = np.interp(r_int, r, y)"
      ],
      "id": "0b2432fe"
    },
    {
      "cell_type": "markdown",
      "metadata": {
        "id": "340d6f36"
      },
      "source": [
        "#### 99. Given an integer n and a 2D array X, select from X the rows which can be interpreted as draws from a multinomial distribution with n degrees, i.e., the rows which only contain integers and which sum to n. (★★★)"
      ],
      "id": "340d6f36"
    },
    {
      "cell_type": "code",
      "execution_count": null,
      "metadata": {
        "id": "a75323ae",
        "colab": {
          "base_uri": "https://localhost:8080/"
        },
        "outputId": "10f0b0c0-e941-4799-f07a-bd15120d8097"
      },
      "outputs": [
        {
          "output_type": "stream",
          "name": "stdout",
          "text": [
            "[[2. 0. 1. 1.]]\n"
          ]
        }
      ],
      "source": [
        "X = np.asarray([[1.0, 0.0, 3.0, 8.0],\n",
        "                [2.0, 0.0, 1.0, 1.0],\n",
        "                [1.5, 2.5, 1.0, 0.0]])\n",
        "n = 4\n",
        "M = np.logical_and.reduce(np.mod(X, 1) == 0, axis=-1)\n",
        "M &= (X.sum(axis=-1) == n)\n",
        "print(X[M])"
      ],
      "id": "a75323ae"
    },
    {
      "cell_type": "markdown",
      "metadata": {
        "id": "19721849"
      },
      "source": [
        "#### 100. Compute bootstrapped 95% confidence intervals for the mean of a 1D array X (i.e., resample the elements of an array with replacement N times, compute the mean of each sample, and then compute percentiles over the means). (★★★)"
      ],
      "id": "19721849"
    },
    {
      "cell_type": "code",
      "execution_count": null,
      "metadata": {
        "id": "87309c6f"
      },
      "outputs": [],
      "source": [],
      "id": "87309c6f"
    }
  ],
  "metadata": {
    "colab": {
      "collapsed_sections": [
        "cfc46304",
        "0cc200be",
        "29d9ede4",
        "88905ceb",
        "49603e91",
        "e15c249a",
        "157a129c",
        "d92d7b32",
        "f361efc0",
        "475808cb",
        "1af07d85",
        "6a235316",
        "25362e98",
        "6431e977",
        "31abe6fe",
        "fd88b3f4",
        "464d8590",
        "06c63bb3",
        "76fa6285",
        "930ed8bb",
        "177120e7",
        "a6eaf0e8",
        "524b65f8",
        "8dc40752",
        "b7f38e21",
        "2d850aab",
        "5c4a556f",
        "453cdd64",
        "52667b6e",
        "9a8f3738",
        "cab1eed1",
        "cd0ce6b1",
        "c4c942d1",
        "9b3cb8d2",
        "2facfddc",
        "539cd2a5",
        "448f8274",
        "d7b7aaf3",
        "a556027a",
        "004f3da1",
        "1c0adc0d",
        "c8a2f65a",
        "11727a69",
        "e0e7d741",
        "c5611b9e",
        "d22b8574",
        "f5c164f2",
        "a8b7e6f5",
        "c6b32834",
        "a2121a05",
        "97055efa",
        "bfd2513c",
        "da9f2f9b",
        "5b7be45c",
        "7c18c02e",
        "8174ba2c",
        "9189bd7c",
        "f30162d2",
        "f5b1c584",
        "994c452d",
        "4bddeb31",
        "c4cf083c",
        "a5e316db",
        "de727a7b",
        "a9a73d6b",
        "a951c78f",
        "43b639e8",
        "d41de585",
        "b50adf7c",
        "1ab4c50d",
        "5b4fe59d",
        "119ab5af",
        "e5e7f323",
        "9b9d03eb",
        "27794913",
        "fae786f5",
        "c85aa0b9",
        "0ff2344d",
        "1a18b263",
        "f85f2cad",
        "5afb72c8",
        "6094d37c",
        "a173cf96",
        "15db2d01",
        "5d94d1ef",
        "114ccc36",
        "d614fee4",
        "b0eedca6",
        "a65ec1cf",
        "75b9397f",
        "82aaf21b",
        "7741e17f",
        "340d6f36",
        "19721849"
      ],
      "provenance": [],
      "include_colab_link": true
    },
    "kernelspec": {
      "display_name": "Python 3",
      "name": "python3"
    },
    "language_info": {
      "name": "python"
    }
  },
  "nbformat": 4,
  "nbformat_minor": 5
}