{
  "nbformat": 4,
  "nbformat_minor": 0,
  "metadata": {
    "colab": {
      "provenance": [],
      "mount_file_id": "1Dju8w1Zu0y_nnR1JN-wNR-sUxm4s3Q1d",
      "authorship_tag": "ABX9TyNUkgHlOuUbY+wOqKelVjTS",
      "include_colab_link": true
    },
    "kernelspec": {
      "name": "python3",
      "display_name": "Python 3"
    },
    "language_info": {
      "name": "python"
    }
  },
  "cells": [
    {
      "cell_type": "markdown",
      "metadata": {
        "id": "view-in-github",
        "colab_type": "text"
      },
      "source": [
        "<a href=\"https://colab.research.google.com/github/PriyaAnbalagan2027/Data-science-/blob/main/Data_extraction.ipynb\" target=\"_parent\"><img src=\"https://colab.research.google.com/assets/colab-badge.svg\" alt=\"Open In Colab\"/></a>"
      ]
    },
    {
      "cell_type": "code",
      "source": [
        "pip install tabula_py"
      ],
      "metadata": {
        "colab": {
          "base_uri": "https://localhost:8080/"
        },
        "id": "Y718ayzWWQT_",
        "outputId": "4e296df0-feb0-46ae-9673-ab936520a117"
      },
      "execution_count": null,
      "outputs": [
        {
          "output_type": "stream",
          "name": "stdout",
          "text": [
            "Collecting tabula_py\n",
            "  Downloading tabula_py-2.9.0-py3-none-any.whl (12.0 MB)\n",
            "\u001b[2K     \u001b[90m━━━━━━━━━━━━━━━━━━━━━━━━━━━━━━━━━━━━━━━━\u001b[0m \u001b[32m12.0/12.0 MB\u001b[0m \u001b[31m27.5 MB/s\u001b[0m eta \u001b[36m0:00:00\u001b[0m\n",
            "\u001b[?25hRequirement already satisfied: pandas>=0.25.3 in /usr/local/lib/python3.10/dist-packages (from tabula_py) (1.5.3)\n",
            "Requirement already satisfied: numpy in /usr/local/lib/python3.10/dist-packages (from tabula_py) (1.23.5)\n",
            "Requirement already satisfied: distro in /usr/lib/python3/dist-packages (from tabula_py) (1.7.0)\n",
            "Requirement already satisfied: python-dateutil>=2.8.1 in /usr/local/lib/python3.10/dist-packages (from pandas>=0.25.3->tabula_py) (2.8.2)\n",
            "Requirement already satisfied: pytz>=2020.1 in /usr/local/lib/python3.10/dist-packages (from pandas>=0.25.3->tabula_py) (2023.3.post1)\n",
            "Requirement already satisfied: six>=1.5 in /usr/local/lib/python3.10/dist-packages (from python-dateutil>=2.8.1->pandas>=0.25.3->tabula_py) (1.16.0)\n",
            "Installing collected packages: tabula_py\n",
            "Successfully installed tabula_py-2.9.0\n"
          ]
        }
      ]
    },
    {
      "cell_type": "code",
      "source": [
        "\n",
        "\n",
        "import tabula\n",
        "pdf_path='/content/drive/MyDrive/Share 5077794_All_institutions_legacy.pdf'\n",
        "start=1\n",
        "end=5\n",
        "for page in range(start, end):\n",
        " df=tabula.read_pdf(pdf_path,pages=page )\n",
        "print(f\"Data from Page{page}\")\n",
        "print(df)"
      ],
      "metadata": {
        "colab": {
          "base_uri": "https://localhost:8080/"
        },
        "id": "r9lGMjO5Vfre",
        "outputId": "a28f7e60-b340-4a41-bf8d-bf380b8bea24"
      },
      "execution_count": null,
      "outputs": [
        {
          "output_type": "stream",
          "name": "stderr",
          "text": [
            "WARNING:tabula.backend:Error importing jpype dependencies. Fallback to subprocess.\n",
            "WARNING:tabula.backend:No module named 'jpype'\n",
            "WARNING:tabula.backend:Got stderr: Nov 23, 2023 4:04:09 AM org.apache.pdfbox.pdmodel.font.FileSystemFontProvider loadDiskCache\n",
            "WARNING: New fonts found, font cache will be re-built\n",
            "Nov 23, 2023 4:04:09 AM org.apache.pdfbox.pdmodel.font.FileSystemFontProvider <init>\n",
            "WARNING: Building on-disk font cache, this may take a while\n",
            "Nov 23, 2023 4:04:09 AM org.apache.pdfbox.pdmodel.font.FileSystemFontProvider <init>\n",
            "WARNING: Finished building on-disk font cache, found 17 fonts\n",
            "Nov 23, 2023 4:04:09 AM org.apache.pdfbox.pdmodel.font.PDType1Font <init>\n",
            "WARNING: Using fallback font LiberationSans for base font Symbol\n",
            "Nov 23, 2023 4:04:09 AM org.apache.pdfbox.pdmodel.font.PDType1Font <init>\n",
            "WARNING: Using fallback font LiberationSans for base font ZapfDingbats\n",
            "Nov 23, 2023 4:04:09 AM org.apache.pdfbox.pdmodel.font.PDTrueTypeFont <init>\n",
            "WARNING: Using fallback font 'LiberationSerif' for 'TimesNewRomanPSMT'\n",
            "\n",
            "WARNING:tabula.backend:Got stderr: Nov 23, 2023 4:04:11 AM org.apache.pdfbox.pdmodel.font.PDTrueTypeFont <init>\n",
            "WARNING: Using fallback font 'LiberationSerif' for 'TimesNewRomanPSMT'\n",
            "\n",
            "WARNING:tabula.backend:Got stderr: Nov 23, 2023 4:04:13 AM org.apache.pdfbox.pdmodel.font.PDTrueTypeFont <init>\n",
            "WARNING: Using fallback font 'LiberationSerif' for 'TimesNewRomanPSMT'\n",
            "\n",
            "WARNING:tabula.backend:Got stderr: Nov 23, 2023 4:04:18 AM org.apache.pdfbox.pdmodel.font.PDTrueTypeFont <init>\n",
            "WARNING: Using fallback font 'LiberationSerif' for 'TimesNewRomanPSMT'\n",
            "\n"
          ]
        },
        {
          "output_type": "stream",
          "name": "stdout",
          "text": [
            "Data from Page4\n",
            "[                    Govt. Arts & Science College Durg  Chhatisgarh\n",
            "0         Govt. College Of Science Raipur Chattisgarh  Chhatisgarh\n",
            "1        Govt. D.B. Girls P.G. College, Raipur (C.G.)  Chhatisgarh\n",
            "2     Govt. Science P.G. College Seepat Road Bilaspur  Chhatisgarh\n",
            "3   Govt. V.Y.T.P.G. Autonomous College Durg. Chha...  Chhatisgarh\n",
            "4         Indira Gandhi Krishi Vishwavidyalaya Raipur  Chhatisgarh\n",
            "5                  Indira Kala Sangit Vishwavidyalaya  CHHATISGARH\n",
            "6          Indrkala Sangeet Vishwavidyalya Khairagarh  Chhatisgarh\n",
            "7                         Kalyan Mahavidyalaya Bhilai  Chhatisgarh\n",
            "8         kalyan Post Graduate College, Bhillai Nagar  CHHATISGARH\n",
            "9                                     MATS University  CHHATISGARH\n",
            "10                  Pt. Ravishankar Shukla University  CHHATISGARH\n",
            "11           Pt. Ravishankar Shukla University Raipur  Chhatisgarh\n",
            "12    Pt. Sunderlal Sharma (Open) University Bilaspur  Chhatisgarh\n",
            "13           Seth R.C.S Arts & Commerce College, Durg  Chhatisgarh\n",
            "14                   National Institute of Technology  Chhatisgarh\n",
            "15            Acharya Narendra Dev college, New Delhi        Delhi\n",
            "16          Bharat Ratan Dr. B.R. Ambedkar University        DELHI\n",
            "17      Delhi School Of Economics University Of Delhi        Delhi\n",
            "18                 Delhi Technical University,  Delhi        Delhi\n",
            "19                                University of Delhi        Delhi\n",
            "20                      Deshbandhu College, New Delhi        Delhi\n",
            "21          Guru Gobind Singh Indraprastha University        DELHI\n",
            "22     Guru Govind Singh Indrprastha University Delhi        Delhi\n",
            "23              Jamia Hamdard Hamdard Nagar New Delhi        Delhi\n",
            "24                      Lady Irwin College, New Delhi        Delhi\n",
            "25             Maulana Azad Medical College New Delhi        Delhi\n",
            "26                            National Law University        DELHI\n",
            "27                      Rashtriya Sanskrit Vidyapeeth        Delhi\n",
            "28  Shri Lal Bahadur Shastri Rashtriya Sanskrit Vi...        Delhi\n",
            "29                             South Asian University        DELHI\n",
            "30  Sri Lal Bahadur Shastri Rashtriya Sanskrit Uni...        DELHI\n",
            "31                Sri Venkateswara College, New Delhi        Delhi\n",
            "32           Swami Sharaddhanand College Alipur Delhi        Delhi\n",
            "33        UCMS, University College of Medical Science        Delhi\n",
            "34                               Zakir Husain College        Delhi\n",
            "35             National Institute of Malaria Research        Delhi\n",
            "36  International Centre for Genetic Engineering a...        Delhi]\n"
          ]
        }
      ]
    }
  ]
}