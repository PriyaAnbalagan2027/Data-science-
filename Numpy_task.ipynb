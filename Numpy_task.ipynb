{
  "nbformat": 4,
  "nbformat_minor": 0,
  "metadata": {
    "colab": {
      "provenance": [],
      "authorship_tag": "ABX9TyMyvz2MEIggnvqyy4Kht2vu",
      "include_colab_link": true
    },
    "kernelspec": {
      "name": "python3",
      "display_name": "Python 3"
    },
    "language_info": {
      "name": "python"
    }
  },
  "cells": [
    {
      "cell_type": "markdown",
      "metadata": {
        "id": "view-in-github",
        "colab_type": "text"
      },
      "source": [
        "<a href=\"https://colab.research.google.com/github/PriyaAnbalagan2027/Data-science-/blob/main/Numpy_task.ipynb\" target=\"_parent\"><img src=\"https://colab.research.google.com/assets/colab-badge.svg\" alt=\"Open In Colab\"/></a>"
      ]
    },
    {
      "cell_type": "code",
      "execution_count": null,
      "metadata": {
        "colab": {
          "base_uri": "https://localhost:8080/"
        },
        "id": "AKBB1YZlbp1I",
        "outputId": "1bfefa57-8411-4e3e-8fc6-919e9a9479cd"
      },
      "outputs": [
        {
          "output_type": "stream",
          "name": "stdout",
          "text": [
            "[10 20  5  7]\n"
          ]
        }
      ],
      "source": [
        "import numpy as np\n",
        "np1=np.array([10,20,5,7])\n",
        "print(np1)"
      ]
    },
    {
      "cell_type": "code",
      "source": [],
      "metadata": {
        "id": "6CXhHvGzFKY2"
      },
      "execution_count": null,
      "outputs": []
    },
    {
      "cell_type": "code",
      "source": [],
      "metadata": {
        "id": "io_88wXErjR1"
      },
      "execution_count": null,
      "outputs": []
    },
    {
      "cell_type": "code",
      "source": [
        "import numpy as np\n",
        "np1=np.zeros([1,2])\n",
        "print(np1)"
      ],
      "metadata": {
        "colab": {
          "base_uri": "https://localhost:8080/"
        },
        "id": "2SCFdcvBcT4s",
        "outputId": "97cf946d-8b0b-458f-f09f-db5447da9cf2"
      },
      "execution_count": null,
      "outputs": [
        {
          "output_type": "stream",
          "name": "stdout",
          "text": [
            "[[0. 0.]]\n"
          ]
        }
      ]
    },
    {
      "cell_type": "code",
      "source": [
        "np1=np.ones([1,6])\n",
        "print(np1)"
      ],
      "metadata": {
        "colab": {
          "base_uri": "https://localhost:8080/"
        },
        "id": "FVIgSTnucnYm",
        "outputId": "baf5ef0b-3347-4bbe-ffa3-b409fd42c896"
      },
      "execution_count": null,
      "outputs": [
        {
          "output_type": "stream",
          "name": "stdout",
          "text": [
            "[[1. 1. 1. 1. 1. 1.]]\n"
          ]
        }
      ]
    },
    {
      "cell_type": "code",
      "source": [
        "import numpy as np\n",
        "np1=np.arange(20)\n",
        "print(np1)"
      ],
      "metadata": {
        "colab": {
          "base_uri": "https://localhost:8080/"
        },
        "id": "sw2WosBedO0a",
        "outputId": "41ecbc05-a908-4834-9068-92586582f421"
      },
      "execution_count": null,
      "outputs": [
        {
          "output_type": "stream",
          "name": "stdout",
          "text": [
            "[ 0  1  2  3  4  5  6  7  8  9 10 11 12 13 14 15 16 17 18 19]\n"
          ]
        }
      ]
    },
    {
      "cell_type": "code",
      "source": [
        "import numpy as np\n",
        "np1=np.linspace(1,8,3)\n",
        "print(np1)"
      ],
      "metadata": {
        "colab": {
          "base_uri": "https://localhost:8080/"
        },
        "id": "ZCHb2kNSdxP9",
        "outputId": "91962683-3eaf-441f-85b5-d6fa697ee6f1"
      },
      "execution_count": null,
      "outputs": [
        {
          "output_type": "stream",
          "name": "stdout",
          "text": [
            "[1.  4.5 8. ]\n"
          ]
        }
      ]
    },
    {
      "cell_type": "code",
      "source": [
        "import numpy as np\n",
        "np1=np.eye(3,3)\n",
        "print(np1)"
      ],
      "metadata": {
        "colab": {
          "base_uri": "https://localhost:8080/"
        },
        "id": "Ge532Ntbeu55",
        "outputId": "cf5629c1-d0d7-4c3f-d81f-c1b01ae66ffe"
      },
      "execution_count": null,
      "outputs": [
        {
          "output_type": "stream",
          "name": "stdout",
          "text": [
            "[[1. 0. 0.]\n",
            " [0. 1. 0.]\n",
            " [0. 0. 1.]]\n"
          ]
        }
      ]
    },
    {
      "cell_type": "code",
      "source": [
        "np1=np.array([1,2,4,5])\n",
        "print(np1.shape)"
      ],
      "metadata": {
        "colab": {
          "base_uri": "https://localhost:8080/"
        },
        "id": "mcXpHML6gYSn",
        "outputId": "5c5cd1af-2052-4449-b1db-916e425df294"
      },
      "execution_count": null,
      "outputs": [
        {
          "output_type": "stream",
          "name": "stdout",
          "text": [
            "(4,)\n"
          ]
        }
      ]
    },
    {
      "cell_type": "code",
      "source": [
        "import numpy as np\n",
        "\n",
        "arr= np.array([1, 2, 3, 4])\n",
        "print(arr.ndim)\n",
        "\n",
        "arr = np.array([[1, 2, 3], [4, 5, 6]])\n",
        "print(arr.ndim)"
      ],
      "metadata": {
        "colab": {
          "base_uri": "https://localhost:8080/"
        },
        "id": "6_2zsoNThk7e",
        "outputId": "02d1152e-39fa-4a35-dfee-7257b5df9e29"
      },
      "execution_count": null,
      "outputs": [
        {
          "output_type": "stream",
          "name": "stdout",
          "text": [
            "1\n",
            "2\n"
          ]
        }
      ]
    },
    {
      "cell_type": "code",
      "source": [
        "import numpy as np\n",
        "\n",
        "arr = np.array([[1, 2, 3], [4, 5, 6]])\n",
        "print(arr.size)"
      ],
      "metadata": {
        "colab": {
          "base_uri": "https://localhost:8080/"
        },
        "id": "n0sZWSFCiNNu",
        "outputId": "7bb258c9-9f66-4393-9a91-e9e29048f5ec"
      },
      "execution_count": null,
      "outputs": [
        {
          "output_type": "stream",
          "name": "stdout",
          "text": [
            "6\n"
          ]
        }
      ]
    },
    {
      "cell_type": "code",
      "source": [
        "arr = np.array([1.1, 2.2, 3.3], dtype=np.float64)\n",
        "print(arr.dtype)"
      ],
      "metadata": {
        "colab": {
          "base_uri": "https://localhost:8080/"
        },
        "id": "U7SSWTcviUte",
        "outputId": "1598d2ca-9bf4-4db9-a539-33449df8bbe1"
      },
      "execution_count": null,
      "outputs": [
        {
          "output_type": "stream",
          "name": "stdout",
          "text": [
            "float64\n"
          ]
        }
      ]
    },
    {
      "cell_type": "code",
      "source": [
        "import numpy as np\n",
        "\n",
        "arr1 = np.array([4, 5, 6])\n",
        "arr2 = np.array([1, 2, 3])\n",
        "Add= np.add(arr1, arr2)\n",
        "print(Add)"
      ],
      "metadata": {
        "colab": {
          "base_uri": "https://localhost:8080/"
        },
        "id": "YVePUhAIi8qp",
        "outputId": "57708530-85b5-45fc-da26-693a659c7adb"
      },
      "execution_count": null,
      "outputs": [
        {
          "output_type": "stream",
          "name": "stdout",
          "text": [
            "[5 7 9]\n"
          ]
        }
      ]
    },
    {
      "cell_type": "code",
      "source": [
        "arr1=np.array([4,6,7])\n",
        "arr2=np.array([1,2,4])\n",
        "Subtract=np.subtract(arr1,arr2)\n",
        "print(Subtract)"
      ],
      "metadata": {
        "colab": {
          "base_uri": "https://localhost:8080/"
        },
        "id": "ryWwed7JkXXu",
        "outputId": "4c6b19ef-b1a6-4171-ea64-34da9310056a"
      },
      "execution_count": null,
      "outputs": [
        {
          "output_type": "stream",
          "name": "stdout",
          "text": [
            "[3 4 3]\n"
          ]
        }
      ]
    },
    {
      "cell_type": "code",
      "source": [
        "arr1=np.array([2,4])\n",
        "arr2=np.array([1,5])\n",
        "Multiply=np.multiply(arr1,arr2)\n",
        "print(Multiply)"
      ],
      "metadata": {
        "colab": {
          "base_uri": "https://localhost:8080/"
        },
        "id": "hKPpu8jOktCQ",
        "outputId": "a6baa2ea-c25e-4d31-b41c-997ccd1619ae"
      },
      "execution_count": null,
      "outputs": [
        {
          "output_type": "stream",
          "name": "stdout",
          "text": [
            "[ 2 20]\n"
          ]
        }
      ]
    },
    {
      "cell_type": "code",
      "source": [
        "import numpy as np\n",
        "\n",
        "array1 = np.array([1, 2, 3])\n",
        "array2 = np.array([4, 5, 6])\n",
        "\n",
        "dot_product = np.dot(array1, array2)\n",
        "print(dot_product)"
      ],
      "metadata": {
        "colab": {
          "base_uri": "https://localhost:8080/"
        },
        "id": "Wprnafw4pSm-",
        "outputId": "0b77d709-7bdc-4f62-dfed-2eafccc9776b"
      },
      "execution_count": null,
      "outputs": [
        {
          "output_type": "stream",
          "name": "stdout",
          "text": [
            "32\n"
          ]
        }
      ]
    },
    {
      "cell_type": "code",
      "source": [
        "import numpy as np\n",
        "array = np.array([[1, 2, 3], [4, 5, 6]])\n",
        "reshaped_array = array.reshape((3, 2))\n",
        "print(reshaped_array)"
      ],
      "metadata": {
        "colab": {
          "base_uri": "https://localhost:8080/"
        },
        "id": "zJEmdC4ip67l",
        "outputId": "b9746b03-6508-48ac-ce05-bdcda9209b19"
      },
      "execution_count": null,
      "outputs": [
        {
          "output_type": "stream",
          "name": "stdout",
          "text": [
            "[[1 2]\n",
            " [3 4]\n",
            " [5 6]]\n"
          ]
        }
      ]
    },
    {
      "cell_type": "code",
      "source": [
        "array1 = np.array([1, 2, 3])\n",
        "array2 = np.array([4, 5, 6])\n",
        "concatenated_array = np.concatenate((array1, array2))\n",
        "print(concatenated_array)"
      ],
      "metadata": {
        "colab": {
          "base_uri": "https://localhost:8080/"
        },
        "id": "ngYCzoYFrUMb",
        "outputId": "dcef5299-fcac-40e8-c8c4-8563bde24bae"
      },
      "execution_count": null,
      "outputs": [
        {
          "output_type": "stream",
          "name": "stdout",
          "text": [
            "[1 2 3 4 5 6]\n"
          ]
        }
      ]
    },
    {
      "cell_type": "code",
      "source": [
        "import numpy as np\n",
        "\n",
        "array = np.array([1, 2, 3, 4, 5, 6])\n",
        "split_arrays = np.split(array, 3)\n",
        "print(split_arrays)"
      ],
      "metadata": {
        "colab": {
          "base_uri": "https://localhost:8080/"
        },
        "id": "HdusmVh7rk4n",
        "outputId": "d05b63bd-192e-4d15-d25b-89430dac4df5"
      },
      "execution_count": null,
      "outputs": [
        {
          "output_type": "stream",
          "name": "stdout",
          "text": [
            "[array([1, 2]), array([3, 4]), array([5, 6])]\n"
          ]
        }
      ]
    },
    {
      "cell_type": "code",
      "source": [
        "import numpy as np\n",
        "\n",
        "array = np.array([[1, 2, 3],\n",
        "                  [4, 5, 6]])\n",
        "\n",
        "transposed_array = array.T\n",
        "\n",
        "print(transposed_array)"
      ],
      "metadata": {
        "colab": {
          "base_uri": "https://localhost:8080/"
        },
        "id": "3gUSooilsQZl",
        "outputId": "6165605f-19ff-4aaa-fd58-e4f3462711af"
      },
      "execution_count": null,
      "outputs": [
        {
          "output_type": "stream",
          "name": "stdout",
          "text": [
            "[[1 4]\n",
            " [2 5]\n",
            " [3 6]]\n"
          ]
        }
      ]
    },
    {
      "cell_type": "code",
      "source": [
        "import numpy as np\n",
        "my_array = np.array([1, 2, 3, 4, 5])\n",
        "sum_result = np.sum(my_array)\n",
        "print(\"Sum:\", sum_result)\n",
        "mean_result = np.mean(my_array)\n",
        "print(\"Mean:\", mean_result)\n",
        "median_result = np.median(my_array)\n",
        "print(\"Median:\", median_result)\n",
        "std_result = np.std(my_array)\n",
        "print(\"Standard Deviation:\", std_result)\n",
        "min_result = np.min(my_array)\n",
        "print(\"Minimum:\", min_result)\n",
        "max_result = np.max(my_array)\n",
        "print(\"Maximum:\", max_result)"
      ],
      "metadata": {
        "colab": {
          "base_uri": "https://localhost:8080/"
        },
        "id": "VnvZDbY0sXe5",
        "outputId": "d1074081-4877-4b35-cc71-3a387bfed2f9"
      },
      "execution_count": null,
      "outputs": [
        {
          "output_type": "stream",
          "name": "stdout",
          "text": [
            "Sum: 15\n",
            "Mean: 3.0\n",
            "Median: 3.0\n",
            "Standard Deviation: 1.4142135623730951\n",
            "Minimum: 1\n",
            "Maximum: 5\n"
          ]
        }
      ]
    },
    {
      "cell_type": "code",
      "source": [
        "import numpy as np\n",
        "angle = np.pi / 4\n",
        "sin_value = np.sin(angle)\n",
        "cos_value = np.cos(angle)\n",
        "tan_value = np.tan(angle)\n",
        "print(f'Sine: {sin_value}')\n",
        "print(f'Cosine: {cos_value}')\n",
        "print(f'Tangent: {tan_value}')"
      ],
      "metadata": {
        "colab": {
          "base_uri": "https://localhost:8080/"
        },
        "id": "NJyi_VeEyXWu",
        "outputId": "1a422c43-9810-4ad4-ed18-7e9df994bfdb"
      },
      "execution_count": null,
      "outputs": [
        {
          "output_type": "stream",
          "name": "stdout",
          "text": [
            "Sine: 0.7071067811865475\n",
            "Cosine: 0.7071067811865476\n",
            "Tangent: 0.9999999999999999\n"
          ]
        }
      ]
    },
    {
      "cell_type": "code",
      "source": [
        "import numpy as np\n",
        "value = 0.7071\n",
        "arcsin_result = np.arcsin(value)\n",
        "arccos_result = np.arccos(value)\n",
        "arctan_result = np.arctan(value)\n",
        "arcsin_degrees = np.degrees(arcsin_result)\n",
        "arccos_degrees = np.degrees(arccos_result)\n",
        "arctan_degrees = np.degrees(arctan_result)\n",
        "print(f'Arcsin: {arcsin_result} radians or {arcsin_degrees} degrees')\n",
        "print(f'Arccos: {arccos_result} radians or {arccos_degrees} degrees')\n",
        "print(f'Arctan: {arctan_result} radians or {arctan_degrees} degrees')"
      ],
      "metadata": {
        "colab": {
          "base_uri": "https://localhost:8080/"
        },
        "id": "vc7LkSwCzWED",
        "outputId": "d06712e3-3e13-4cbc-cc73-0b59eb056df1"
      },
      "execution_count": null,
      "outputs": [
        {
          "output_type": "stream",
          "name": "stdout",
          "text": [
            "Arcsin: 0.7853885733974476 radians or 44.99945053347443 degrees\n",
            "Arccos: 0.785407753397449 radians or 45.00054946652557 degrees\n",
            "Arctan: 0.6154751878649041 radians or 35.26413065968046 degrees\n"
          ]
        }
      ]
    },
    {
      "cell_type": "code",
      "source": [
        "import numpy as np\n",
        "random_float = np.random.random()\n",
        "random_integer = np.random.randint(1, 10)\n",
        "random_array = np.random.random((3, 3))\n",
        "print(f'Random Float: {random_float}')\n",
        "print(f'Random Integer: {random_integer}')\n",
        "print(f'Random Array:\\n{random_array}')"
      ],
      "metadata": {
        "colab": {
          "base_uri": "https://localhost:8080/"
        },
        "id": "p--FRdymz2RD",
        "outputId": "2941a4f5-1971-47a0-d4e7-3548ce3fae4c"
      },
      "execution_count": null,
      "outputs": [
        {
          "output_type": "stream",
          "name": "stdout",
          "text": [
            "Random Float: 0.8076921382879966\n",
            "Random Integer: 3\n",
            "Random Array:\n",
            "[[0.45003349 0.41258678 0.00532783]\n",
            " [0.5188565  0.15715972 0.41324328]\n",
            " [0.36259107 0.00873107 0.94396279]]\n"
          ]
        }
      ]
    },
    {
      "cell_type": "code",
      "source": [
        "import numpy as np\n",
        "my_array = np.array([1, 2, 3, 4, 5])\n",
        "np.random.shuffle(my_array)\n",
        "print(my_array)"
      ],
      "metadata": {
        "colab": {
          "base_uri": "https://localhost:8080/"
        },
        "id": "hT7ywibP0rw0",
        "outputId": "a041bb16-9f57-41f3-9f58-2f70493b56f3"
      },
      "execution_count": null,
      "outputs": [
        {
          "output_type": "stream",
          "name": "stdout",
          "text": [
            "[2 4 3 1 5]\n"
          ]
        }
      ]
    },
    {
      "cell_type": "code",
      "source": [
        "import numpy as np\n",
        "data = np.array([1, 2, 3, 4, 5, 6, 7, 8, 9, 10])\n",
        "percentile_25 = np.percentile(data, 25)\n",
        "print(f'25th Percentile: {percentile_25}')"
      ],
      "metadata": {
        "colab": {
          "base_uri": "https://localhost:8080/"
        },
        "id": "Jn56Trxz00fi",
        "outputId": "8f7d5abc-dcfa-44e3-b501-3637771fde85"
      },
      "execution_count": null,
      "outputs": [
        {
          "output_type": "stream",
          "name": "stdout",
          "text": [
            "25th Percentile: 3.25\n"
          ]
        }
      ]
    },
    {
      "cell_type": "code",
      "source": [
        "import numpy as np\n",
        "x = np.array([1, 2, 3, 4, 5])\n",
        "y = np.array([5, 4, 3, 2, 1])\n",
        "correlation_coefficient = np.corrcoef(x, y)[0,1]\n",
        "\n",
        "print(f\"Correlation Coefficient: {correlation_coefficient}\")"
      ],
      "metadata": {
        "colab": {
          "base_uri": "https://localhost:8080/"
        },
        "id": "nad6-NXRFMCi",
        "outputId": "e5bd6a23-abe7-4567-93d5-aefd8b6c46fe"
      },
      "execution_count": null,
      "outputs": [
        {
          "output_type": "stream",
          "name": "stdout",
          "text": [
            "Correlation Coefficient: -0.9999999999999999\n"
          ]
        }
      ]
    },
    {
      "cell_type": "code",
      "source": [
        "import numpy as np\n",
        "\n",
        "arr1 = np.array([True, True, False, False])\n",
        "arr2 = np.array([True, False, True, False])\n",
        "\n",
        "result_and = np.logical_and(arr1, arr2)\n",
        "\n",
        "print(result_and)"
      ],
      "metadata": {
        "colab": {
          "base_uri": "https://localhost:8080/"
        },
        "id": "KqUc8r_6I7TF",
        "outputId": "51908d55-da46-4bb9-99b6-d11c491a7050"
      },
      "execution_count": null,
      "outputs": [
        {
          "output_type": "stream",
          "name": "stdout",
          "text": [
            "[ True False False False]\n"
          ]
        }
      ]
    },
    {
      "cell_type": "code",
      "source": [
        "import numpy as np\n",
        "\n",
        "arr1 = np.array([True, True, False, False])\n",
        "arr2 = np.array([True, False, True, False])\n",
        "\n",
        "result_or = np.logical_or(arr1, arr2)\n",
        "\n",
        "print(result_or)"
      ],
      "metadata": {
        "colab": {
          "base_uri": "https://localhost:8080/"
        },
        "id": "eXeCpYhiJLbG",
        "outputId": "2547f975-4b49-4d59-9ee9-bfa34ad9a413"
      },
      "execution_count": null,
      "outputs": [
        {
          "output_type": "stream",
          "name": "stdout",
          "text": [
            "[ True  True  True False]\n"
          ]
        }
      ]
    },
    {
      "cell_type": "code",
      "source": [],
      "metadata": {
        "id": "jh4xX0T5KM6t"
      },
      "execution_count": null,
      "outputs": []
    },
    {
      "cell_type": "code",
      "source": [
        "import numpy as np\n",
        "\n",
        "arr = np.array([True, False, True, False])\n",
        "\n",
        "result_not = np.logical_not(arr)\n",
        "\n",
        "print(result_not)"
      ],
      "metadata": {
        "colab": {
          "base_uri": "https://localhost:8080/"
        },
        "id": "Q36iuR-IJRLP",
        "outputId": "f6d3b301-0d37-4702-f7d9-1437fde3ea67"
      },
      "execution_count": null,
      "outputs": [
        {
          "output_type": "stream",
          "name": "stdout",
          "text": [
            "[False  True False  True]\n"
          ]
        }
      ]
    },
    {
      "cell_type": "code",
      "source": [
        "import numpy as np\n",
        "\n",
        "arr = np.array([3, 1, 4, 1, 5, 9, 2, 6, 5, 3, 5])\n",
        "sorted_arr = np.sort(arr)\n",
        "print(sorted_arr)\n",
        "desc_sorted_arr = np.sort(arr)[::-1]\n",
        "print(desc_sorted_arr)"
      ],
      "metadata": {
        "colab": {
          "base_uri": "https://localhost:8080/"
        },
        "id": "oPeycE6pK47o",
        "outputId": "84a25fc0-aa01-4941-f661-95eca438edbc"
      },
      "execution_count": null,
      "outputs": [
        {
          "output_type": "stream",
          "name": "stdout",
          "text": [
            "[1 1 2 3 3 4 5 5 5 6 9]\n",
            "[9 6 5 5 5 4 3 3 2 1 1]\n"
          ]
        }
      ]
    }
  ]
}